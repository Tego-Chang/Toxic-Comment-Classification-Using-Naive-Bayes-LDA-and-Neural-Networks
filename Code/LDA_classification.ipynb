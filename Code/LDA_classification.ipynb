{
 "cells": [
  {
   "cell_type": "markdown",
   "id": "c6be20bd",
   "metadata": {},
   "source": [
    "Please take 48 hours to solve it if you can. If it is too far outside of your comfort level we will understand completely. Just let us know.\n",
    "\n",
    "What we are testing here:\n",
    "Coding skills\n",
    "AI skills - does the candidate understand **when to use neural networks and when not to use neural networks.**\n",
    "Modeling and experimentation - The candidate knows how to improve the solutions by **selecting the right models**. \n",
    "Explainability - Can the candidate clearly **explain their solution**.\n",
    "Can the candidate look at related work (in this case other kernels on Kaggle) and build their own solution.\n",
    "\n",
    "Problem Statement: A Kaggle competition for a multi-class classification problem on text data - each text sample can belong to various classes. You must **create a model which predicts the probability of each class for each text sample.** The details can be found here - https://www.kaggle.com/c/jigsaw-toxic-comment-classification-challenge/data\n",
    "\n",
    "Data: You can use the training data provided in the Kaggle link. You may use a subset of data if you feel the data is too large. You can also split the data into training and validation sets. \n",
    "\n",
    "Metrics:  You can choose to use the metric provided in the contest or you can use any other metric which you feel is suitable. \n",
    "\n",
    "Challenge:  \n",
    "Design a classification system **using the traditional NLP techniques** - for instance - stop word removal, stemming... etc -  followed by **a standard ML algorithm like Trees**. \n",
    "Design a classification system using **Neural Networks - CNN, LSTM' s**, etc - whichever you feel is relevant. \n",
    "\n",
    "What we want to see:\n",
    "**Two python notebooks (one for task 1 and one for task 2) with detailed explanations about the approach with comments wherever required.** The code has to be clean and easy to understand. You don't need to provide additional documentation - the notebook itself should be self-explanatory (with comments and explanation). We might have a follow-up about the solution or the approach you came up with.\n",
    "\n",
    "We **don't want you to use the existing kernel on Kaggle.** You can use them as a reference for your solution. \n",
    "You can use any libraries for your solution. Also, you can use free GPU's (on Colab or any other source) to train your model. \n",
    "\n",
    "Please send us the two notebook files within 48 hours of receiving the challenge (which is this email itself).\n",
    "\n",
    "- Challenge 2 / Task 2 is optional. However, if you complete it, you would have a higher score compared to the rest of the candidates. \n"
   ]
  },
  {
   "cell_type": "code",
   "execution_count": 1,
   "id": "94cc8ce3",
   "metadata": {},
   "outputs": [],
   "source": [
    "import re\n",
    "import numpy as np\n",
    "import pandas as pd\n",
    "import random\n",
    "from pprint import pprint\n",
    "\n",
    "import nltk\n",
    "from nltk.corpus import stopwords\n",
    "stop_words = stopwords.words('english')\n",
    "stop_words.extend(['from', 'subject', 're', 'edu', 'use'])\n",
    "\n",
    "# Gensim\n",
    "import gensim\n",
    "import gensim.corpora as corpora\n",
    "from gensim.utils import simple_preprocess\n",
    "from gensim.models import CoherenceModel\n",
    "\n",
    "# spacy for lemmatization\n",
    "import spacy\n",
    "\n",
    "# Plotting tools\n",
    "import pyLDAvis\n",
    "import pyLDAvis.gensim_models as gensimvis\n",
    "pyLDAvis.enable_notebook()  # don't skip this\n",
    "\n",
    "import matplotlib.pyplot as plt\n",
    "%matplotlib inline\n",
    "\n",
    "# Enable logging for gensim - optional\n",
    "import logging\n",
    "logging.basicConfig(format='%(asctime)s : %(levelname)s : %(message)s', level=logging.ERROR)\n",
    "\n",
    "import warnings\n",
    "warnings.filterwarnings(\"ignore\",category=DeprecationWarning)"
   ]
  },
  {
   "cell_type": "markdown",
   "id": "5369b142",
   "metadata": {},
   "source": [
    "## Training Models"
   ]
  },
  {
   "cell_type": "code",
   "execution_count": 2,
   "id": "9c975e18",
   "metadata": {
    "scrolled": true
   },
   "outputs": [
    {
     "data": {
      "text/html": [
       "<div>\n",
       "<style scoped>\n",
       "    .dataframe tbody tr th:only-of-type {\n",
       "        vertical-align: middle;\n",
       "    }\n",
       "\n",
       "    .dataframe tbody tr th {\n",
       "        vertical-align: top;\n",
       "    }\n",
       "\n",
       "    .dataframe thead th {\n",
       "        text-align: right;\n",
       "    }\n",
       "</style>\n",
       "<table border=\"1\" class=\"dataframe\">\n",
       "  <thead>\n",
       "    <tr style=\"text-align: right;\">\n",
       "      <th></th>\n",
       "      <th>id</th>\n",
       "      <th>comment_text</th>\n",
       "      <th>toxic</th>\n",
       "      <th>severe_toxic</th>\n",
       "      <th>obscene</th>\n",
       "      <th>threat</th>\n",
       "      <th>insult</th>\n",
       "      <th>identity_hate</th>\n",
       "    </tr>\n",
       "  </thead>\n",
       "  <tbody>\n",
       "    <tr>\n",
       "      <th>0</th>\n",
       "      <td>0000997932d777bf</td>\n",
       "      <td>Explanation\\nWhy the edits made under my usern...</td>\n",
       "      <td>0</td>\n",
       "      <td>0</td>\n",
       "      <td>0</td>\n",
       "      <td>0</td>\n",
       "      <td>0</td>\n",
       "      <td>0</td>\n",
       "    </tr>\n",
       "    <tr>\n",
       "      <th>1</th>\n",
       "      <td>000103f0d9cfb60f</td>\n",
       "      <td>D'aww! He matches this background colour I'm s...</td>\n",
       "      <td>0</td>\n",
       "      <td>0</td>\n",
       "      <td>0</td>\n",
       "      <td>0</td>\n",
       "      <td>0</td>\n",
       "      <td>0</td>\n",
       "    </tr>\n",
       "    <tr>\n",
       "      <th>2</th>\n",
       "      <td>000113f07ec002fd</td>\n",
       "      <td>Hey man, I'm really not trying to edit war. It...</td>\n",
       "      <td>0</td>\n",
       "      <td>0</td>\n",
       "      <td>0</td>\n",
       "      <td>0</td>\n",
       "      <td>0</td>\n",
       "      <td>0</td>\n",
       "    </tr>\n",
       "    <tr>\n",
       "      <th>3</th>\n",
       "      <td>0001b41b1c6bb37e</td>\n",
       "      <td>\"\\nMore\\nI can't make any real suggestions on ...</td>\n",
       "      <td>0</td>\n",
       "      <td>0</td>\n",
       "      <td>0</td>\n",
       "      <td>0</td>\n",
       "      <td>0</td>\n",
       "      <td>0</td>\n",
       "    </tr>\n",
       "    <tr>\n",
       "      <th>4</th>\n",
       "      <td>0001d958c54c6e35</td>\n",
       "      <td>You, sir, are my hero. Any chance you remember...</td>\n",
       "      <td>0</td>\n",
       "      <td>0</td>\n",
       "      <td>0</td>\n",
       "      <td>0</td>\n",
       "      <td>0</td>\n",
       "      <td>0</td>\n",
       "    </tr>\n",
       "  </tbody>\n",
       "</table>\n",
       "</div>"
      ],
      "text/plain": [
       "                 id                                       comment_text  toxic  \\\n",
       "0  0000997932d777bf  Explanation\\nWhy the edits made under my usern...      0   \n",
       "1  000103f0d9cfb60f  D'aww! He matches this background colour I'm s...      0   \n",
       "2  000113f07ec002fd  Hey man, I'm really not trying to edit war. It...      0   \n",
       "3  0001b41b1c6bb37e  \"\\nMore\\nI can't make any real suggestions on ...      0   \n",
       "4  0001d958c54c6e35  You, sir, are my hero. Any chance you remember...      0   \n",
       "\n",
       "   severe_toxic  obscene  threat  insult  identity_hate  \n",
       "0             0        0       0       0              0  \n",
       "1             0        0       0       0              0  \n",
       "2             0        0       0       0              0  \n",
       "3             0        0       0       0              0  \n",
       "4             0        0       0       0              0  "
      ]
     },
     "execution_count": 2,
     "metadata": {},
     "output_type": "execute_result"
    }
   ],
   "source": [
    "df = pd.read_csv(\"dataSet/train.csv\")\n",
    "df.head()"
   ]
  },
  {
   "cell_type": "code",
   "execution_count": 3,
   "id": "06503137",
   "metadata": {},
   "outputs": [],
   "source": [
    "# Create new culumn inicating total number of categories per comment\n",
    "df['sum'] = df['toxic']+df['severe_toxic']+df['obscene']+df['threat']+df['insult']+df['identity_hate']"
   ]
  },
  {
   "cell_type": "code",
   "execution_count": 4,
   "id": "e4054d48",
   "metadata": {},
   "outputs": [
    {
     "data": {
      "text/plain": [
       "0    143346\n",
       "1      6360\n",
       "3      4209\n",
       "2      3480\n",
       "4      1760\n",
       "5       385\n",
       "6        31\n",
       "Name: sum, dtype: int64"
      ]
     },
     "execution_count": 4,
     "metadata": {},
     "output_type": "execute_result"
    }
   ],
   "source": [
    "# sampling the neutral comments to have a relatively balanced dataset to create corpus\n",
    "df['sum'].value_counts()"
   ]
  },
  {
   "cell_type": "code",
   "execution_count": 5,
   "id": "119b33e9",
   "metadata": {},
   "outputs": [],
   "source": [
    "toxic_counts = sum(df['sum'].value_counts()[1:])\n",
    "\n",
    "idx_neu = df['sum'][df['sum'] == 0 ].sample(toxic_counts).index\n",
    "df_neu = df.loc[idx_neu]\n",
    "\n",
    "df_tox = df[df['sum'] != 0]\n",
    "\n",
    "df_sample = df_tox.append(df_neu, ignore_index=0)"
   ]
  },
  {
   "cell_type": "code",
   "execution_count": 6,
   "id": "1dc86efa",
   "metadata": {},
   "outputs": [
    {
     "data": {
      "text/html": [
       "<div>\n",
       "<style scoped>\n",
       "    .dataframe tbody tr th:only-of-type {\n",
       "        vertical-align: middle;\n",
       "    }\n",
       "\n",
       "    .dataframe tbody tr th {\n",
       "        vertical-align: top;\n",
       "    }\n",
       "\n",
       "    .dataframe thead th {\n",
       "        text-align: right;\n",
       "    }\n",
       "</style>\n",
       "<table border=\"1\" class=\"dataframe\">\n",
       "  <thead>\n",
       "    <tr style=\"text-align: right;\">\n",
       "      <th></th>\n",
       "      <th>id</th>\n",
       "      <th>comment_text</th>\n",
       "      <th>toxic</th>\n",
       "      <th>severe_toxic</th>\n",
       "      <th>obscene</th>\n",
       "      <th>threat</th>\n",
       "      <th>insult</th>\n",
       "      <th>identity_hate</th>\n",
       "      <th>sum</th>\n",
       "    </tr>\n",
       "  </thead>\n",
       "  <tbody>\n",
       "    <tr>\n",
       "      <th>6</th>\n",
       "      <td>0002bcb3da6cb337</td>\n",
       "      <td>COCKSUCKER BEFORE YOU PISS AROUND ON MY WORK</td>\n",
       "      <td>1</td>\n",
       "      <td>1</td>\n",
       "      <td>1</td>\n",
       "      <td>0</td>\n",
       "      <td>1</td>\n",
       "      <td>0</td>\n",
       "      <td>4</td>\n",
       "    </tr>\n",
       "    <tr>\n",
       "      <th>12</th>\n",
       "      <td>0005c987bdfc9d4b</td>\n",
       "      <td>Hey... what is it..\\n@ | talk .\\nWhat is it......</td>\n",
       "      <td>1</td>\n",
       "      <td>0</td>\n",
       "      <td>0</td>\n",
       "      <td>0</td>\n",
       "      <td>0</td>\n",
       "      <td>0</td>\n",
       "      <td>1</td>\n",
       "    </tr>\n",
       "    <tr>\n",
       "      <th>16</th>\n",
       "      <td>0007e25b2121310b</td>\n",
       "      <td>Bye! \\n\\nDon't look, come or think of comming ...</td>\n",
       "      <td>1</td>\n",
       "      <td>0</td>\n",
       "      <td>0</td>\n",
       "      <td>0</td>\n",
       "      <td>0</td>\n",
       "      <td>0</td>\n",
       "      <td>1</td>\n",
       "    </tr>\n",
       "    <tr>\n",
       "      <th>42</th>\n",
       "      <td>001810bf8c45bf5f</td>\n",
       "      <td>You are gay or antisemmitian? \\n\\nArchangel WH...</td>\n",
       "      <td>1</td>\n",
       "      <td>0</td>\n",
       "      <td>1</td>\n",
       "      <td>0</td>\n",
       "      <td>1</td>\n",
       "      <td>1</td>\n",
       "      <td>4</td>\n",
       "    </tr>\n",
       "    <tr>\n",
       "      <th>43</th>\n",
       "      <td>00190820581d90ce</td>\n",
       "      <td>FUCK YOUR FILTHY MOTHER IN THE ASS, DRY!</td>\n",
       "      <td>1</td>\n",
       "      <td>0</td>\n",
       "      <td>1</td>\n",
       "      <td>0</td>\n",
       "      <td>1</td>\n",
       "      <td>0</td>\n",
       "      <td>3</td>\n",
       "    </tr>\n",
       "  </tbody>\n",
       "</table>\n",
       "</div>"
      ],
      "text/plain": [
       "                  id                                       comment_text  \\\n",
       "6   0002bcb3da6cb337       COCKSUCKER BEFORE YOU PISS AROUND ON MY WORK   \n",
       "12  0005c987bdfc9d4b  Hey... what is it..\\n@ | talk .\\nWhat is it......   \n",
       "16  0007e25b2121310b  Bye! \\n\\nDon't look, come or think of comming ...   \n",
       "42  001810bf8c45bf5f  You are gay or antisemmitian? \\n\\nArchangel WH...   \n",
       "43  00190820581d90ce           FUCK YOUR FILTHY MOTHER IN THE ASS, DRY!   \n",
       "\n",
       "    toxic  severe_toxic  obscene  threat  insult  identity_hate  sum  \n",
       "6       1             1        1       0       1              0    4  \n",
       "12      1             0        0       0       0              0    1  \n",
       "16      1             0        0       0       0              0    1  \n",
       "42      1             0        1       0       1              1    4  \n",
       "43      1             0        1       0       1              0    3  "
      ]
     },
     "execution_count": 6,
     "metadata": {},
     "output_type": "execute_result"
    }
   ],
   "source": [
    "df_sample.head()"
   ]
  },
  {
   "cell_type": "code",
   "execution_count": 7,
   "id": "888ff570",
   "metadata": {},
   "outputs": [
    {
     "data": {
      "image/png": "[encoded data removed]",
      "text/plain": [
       "<Figure size 432x288 with 1 Axes>"
      ]
     },
     "metadata": {
      "needs_background": "light"
     },
     "output_type": "display_data"
    }
   ],
   "source": [
    "_ = plt.hist(df_sample['sum'])"
   ]
  },
  {
   "cell_type": "code",
   "execution_count": 8,
   "id": "08720701",
   "metadata": {},
   "outputs": [
    {
     "name": "stdout",
     "output_type": "stream",
     "text": [
      "Great, so what's next?\n",
      "id                     4f76fced4d490f3d\n",
      "comment_text     Great, so what's next?\n",
      "toxic                                 0\n",
      "severe_toxic                          0\n",
      "obscene                               0\n",
      "threat                                0\n",
      "insult                                0\n",
      "identity_hate                         0\n",
      "sum                                   0\n",
      "Name: 29922, dtype: object\n"
     ]
    }
   ],
   "source": [
    "data = df_sample.comment_text.values.tolist()\n",
    "print(data[-1])\n",
    "print(df_sample.iloc[-1,:])"
   ]
  },
  {
   "cell_type": "code",
   "execution_count": 9,
   "id": "0d0547d1",
   "metadata": {},
   "outputs": [
    {
     "name": "stdout",
     "output_type": "stream",
     "text": [
      "COCKSUCKER BEFORE YOU PISS AROUND ON MY WORK\n",
      "id                                           0002bcb3da6cb337\n",
      "comment_text     COCKSUCKER BEFORE YOU PISS AROUND ON MY WORK\n",
      "toxic                                                       1\n",
      "severe_toxic                                                1\n",
      "obscene                                                     1\n",
      "threat                                                      0\n",
      "insult                                                      1\n",
      "identity_hate                                               0\n",
      "sum                                                         4\n",
      "Name: 6, dtype: object\n"
     ]
    }
   ],
   "source": [
    "data_tox = df_sample[df_sample['sum']!=0].comment_text.values.tolist()\n",
    "print(data_tox[0])\n",
    "print(df_sample.iloc[0,:])"
   ]
  },
  {
   "cell_type": "markdown",
   "id": "0e641a84",
   "metadata": {},
   "source": [
    "### Binary Classification"
   ]
  },
  {
   "cell_type": "code",
   "execution_count": 10,
   "id": "88186244",
   "metadata": {},
   "outputs": [],
   "source": [
    "#Tokenize words and Clean-up text\n",
    "def sent_to_words(sentences):\n",
    "    for sentence in sentences:\n",
    "        yield(gensim.utils.simple_preprocess(str(sentence), deacc=True))  # deacc=True: removes punctuations"
   ]
  },
  {
   "cell_type": "code",
   "execution_count": 11,
   "id": "68432385",
   "metadata": {},
   "outputs": [],
   "source": [
    "data_words = list(sent_to_words(data))"
   ]
  },
  {
   "cell_type": "code",
   "execution_count": 12,
   "id": "2f9c556e",
   "metadata": {},
   "outputs": [
    {
     "name": "stdout",
     "output_type": "stream",
     "text": [
      "['great', 'so', 'what', 'next']\n"
     ]
    }
   ],
   "source": [
    "print(data_words[-1])"
   ]
  },
  {
   "cell_type": "code",
   "execution_count": 13,
   "id": "53dd2017",
   "metadata": {},
   "outputs": [],
   "source": [
    "# Build the bigram and trigram models\n",
    "bigram = gensim.models.Phrases(data_words, min_count=5, threshold=100) # higher threshold fewer phrases.\n",
    "trigram = gensim.models.Phrases(bigram[data_words], threshold=100)  \n",
    "\n",
    "# Faster way to get a sentence clubbed as a trigram/bigram\n",
    "bigram_mod = gensim.models.phrases.Phraser(bigram)\n",
    "trigram_mod = gensim.models.phrases.Phraser(trigram)"
   ]
  },
  {
   "cell_type": "code",
   "execution_count": 14,
   "id": "e4158be4",
   "metadata": {},
   "outputs": [],
   "source": [
    "# Define functions for stopwords, bigrams, trigrams and lemmatization\n",
    "def remove_stopwords(texts):\n",
    "    return [[word for word in simple_preprocess(str(doc)) if word not in stop_words] for doc in texts]\n",
    "\n",
    "def make_bigrams(texts):\n",
    "    return [bigram_mod[doc] for doc in texts]\n",
    "\n",
    "def make_trigrams(texts):\n",
    "    return [trigram_mod[bigram_mod[doc]] for doc in texts]\n",
    "\n",
    "def lemmatization(texts, allowed_postags=['NOUN', 'ADJ', 'VERB', 'ADV']):\n",
    "    \"\"\"https://spacy.io/api/annotation\"\"\"\n",
    "    texts_out = []\n",
    "    for sent in texts:\n",
    "        doc = nlp(\" \".join(sent)) \n",
    "        texts_out.append([token.lemma_ for token in doc if token.pos_ in allowed_postags])\n",
    "    return texts_out"
   ]
  },
  {
   "cell_type": "code",
   "execution_count": 15,
   "id": "7c7d679a",
   "metadata": {},
   "outputs": [],
   "source": [
    "# Remove Stop Words\n",
    "data_words_nostops = remove_stopwords(data_words)\n",
    "\n",
    "# Form Bigrams\n",
    "data_words_bigrams = make_bigrams(data_words_nostops)\n",
    "\n",
    "# Initialize spacy 'en_core_web_sm' model, keeping only tagger component (for efficiency)\n",
    "# python3 -m spacy download en_core_web_sm\n",
    "nlp = spacy.load('en_core_web_sm', disable=['parser', 'ner'])\n",
    "\n",
    "# Do lemmatization keeping only noun, adj, vb, adv\n",
    "data_lemmatized = lemmatization(data_words_bigrams) #, allowed_postags=['NOUN', 'ADJ', 'VERB', 'ADV'])"
   ]
  },
  {
   "cell_type": "code",
   "execution_count": 16,
   "id": "2115328c",
   "metadata": {},
   "outputs": [
    {
     "name": "stdout",
     "output_type": "stream",
     "text": [
      "[['piss', 'work']]\n"
     ]
    }
   ],
   "source": [
    "print(data_lemmatized[:1])"
   ]
  },
  {
   "cell_type": "code",
   "execution_count": 17,
   "id": "a801a275",
   "metadata": {},
   "outputs": [],
   "source": [
    "# Create Dictionary\n",
    "id2word = corpora.Dictionary(data_words_bigrams)\n",
    "\n",
    "# Create Corpus\n",
    "texts = data_words_bigrams\n",
    "\n",
    "# Term Document Frequency\n",
    "corpus = [id2word.doc2bow(text) for text in texts]"
   ]
  },
  {
   "cell_type": "code",
   "execution_count": 18,
   "id": "e6ebd76c",
   "metadata": {},
   "outputs": [
    {
     "name": "stdout",
     "output_type": "stream",
     "text": [
      "[[(0, 1), (1, 1), (2, 1), (3, 1)]]\n"
     ]
    },
    {
     "data": {
      "text/plain": [
       "[[('around', 1), ('cocksucker', 1), ('piss', 1), ('work', 1)]]"
      ]
     },
     "execution_count": 18,
     "metadata": {},
     "output_type": "execute_result"
    }
   ],
   "source": [
    "# View\n",
    "print(corpus[:1])\n",
    "\n",
    "# Human readable format of corpus (term-frequency)\n",
    "[[(id2word[id], freq) for id, freq in cp] for cp in corpus[:1]]"
   ]
  },
  {
   "cell_type": "code",
   "execution_count": 19,
   "id": "84ba49ea",
   "metadata": {},
   "outputs": [],
   "source": [
    "# Build LDA model\n",
    "lda_model = gensim.models.ldamodel.LdaModel(corpus=corpus,\n",
    "                                           id2word=id2word,\n",
    "                                           num_topics=2,\n",
    "                                           random_state=0)"
   ]
  },
  {
   "cell_type": "code",
   "execution_count": 20,
   "id": "8d632cfe",
   "metadata": {
    "scrolled": true
   },
   "outputs": [
    {
     "name": "stdout",
     "output_type": "stream",
     "text": [
      "[(0,\n",
      "  '0.014*\"oh_bob\" + 0.014*\"bob_saget\" + 0.014*\"saget_oh\" + 0.011*\"lol_lol\" + '\n",
      "  '0.009*\"fuck\" + 0.007*\"go\" + 0.006*\"tacos_tacos\" + 0.004*\"know\" + '\n",
      "  '0.004*\"get\" + 0.004*\"hate\"'),\n",
      " (1,\n",
      "  '0.011*\"article\" + 0.010*\"wikipedia\" + 0.010*\"page\" + 0.007*\"talk\" + '\n",
      "  '0.006*\"please\" + 0.006*\"one\" + 0.006*\"like\" + 0.005*\"would\" + 0.004*\"see\" + '\n",
      "  '0.004*\"also\"')]\n"
     ]
    }
   ],
   "source": [
    "# Print the Keyword in the topics\n",
    "pprint(lda_model.print_topics())"
   ]
  },
  {
   "cell_type": "code",
   "execution_count": 21,
   "id": "e0542a26",
   "metadata": {},
   "outputs": [
    {
     "name": "stdout",
     "output_type": "stream",
     "text": [
      "\n",
      "Perplexity:  -8.83488092612311\n",
      "\n",
      "Coherence Score:  0.5863203162774752\n"
     ]
    }
   ],
   "source": [
    "# Compute Perplexity\n",
    "print('\\nPerplexity: ', lda_model.log_perplexity(corpus))  # a measure of how good the model is. lower the better.\n",
    "\n",
    "# Compute Coherence Score\n",
    "coherence_model_lda = CoherenceModel(model=lda_model, texts=data_words_bigrams, dictionary=id2word, coherence='c_v')\n",
    "coherence_lda = coherence_model_lda.get_coherence()\n",
    "print('\\nCoherence Score: ', coherence_lda)"
   ]
  },
  {
   "cell_type": "code",
   "execution_count": 22,
   "id": "b2cd41c1",
   "metadata": {
    "scrolled": false
   },
   "outputs": [
    {
     "name": "stderr",
     "output_type": "stream",
     "text": [
      "/Users/tegochang/opt/miniconda3/lib/python3.9/site-packages/pyLDAvis/_prepare.py:246: FutureWarning: In a future version of pandas all arguments of DataFrame.drop except for the argument 'labels' will be keyword-only\n",
      "  default_term_info = default_term_info.sort_values(\n",
      "/Users/tegochang/opt/miniconda3/lib/python3.9/site-packages/past/builtins/misc.py:45: DeprecationWarning: the imp module is deprecated in favour of importlib; see the module's documentation for alternative uses\n",
      "  from imp import reload\n",
      "/Users/tegochang/opt/miniconda3/lib/python3.9/site-packages/past/builtins/misc.py:45: DeprecationWarning: the imp module is deprecated in favour of importlib; see the module's documentation for alternative uses\n",
      "  from imp import reload\n",
      "/Users/tegochang/opt/miniconda3/lib/python3.9/site-packages/past/builtins/misc.py:45: DeprecationWarning: the imp module is deprecated in favour of importlib; see the module's documentation for alternative uses\n",
      "  from imp import reload\n",
      "/Users/tegochang/opt/miniconda3/lib/python3.9/site-packages/past/builtins/misc.py:45: DeprecationWarning: the imp module is deprecated in favour of importlib; see the module's documentation for alternative uses\n",
      "  from imp import reload\n",
      "/Users/tegochang/opt/miniconda3/lib/python3.9/site-packages/past/builtins/misc.py:45: DeprecationWarning: the imp module is deprecated in favour of importlib; see the module's documentation for alternative uses\n",
      "  from imp import reload\n",
      "/Users/tegochang/opt/miniconda3/lib/python3.9/site-packages/past/builtins/misc.py:45: DeprecationWarning: the imp module is deprecated in favour of importlib; see the module's documentation for alternative uses\n",
      "  from imp import reload\n",
      "/Users/tegochang/opt/miniconda3/lib/python3.9/site-packages/past/builtins/misc.py:45: DeprecationWarning: the imp module is deprecated in favour of importlib; see the module's documentation for alternative uses\n",
      "  from imp import reload\n",
      "/Users/tegochang/opt/miniconda3/lib/python3.9/site-packages/past/builtins/misc.py:45: DeprecationWarning: the imp module is deprecated in favour of importlib; see the module's documentation for alternative uses\n",
      "  from imp import reload\n"
     ]
    },
    {
     "data": {
      "text/html": [
       "\n",
       "<link rel=\"stylesheet\" type=\"text/css\" href=\"https://cdn.jsdelivr.net/gh/bmabey/pyLDAvis@3.3.1/pyLDAvis/js/ldavis.v1.0.0.css\">\n",
       "\n",
       "\n",
       "<div id=\"ldavis_el9703063554896166178197083\"></div>\n",
       "<script type=\"text/javascript\">\n",
       "\n",
       "var ldavis_el9703063554896166178197083_data = {\"mdsDat\": {\"x\": [0.18018387539563432, -0.18018387539563432], \"y\": [0.0, 0.0], \"topics\": [1, 2], \"cluster\": [1, 1], \"Freq\": [82.05537529145923, 17.944624708540772]}, \"tinfo\": {\"Term\": [\"oh_bob\", \"bob_saget\", \"saget_oh\", \"lol_lol\", \"fuck\", \"go\", \"tacos_tacos\", \"article\", \"get\", \"know\", \"hate\", \"de\", \"gay\", \"suck\", \"love\", \"fucking\", \"ass\", \"hey\", \"talk\", \"dog\", \"page\", \"im\", \"stupid\", \"da\", \"mpla\", \"mother\", \"bitch\", \"em\", \"org_wiki\", \"dont\", \"image\", \"questions\", \"section\", \"criteria\", \"content\", \"sources\", \"links\", \"editors\", \"fair\", \"wp\", \"pov\", \"welcome\", \"template\", \"interest\", \"policy\", \"view\", \"tag\", \"discussion\", \"however\", \"position\", \"topic\", \"speedy_deletion\", \"consensus\", \"entry\", \"style\", \"term\", \"guidelines\", \"notable\", \"category\", \"request\", \"article\", \"talk\", \"page\", \"articles\", \"please\", \"would\", \"may\", \"help\", \"thank\", \"source\", \"used\", \"edit\", \"add\", \"deletion\", \"pages\", \"point\", \"many\", \"note\", \"also\", \"people\", \"see\", \"first\", \"link\", \"like\", \"think\", \"information\", \"could\", \"editing\", \"wikipedia\", \"time\", \"one\", \"make\", \"even\", \"user\", \"way\", \"thanks\", \"well\", \"know\", \"good\", \"get\", \"oh_bob\", \"bob_saget\", \"saget_oh\", \"tacos_tacos\", \"lol_lol\", \"huge_faggot\", \"suck\", \"bad_admin\", \"dickhead\", \"aids_aids\", \"freedom_freedom\", \"mothjer_fucker\", \"bastered_bastered\", \"guys_love\", \"nipple_nipple\", \"cocksucker\", \"chicken_rice\", \"love_chicken\", \"rice_hey\", \"super_gay\", \"fucksex_fucksex\", \"youbollocks\", \"veggietales_sucks\", \"sucks_cocks\", \"hey_guys\", \"cuntbag\", \"yourselfgo\", \"pei\", \"buttsecks_buttsecks\", \"fack\", \"fuck\", \"mpla\", \"hate\", \"nigger\", \"ass\", \"dos_santos\", \"bitch\", \"cock\", \"jose_eduardo\", \"pussy\", \"engineer_degree\", \"dont_care\", \"gay\", \"em\", \"fat\", \"da\", \"dog\", \"dick\", \"im\", \"loser\", \"fucking\", \"mother\", \"shut\", \"go\", \"love\", \"son\", \"de\", \"hey\", \"stupid\", \"get\", \"know\", \"org_wiki\", \"wikipedia\", \"dont\", \"want\", \"one\"], \"Freq\": [2472.0, 2445.0, 2445.0, 1916.0, 1585.0, 1955.0, 1041.0, 8761.0, 2421.0, 3511.0, 618.0, 691.0, 503.0, 481.0, 573.0, 450.0, 399.0, 514.0, 5920.0, 369.0, 7764.0, 369.0, 430.0, 323.0, 289.0, 308.0, 284.0, 289.0, 383.0, 479.0, 1620.537405184953, 908.2711307568204, 1626.3727827853795, 591.6100262652449, 1098.143594846992, 1467.5877283223665, 868.5835258573183, 1051.6970465701643, 790.0499340909585, 1435.5878691481907, 568.8818377700927, 1171.4556821374892, 662.4745677838073, 443.52062234218647, 888.4447376092401, 746.3966371484323, 760.472448399563, 1544.0397371410506, 965.1646383811161, 463.29056157850596, 458.7487089098156, 616.6259991789022, 677.4083039337318, 457.779254233527, 522.7438337747449, 564.2683726948477, 512.2744582281756, 634.4086137473729, 472.88350048808934, 672.8135343360158, 8734.151538342247, 5877.9345706804415, 7677.910526101018, 2736.9389023301273, 4509.034250770361, 4214.69742977661, 2332.5716168305885, 1783.5437790434444, 1632.420011841245, 1496.659425554126, 1653.3499434462124, 2476.298038329423, 1328.0564433635027, 1267.0756541899932, 1626.96258605681, 1269.1580639646847, 1442.8974793181885, 959.8132301940694, 3378.2237310865985, 2982.7327092130868, 3434.6269302903916, 1911.2736701329236, 1251.603699587471, 4347.784241233243, 3087.942772215452, 1855.4834253570098, 1771.4454624056386, 1551.9239920871855, 8160.593764122365, 2389.7275960976376, 4468.707508587472, 1988.9020700560736, 2083.905045415286, 1951.5846107328396, 1826.8195375834869, 2286.6138151898995, 1820.759263034702, 2834.0703141679237, 1711.6974723130213, 1804.624560644002, 2472.081989458988, 2445.509758946629, 2445.509758946629, 1040.6803326575352, 1915.7606603260976, 198.41837721682327, 480.51038982666574, 139.00702057209327, 128.7477507857579, 114.80109681139459, 111.6562172766329, 102.22241244489155, 106.1628717135553, 97.54561147473586, 117.55145125121358, 112.21600010791265, 88.57329472319175, 88.57329472319175, 88.57329472319175, 87.6950007347763, 83.31697663064732, 84.61282491347981, 82.68271179304143, 76.45772580016397, 89.8137172227746, 69.71175753564457, 66.58035397518817, 79.96220239210503, 66.38050974646714, 64.06345584759782, 1568.6930145695214, 286.8149021153039, 607.5584802139663, 225.48030343953153, 393.822395461053, 190.46426751379448, 280.94729313464006, 202.56375366763646, 189.582598253395, 150.9711944830041, 124.5197906713117, 137.27140749973455, 480.72311232527824, 278.9915641107515, 132.86416619749383, 304.92241258252614, 346.1793063158275, 207.0181684140349, 330.65616927951913, 182.1840824280229, 387.65858627288605, 276.4918537521036, 148.2542009903844, 1155.0429856563856, 426.6182256938672, 196.6087090698626, 472.99852111716336, 337.712235634845, 292.680863641785, 616.7579849154829, 677.1473868902992, 234.966987532356, 572.7979202319726, 221.83766169619662, 250.4965335672531, 255.75082750115234], \"Total\": [2472.0, 2445.0, 2445.0, 1916.0, 1585.0, 1955.0, 1041.0, 8761.0, 2421.0, 3511.0, 618.0, 691.0, 503.0, 481.0, 573.0, 450.0, 399.0, 514.0, 5920.0, 369.0, 7764.0, 369.0, 430.0, 323.0, 289.0, 308.0, 284.0, 289.0, 383.0, 479.0, 1622.5216289191865, 909.4012045118814, 1629.1555190547156, 592.6592661489011, 1100.1932212252043, 1470.3405049718795, 870.240209927171, 1053.8071147085045, 791.6723382116836, 1438.611678380067, 570.0865094465821, 1173.9666247244877, 663.902401224366, 444.4960340371993, 890.4026642327868, 748.0572285853224, 762.2302953540996, 1547.6116435178594, 967.4805510224243, 464.43578874145163, 459.95010396380206, 618.2446243260277, 679.1950390978162, 458.9867443657168, 524.1504678577559, 565.7999833490601, 513.6778129418803, 636.1533410272417, 474.20152708919153, 674.7259195874885, 8761.618170725837, 5920.167083767091, 7764.961382295819, 2745.8410572476896, 4552.650052779679, 4258.03304905217, 2345.8229358955664, 1793.199337235446, 1641.4260649887694, 1504.0228005037136, 1663.9303123493407, 2503.4357373990824, 1335.2429668690788, 1273.401713757205, 1639.792233447596, 1277.0592887560636, 1453.8648869429082, 963.3531129245208, 3439.664053125454, 3038.0867578876105, 3511.6324546972014, 1933.034161625295, 1259.9804421889123, 4496.103807981961, 3172.3084388197203, 1885.5917681020705, 1798.5284464078009, 1569.2309591113715, 8733.391684354337, 2454.6732285009775, 4724.4583360886245, 2037.3460680476642, 2143.064371706423, 1997.2389715432612, 1863.4095000035502, 2452.335259652131, 1891.9010258690919, 3511.2177010582227, 1760.7215650405096, 2421.382545559485, 2472.5496715644094, 2445.976691515776, 2445.976691515776, 1041.104385731808, 1916.5671146151285, 198.84851553517473, 481.95614190185387, 139.49162342863116, 129.20574763904298, 115.2154858963352, 112.08707377535147, 102.62161809335885, 106.58067621491008, 97.95151315703069, 118.06331374036895, 112.70600138406948, 88.97630192777342, 88.97630192777342, 88.97630192777342, 88.11019699882533, 83.73437368463955, 85.03678315744051, 83.10528118114041, 76.86003191536666, 90.29678076892539, 70.1120409032449, 66.98080506773496, 80.45586540125291, 66.7978318423461, 64.48093745936595, 1585.22319722186, 289.2294053101986, 618.4543384466161, 227.31046655790806, 399.7719674182251, 192.1234365968772, 284.62609342866654, 204.58124029600737, 191.3514421361749, 152.38513345569936, 125.63402207626096, 139.11725233987593, 503.0390285059559, 289.73803795611553, 134.97577060969465, 323.2670900889472, 369.71933128094787, 220.34854199806756, 369.52239618270664, 192.66220210092564, 450.4885511003172, 308.7757050388667, 153.8136473238979, 1955.7907751593414, 573.1245085228271, 219.40467584837518, 691.3395810331562, 514.1899642609189, 430.4779133856632, 2421.382545559485, 3511.2177010582227, 383.7595963488346, 8733.391684354337, 479.3299454524628, 1833.9636088370953, 4724.4583360886245], \"Category\": [\"Default\", \"Default\", \"Default\", \"Default\", \"Default\", \"Default\", \"Default\", \"Default\", \"Default\", \"Default\", \"Default\", \"Default\", \"Default\", \"Default\", \"Default\", \"Default\", \"Default\", \"Default\", \"Default\", \"Default\", \"Default\", \"Default\", \"Default\", \"Default\", \"Default\", \"Default\", \"Default\", \"Default\", \"Default\", \"Default\", \"Topic1\", \"Topic1\", \"Topic1\", \"Topic1\", \"Topic1\", \"Topic1\", \"Topic1\", \"Topic1\", \"Topic1\", \"Topic1\", \"Topic1\", \"Topic1\", \"Topic1\", \"Topic1\", \"Topic1\", \"Topic1\", \"Topic1\", \"Topic1\", \"Topic1\", \"Topic1\", \"Topic1\", \"Topic1\", \"Topic1\", \"Topic1\", \"Topic1\", \"Topic1\", \"Topic1\", \"Topic1\", \"Topic1\", \"Topic1\", \"Topic1\", \"Topic1\", \"Topic1\", \"Topic1\", \"Topic1\", \"Topic1\", \"Topic1\", \"Topic1\", \"Topic1\", \"Topic1\", \"Topic1\", \"Topic1\", \"Topic1\", \"Topic1\", \"Topic1\", \"Topic1\", \"Topic1\", \"Topic1\", \"Topic1\", \"Topic1\", \"Topic1\", \"Topic1\", \"Topic1\", \"Topic1\", \"Topic1\", \"Topic1\", \"Topic1\", \"Topic1\", \"Topic1\", \"Topic1\", \"Topic1\", \"Topic1\", \"Topic1\", \"Topic1\", \"Topic1\", \"Topic1\", \"Topic1\", \"Topic1\", \"Topic1\", \"Topic1\", \"Topic2\", \"Topic2\", \"Topic2\", \"Topic2\", \"Topic2\", \"Topic2\", \"Topic2\", \"Topic2\", \"Topic2\", \"Topic2\", \"Topic2\", \"Topic2\", \"Topic2\", \"Topic2\", \"Topic2\", \"Topic2\", \"Topic2\", \"Topic2\", \"Topic2\", \"Topic2\", \"Topic2\", \"Topic2\", \"Topic2\", \"Topic2\", \"Topic2\", \"Topic2\", \"Topic2\", \"Topic2\", \"Topic2\", \"Topic2\", \"Topic2\", \"Topic2\", \"Topic2\", \"Topic2\", \"Topic2\", \"Topic2\", \"Topic2\", \"Topic2\", \"Topic2\", \"Topic2\", \"Topic2\", \"Topic2\", \"Topic2\", \"Topic2\", \"Topic2\", \"Topic2\", \"Topic2\", \"Topic2\", \"Topic2\", \"Topic2\", \"Topic2\", \"Topic2\", \"Topic2\", \"Topic2\", \"Topic2\", \"Topic2\", \"Topic2\", \"Topic2\", \"Topic2\", \"Topic2\", \"Topic2\", \"Topic2\", \"Topic2\", \"Topic2\", \"Topic2\", \"Topic2\"], \"logprob\": [30.0, 29.0, 28.0, 27.0, 26.0, 25.0, 24.0, 23.0, 22.0, 21.0, 20.0, 19.0, 18.0, 17.0, 16.0, 15.0, 14.0, 13.0, 12.0, 11.0, 10.0, 9.0, 8.0, 7.0, 6.0, 5.0, 4.0, 3.0, 2.0, 1.0, -6.1882, -6.7672, -6.1846, -7.1959, -6.5773, -6.2873, -6.8119, -6.6206, -6.9066, -6.3094, -7.235, -6.5127, -7.0827, -7.484, -6.7892, -6.9635, -6.9448, -6.2366, -6.7064, -7.4404, -7.4502, -7.1545, -7.0604, -7.4523, -7.3196, -7.2432, -7.3399, -7.126, -7.4199, -7.0672, -4.5037, -4.8998, -4.6326, -5.6641, -5.1649, -5.2324, -5.824, -6.0924, -6.1809, -6.2677, -6.1682, -5.7642, -6.3872, -6.4343, -6.1842, -6.4326, -6.3043, -6.712, -5.4536, -5.5781, -5.4371, -6.0232, -6.4465, -5.2013, -5.5435, -6.0528, -6.0992, -6.2315, -4.5716, -5.7998, -5.1739, -5.9834, -5.9367, -6.0023, -6.0684, -5.8439, -6.0717, -5.6292, -6.1335, -6.0806, -4.2458, -4.2566, -4.2566, -5.111, -4.5007, -6.7682, -5.8838, -7.1241, -7.2008, -7.3154, -7.3432, -7.4315, -7.3936, -7.4783, -7.2917, -7.3382, -7.5748, -7.5748, -7.5748, -7.5847, -7.636, -7.6205, -7.6436, -7.7219, -7.5609, -7.8142, -7.8602, -7.6771, -7.8632, -7.8987, -4.7006, -6.3998, -5.6492, -6.6404, -6.0827, -6.8091, -6.4204, -6.7476, -6.8138, -7.0415, -7.2341, -7.1367, -5.8833, -6.4274, -7.1693, -6.3386, -6.2117, -6.7258, -6.2575, -6.8536, -6.0985, -6.4364, -7.0597, -5.0067, -6.0027, -6.7774, -5.8995, -6.2364, -6.3795, -5.6341, -5.5407, -6.5992, -5.7081, -6.6567, -6.5352, -6.5144], \"loglift\": [30.0, 29.0, 28.0, 27.0, 26.0, 25.0, 24.0, 23.0, 22.0, 21.0, 20.0, 19.0, 18.0, 17.0, 16.0, 15.0, 14.0, 13.0, 12.0, 11.0, 10.0, 9.0, 8.0, 7.0, 6.0, 5.0, 4.0, 3.0, 2.0, 1.0, 0.1966, 0.1965, 0.1961, 0.196, 0.1959, 0.1959, 0.1959, 0.1958, 0.1957, 0.1957, 0.1957, 0.1956, 0.1956, 0.1956, 0.1956, 0.1956, 0.1955, 0.1955, 0.1954, 0.1953, 0.1952, 0.1952, 0.1951, 0.1951, 0.1951, 0.1951, 0.195, 0.195, 0.195, 0.1949, 0.1946, 0.1906, 0.1865, 0.1945, 0.1881, 0.1875, 0.1921, 0.1924, 0.1923, 0.1929, 0.1914, 0.1869, 0.1924, 0.1928, 0.1899, 0.1916, 0.1902, 0.1941, 0.1798, 0.1794, 0.1756, 0.1865, 0.1911, 0.1642, 0.1708, 0.1817, 0.1826, 0.1867, 0.1299, 0.171, 0.1421, 0.1737, 0.1698, 0.1747, 0.1779, 0.1278, 0.1594, -0.0165, 0.1695, -0.0962, 1.7177, 1.7177, 1.7177, 1.7175, 1.7175, 1.7157, 1.7149, 1.7144, 1.7143, 1.7143, 1.714, 1.714, 1.714, 1.7137, 1.7135, 1.7135, 1.7133, 1.7133, 1.7133, 1.7132, 1.7129, 1.7129, 1.7128, 1.7126, 1.7125, 1.7122, 1.7119, 1.7117, 1.7116, 1.7114, 1.7074, 1.7095, 1.7001, 1.7098, 1.7029, 1.7092, 1.7049, 1.708, 1.7086, 1.7086, 1.709, 1.7045, 1.6725, 1.6801, 1.7021, 1.6595, 1.6521, 1.6555, 1.6067, 1.662, 1.5677, 1.6074, 1.6811, 1.1912, 1.4227, 1.6082, 1.3383, 1.2975, 1.3321, 0.3503, 0.0721, 1.2273, -1.0065, 0.9474, -0.2729, -1.1984]}, \"token.table\": {\"Topic\": [1, 2, 2, 1, 2, 1, 2, 1, 2, 1, 2, 2, 2, 1, 2, 2, 2, 1, 2, 2, 1, 2, 2, 1, 2, 1, 2, 1, 2, 1, 2, 2, 1, 2, 1, 2, 1, 2, 1, 2, 2, 1, 2, 1, 2, 1, 2, 1, 2, 1, 2, 1, 2, 1, 2, 1, 2, 1, 2, 1, 2, 1, 2, 1, 2, 2, 1, 2, 1, 2, 1, 2, 2, 1, 2, 1, 2, 2, 1, 2, 1, 2, 1, 2, 1, 2, 1, 2, 2, 1, 2, 1, 2, 1, 2, 2, 1, 2, 2, 1, 2, 1, 2, 1, 2, 1, 2, 1, 2, 1, 2, 1, 2, 1, 2, 1, 2, 1, 2, 1, 2, 1, 2, 2, 1, 2, 1, 2, 1, 2, 1, 2, 2, 1, 2, 1, 2, 1, 2, 1, 2, 1, 2, 2, 1, 2, 1, 2, 1, 2, 1, 2, 2, 1, 2, 1, 2, 1, 2, 1, 2, 1, 2, 1, 2, 1, 2, 1, 2, 1, 2, 2, 2, 1, 2, 1, 2, 1, 2, 1, 2, 1, 2, 1, 2, 1, 2, 1, 2, 1, 2, 1, 2, 2, 2, 2, 1, 2, 1, 2, 1, 2, 1, 2, 1, 2, 1, 2, 1, 2, 1, 2, 1, 2, 1, 2, 1, 2, 2, 1, 2, 1, 2, 1, 2, 1, 2, 1, 2, 1, 2, 1, 2, 1, 2, 2, 2], \"Freq\": [0.9945755438906656, 0.005242491571712846, 0.9981297141208164, 0.9820726523948108, 0.017734290052126542, 0.9968478230633111, 0.0030816225352312114, 0.9967802006513256, 0.0032776842549733028, 0.015008556099490202, 0.9855618505331899, 0.9964756060862486, 0.9945517683361362, 0.014053525282292808, 0.9872601510810698, 1.0000095293157554, 0.9880560218746454, 0.9974662099960603, 0.0021088080549599582, 1.000266341393305, 0.009776067429771234, 0.9922708441217802, 0.9937359024772459, 0.9967681756027961, 0.0029446622617512437, 0.9980065126898693, 0.0018178625003458457, 0.984693905474343, 0.015012272980128324, 0.9988876135301401, 0.0016873101579901015, 0.9984019734441975, 0.05568151089876574, 0.9434922680068639, 0.31532984076250203, 0.6841789664250617, 0.9949727460800123, 0.004711788852786167, 0.05899744051909365, 0.9394207836501836, 0.9984075968538353, 0.9976663114851929, 0.0025846277499616396, 0.06491410637590524, 0.9358450335859673, 0.5361651247501451, 0.4631465279942888, 0.014376362143164102, 0.984780806806741, 0.010409974105327388, 0.9889475400061019, 0.9890407662600573, 0.01078517798425749, 0.9890194881694604, 0.01083333202247476, 0.9982851560942398, 0.0018978805248939922, 0.03796532922496731, 0.9629388048878071, 0.007959627364257997, 0.9949534205322496, 0.9978501680542422, 0.002178712157323673, 0.9724392918447928, 0.027530670930346824, 0.9925414009424255, 0.997887587918682, 0.0025262976909333724, 0.014817474210118343, 0.9853620349728699, 0.9886012559618871, 0.011381071497206444, 0.9992231595275117, 0.01072404190765874, 0.9897659854774448, 0.13984817116022738, 0.8612871493677496, 0.9912297226058518, 0.043734181153579264, 0.9561882334032558, 0.7454418977745362, 0.2548131030065866, 0.40955301056409843, 0.5905539665437375, 0.9723286372996808, 0.02782949954888105, 0.9967337251101593, 0.00194674555685578, 1.0004950086160647, 0.01778627671628744, 0.9830960221366148, 0.9948698747292488, 0.005576624858347807, 0.34228594922691086, 0.6573446070380446, 0.9967132740901931, 0.9974360714333711, 0.002067225018514759, 0.9957328545657429, 0.1055416407851957, 0.895750848715379, 0.9990621826593461, 0.0012326492074760593, 0.9837760385786672, 0.015910124613132084, 0.9988840529516225, 0.00224973885799915, 0.010451972442291308, 0.9929373820176742, 0.8071273960443636, 0.19281060237192454, 0.9670595221313548, 0.03291738943777381, 0.9936662174096542, 0.006349304903576066, 0.998574864832694, 0.0022982160295343937, 0.0005217662310775967, 0.9997040987446754, 0.051904316938937115, 0.9446585682886555, 0.2564887695675033, 0.7450388068389382, 1.000266341393305, 0.9762700756607379, 0.023560062157725197, 0.9925268936333181, 0.007566040076206861, 0.994533715354492, 0.005541765237723273, 0.10363509653705445, 0.8938527076320946, 0.9939426204253247, 0.006914926225620108, 0.9922919133764855, 0.00879853897748476, 0.9898356349670354, 0.008470031615401573, 0.9994637306173856, 0.996615059784541, 0.0031438960876483944, 0.9965193314065893, 0.004152163880860788, 0.9997776903854628, 0.9459285450488027, 0.05418610595938543, 0.38826390640811526, 0.6123625369523965, 0.9888007965507605, 0.011204176777795801, 0.9921988693526735, 0.00792783362113384, 0.9943339693261716, 0.9818679444408255, 0.018103498807993765, 0.9904121660409573, 0.009664700666622781, 0.9936891819925496, 0.006264392006257208, 0.9973015981091464, 0.0022461747705160955, 0.9969085312194773, 0.0021531501754200374, 0.9980941323315353, 0.001754119740477215, 0.006562319941076897, 0.9909103111026113, 0.9984592009501093, 0.0010996246706499002, 0.9974420434469988, 0.002964166548133726, 1.000266341393305, 1.0000095293157554, 0.9980630952552974, 0.0018414448251942756, 0.9781775411618898, 0.02192712392124178, 0.039008242144894414, 0.9622033062407289, 0.10482912413359274, 0.8978842371442509, 0.9953306555583057, 0.004654184762129685, 0.998408188467933, 0.002040343709403133, 0.997986841652874, 0.0032349654510628006, 0.32057393819498103, 0.6806388687763003, 0.9978050809294172, 0.0019078491031155206, 0.0020748775937451196, 0.9980161225914026, 0.9888104142825016, 0.9987493275173723, 0.9998997355757612, 0.9970739875235956, 0.002623878914535778, 0.992877382822064, 0.00709439436517977, 0.9971345167288782, 0.0015062454935481544, 0.9968186931742102, 0.003534818060901455, 0.9942573928915683, 0.005483037093152032, 0.932580482623088, 0.06769058159835269, 0.973423631262322, 0.026479140228638294, 0.9736530191676583, 0.026480103031756397, 0.9979343325382163, 0.0021741488726322797, 0.993431027568752, 0.006610853782974151, 0.9773492445381711, 0.0230317957216987, 0.9987331589563972, 0.9972499048111427, 0.0026735922380995785, 0.8631578033349148, 0.13631677247866625, 0.9804608165819264, 0.019856075650537097, 0.997472990575704, 0.002555438916931778, 0.9625239244021649, 0.03752839024302784, 0.9344594053442303, 0.06561024865362626, 0.989893678946022, 0.010098559476792158, 0.9981845841936945, 0.0020853438388447657, 0.9995674441568138, 1.0002865736272597], \"Term\": [\"add\", \"add\", \"aids_aids\", \"also\", \"also\", \"article\", \"article\", \"articles\", \"articles\", \"ass\", \"ass\", \"bad_admin\", \"bastered_bastered\", \"bitch\", \"bitch\", \"bob_saget\", \"buttsecks_buttsecks\", \"category\", \"category\", \"chicken_rice\", \"cock\", \"cock\", \"cocksucker\", \"consensus\", \"consensus\", \"content\", \"content\", \"could\", \"could\", \"criteria\", \"criteria\", \"cuntbag\", \"da\", \"da\", \"de\", \"de\", \"deletion\", \"deletion\", \"dick\", \"dick\", \"dickhead\", \"discussion\", \"discussion\", \"dog\", \"dog\", \"dont\", \"dont\", \"dont_care\", \"dont_care\", \"dos_santos\", \"dos_santos\", \"edit\", \"edit\", \"editing\", \"editing\", \"editors\", \"editors\", \"em\", \"em\", \"engineer_degree\", \"engineer_degree\", \"entry\", \"entry\", \"even\", \"even\", \"fack\", \"fair\", \"fair\", \"fat\", \"fat\", \"first\", \"first\", \"freedom_freedom\", \"fuck\", \"fuck\", \"fucking\", \"fucking\", \"fucksex_fucksex\", \"gay\", \"gay\", \"get\", \"get\", \"go\", \"go\", \"good\", \"good\", \"guidelines\", \"guidelines\", \"guys_love\", \"hate\", \"hate\", \"help\", \"help\", \"hey\", \"hey\", \"hey_guys\", \"however\", \"however\", \"huge_faggot\", \"im\", \"im\", \"image\", \"image\", \"information\", \"information\", \"interest\", \"interest\", \"jose_eduardo\", \"jose_eduardo\", \"know\", \"know\", \"like\", \"like\", \"link\", \"link\", \"links\", \"links\", \"lol_lol\", \"lol_lol\", \"loser\", \"loser\", \"love\", \"love\", \"love_chicken\", \"make\", \"make\", \"many\", \"many\", \"may\", \"may\", \"mother\", \"mother\", \"mothjer_fucker\", \"mpla\", \"mpla\", \"nigger\", \"nigger\", \"nipple_nipple\", \"nipple_nipple\", \"notable\", \"notable\", \"note\", \"note\", \"oh_bob\", \"one\", \"one\", \"org_wiki\", \"org_wiki\", \"page\", \"page\", \"pages\", \"pages\", \"pei\", \"people\", \"people\", \"please\", \"please\", \"point\", \"point\", \"policy\", \"policy\", \"position\", \"position\", \"pov\", \"pov\", \"pussy\", \"pussy\", \"questions\", \"questions\", \"request\", \"request\", \"rice_hey\", \"saget_oh\", \"section\", \"section\", \"see\", \"see\", \"shut\", \"shut\", \"son\", \"son\", \"source\", \"source\", \"sources\", \"sources\", \"speedy_deletion\", \"speedy_deletion\", \"stupid\", \"stupid\", \"style\", \"style\", \"suck\", \"suck\", \"sucks_cocks\", \"super_gay\", \"tacos_tacos\", \"tag\", \"tag\", \"talk\", \"talk\", \"template\", \"template\", \"term\", \"term\", \"thank\", \"thank\", \"thanks\", \"thanks\", \"think\", \"think\", \"time\", \"time\", \"topic\", \"topic\", \"used\", \"used\", \"user\", \"user\", \"veggietales_sucks\", \"view\", \"view\", \"want\", \"want\", \"way\", \"way\", \"welcome\", \"welcome\", \"well\", \"well\", \"wikipedia\", \"wikipedia\", \"would\", \"would\", \"wp\", \"wp\", \"youbollocks\", \"yourselfgo\"]}, \"R\": 30, \"lambda.step\": 0.01, \"plot.opts\": {\"xlab\": \"PC1\", \"ylab\": \"PC2\"}, \"topic.order\": [2, 1]};\n",
       "\n",
       "function LDAvis_load_lib(url, callback){\n",
       "  var s = document.createElement('script');\n",
       "  s.src = url;\n",
       "  s.async = true;\n",
       "  s.onreadystatechange = s.onload = callback;\n",
       "  s.onerror = function(){console.warn(\"failed to load library \" + url);};\n",
       "  document.getElementsByTagName(\"head\")[0].appendChild(s);\n",
       "}\n",
       "\n",
       "if(typeof(LDAvis) !== \"undefined\"){\n",
       "   // already loaded: just create the visualization\n",
       "   !function(LDAvis){\n",
       "       new LDAvis(\"#\" + \"ldavis_el9703063554896166178197083\", ldavis_el9703063554896166178197083_data);\n",
       "   }(LDAvis);\n",
       "}else if(typeof define === \"function\" && define.amd){\n",
       "   // require.js is available: use it to load d3/LDAvis\n",
       "   require.config({paths: {d3: \"https://d3js.org/d3.v5\"}});\n",
       "   require([\"d3\"], function(d3){\n",
       "      window.d3 = d3;\n",
       "      LDAvis_load_lib(\"https://cdn.jsdelivr.net/gh/bmabey/pyLDAvis@3.3.1/pyLDAvis/js/ldavis.v3.0.0.js\", function(){\n",
       "        new LDAvis(\"#\" + \"ldavis_el9703063554896166178197083\", ldavis_el9703063554896166178197083_data);\n",
       "      });\n",
       "    });\n",
       "}else{\n",
       "    // require.js not available: dynamically load d3 & LDAvis\n",
       "    LDAvis_load_lib(\"https://d3js.org/d3.v5.js\", function(){\n",
       "         LDAvis_load_lib(\"https://cdn.jsdelivr.net/gh/bmabey/pyLDAvis@3.3.1/pyLDAvis/js/ldavis.v3.0.0.js\", function(){\n",
       "                 new LDAvis(\"#\" + \"ldavis_el9703063554896166178197083\", ldavis_el9703063554896166178197083_data);\n",
       "            })\n",
       "         });\n",
       "}\n",
       "</script>"
      ],
      "text/plain": [
       "PreparedData(topic_coordinates=              x    y  topics  cluster       Freq\n",
       "topic                                           \n",
       "1      0.180184  0.0       1        1  82.055375\n",
       "0     -0.180184  0.0       2        1  17.944625, topic_info=            Term         Freq        Total Category  logprob  loglift\n",
       "61800     oh_bob  2472.000000  2472.000000  Default  30.0000  30.0000\n",
       "61799  bob_saget  2445.000000  2445.000000  Default  29.0000  29.0000\n",
       "61802   saget_oh  2445.000000  2445.000000  Default  28.0000  28.0000\n",
       "2106     lol_lol  1916.000000  1916.000000  Default  27.0000  27.0000\n",
       "97          fuck  1585.000000  1585.000000  Default  26.0000  26.0000\n",
       "...          ...          ...          ...      ...      ...      ...\n",
       "2854    org_wiki   234.966988   383.759596   Topic2  -6.5992   1.2273\n",
       "256    wikipedia   572.797920  8733.391684   Topic2  -5.7081  -1.0065\n",
       "445         dont   221.837662   479.329945   Topic2  -6.6567   0.9474\n",
       "252         want   250.496534  1833.963609   Topic2  -6.5352  -0.2729\n",
       "21           one   255.750828  4724.458336   Topic2  -6.5144  -1.1984\n",
       "\n",
       "[166 rows x 6 columns], token_table=       Topic      Freq         Term\n",
       "term                               \n",
       "440        1  0.994576          add\n",
       "440        2  0.005242          add\n",
       "33690      2  0.998130    aids_aids\n",
       "311        1  0.982073         also\n",
       "311        2  0.017734         also\n",
       "...      ...       ...          ...\n",
       "91         2  0.010099        would\n",
       "30         1  0.998185           wp\n",
       "30         2  0.002085           wp\n",
       "33195      2  0.999567  youbollocks\n",
       "21818      2  1.000287   yourselfgo\n",
       "\n",
       "[237 rows x 3 columns], R=30, lambda_step=0.01, plot_opts={'xlab': 'PC1', 'ylab': 'PC2'}, topic_order=[2, 1])"
      ]
     },
     "execution_count": 22,
     "metadata": {},
     "output_type": "execute_result"
    }
   ],
   "source": [
    "# Visualize the topics\n",
    "pyLDAvis.enable_notebook()\n",
    "vis = gensimvis.prepare(lda_model, corpus, id2word)\n",
    "vis"
   ]
  },
  {
   "cell_type": "code",
   "execution_count": 23,
   "id": "8081d06d",
   "metadata": {},
   "outputs": [
    {
     "data": {
      "text/html": [
       "<div>\n",
       "<style scoped>\n",
       "    .dataframe tbody tr th:only-of-type {\n",
       "        vertical-align: middle;\n",
       "    }\n",
       "\n",
       "    .dataframe tbody tr th {\n",
       "        vertical-align: top;\n",
       "    }\n",
       "\n",
       "    .dataframe thead th {\n",
       "        text-align: right;\n",
       "    }\n",
       "</style>\n",
       "<table border=\"1\" class=\"dataframe\">\n",
       "  <thead>\n",
       "    <tr style=\"text-align: right;\">\n",
       "      <th></th>\n",
       "      <th>id</th>\n",
       "      <th>comment_text</th>\n",
       "      <th>toxic</th>\n",
       "      <th>severe_toxic</th>\n",
       "      <th>obscene</th>\n",
       "      <th>threat</th>\n",
       "      <th>insult</th>\n",
       "      <th>identity_hate</th>\n",
       "      <th>sum</th>\n",
       "    </tr>\n",
       "  </thead>\n",
       "  <tbody>\n",
       "    <tr>\n",
       "      <th>6</th>\n",
       "      <td>0002bcb3da6cb337</td>\n",
       "      <td>COCKSUCKER BEFORE YOU PISS AROUND ON MY WORK</td>\n",
       "      <td>1</td>\n",
       "      <td>1</td>\n",
       "      <td>1</td>\n",
       "      <td>0</td>\n",
       "      <td>1</td>\n",
       "      <td>0</td>\n",
       "      <td>4</td>\n",
       "    </tr>\n",
       "    <tr>\n",
       "      <th>12</th>\n",
       "      <td>0005c987bdfc9d4b</td>\n",
       "      <td>Hey... what is it..\\n@ | talk .\\nWhat is it......</td>\n",
       "      <td>1</td>\n",
       "      <td>0</td>\n",
       "      <td>0</td>\n",
       "      <td>0</td>\n",
       "      <td>0</td>\n",
       "      <td>0</td>\n",
       "      <td>1</td>\n",
       "    </tr>\n",
       "    <tr>\n",
       "      <th>16</th>\n",
       "      <td>0007e25b2121310b</td>\n",
       "      <td>Bye! \\n\\nDon't look, come or think of comming ...</td>\n",
       "      <td>1</td>\n",
       "      <td>0</td>\n",
       "      <td>0</td>\n",
       "      <td>0</td>\n",
       "      <td>0</td>\n",
       "      <td>0</td>\n",
       "      <td>1</td>\n",
       "    </tr>\n",
       "    <tr>\n",
       "      <th>42</th>\n",
       "      <td>001810bf8c45bf5f</td>\n",
       "      <td>You are gay or antisemmitian? \\n\\nArchangel WH...</td>\n",
       "      <td>1</td>\n",
       "      <td>0</td>\n",
       "      <td>1</td>\n",
       "      <td>0</td>\n",
       "      <td>1</td>\n",
       "      <td>1</td>\n",
       "      <td>4</td>\n",
       "    </tr>\n",
       "    <tr>\n",
       "      <th>43</th>\n",
       "      <td>00190820581d90ce</td>\n",
       "      <td>FUCK YOUR FILTHY MOTHER IN THE ASS, DRY!</td>\n",
       "      <td>1</td>\n",
       "      <td>0</td>\n",
       "      <td>1</td>\n",
       "      <td>0</td>\n",
       "      <td>1</td>\n",
       "      <td>0</td>\n",
       "      <td>3</td>\n",
       "    </tr>\n",
       "    <tr>\n",
       "      <th>...</th>\n",
       "      <td>...</td>\n",
       "      <td>...</td>\n",
       "      <td>...</td>\n",
       "      <td>...</td>\n",
       "      <td>...</td>\n",
       "      <td>...</td>\n",
       "      <td>...</td>\n",
       "      <td>...</td>\n",
       "      <td>...</td>\n",
       "    </tr>\n",
       "    <tr>\n",
       "      <th>159494</th>\n",
       "      <td>fef4cf7ba0012866</td>\n",
       "      <td>\"\\n\\n our previous conversation \\n\\nyou fuckin...</td>\n",
       "      <td>1</td>\n",
       "      <td>0</td>\n",
       "      <td>1</td>\n",
       "      <td>0</td>\n",
       "      <td>1</td>\n",
       "      <td>1</td>\n",
       "      <td>4</td>\n",
       "    </tr>\n",
       "    <tr>\n",
       "      <th>159514</th>\n",
       "      <td>ff39a2895fc3b40e</td>\n",
       "      <td>YOU ARE A MISCHIEVIOUS PUBIC HAIR</td>\n",
       "      <td>1</td>\n",
       "      <td>0</td>\n",
       "      <td>0</td>\n",
       "      <td>0</td>\n",
       "      <td>1</td>\n",
       "      <td>0</td>\n",
       "      <td>2</td>\n",
       "    </tr>\n",
       "    <tr>\n",
       "      <th>159541</th>\n",
       "      <td>ffa33d3122b599d6</td>\n",
       "      <td>Your absurd edits \\n\\nYour absurd edits on gre...</td>\n",
       "      <td>1</td>\n",
       "      <td>0</td>\n",
       "      <td>1</td>\n",
       "      <td>0</td>\n",
       "      <td>1</td>\n",
       "      <td>0</td>\n",
       "      <td>3</td>\n",
       "    </tr>\n",
       "    <tr>\n",
       "      <th>159546</th>\n",
       "      <td>ffb47123b2d82762</td>\n",
       "      <td>\"\\n\\nHey listen don't you ever!!!! Delete my e...</td>\n",
       "      <td>1</td>\n",
       "      <td>0</td>\n",
       "      <td>0</td>\n",
       "      <td>0</td>\n",
       "      <td>1</td>\n",
       "      <td>0</td>\n",
       "      <td>2</td>\n",
       "    </tr>\n",
       "    <tr>\n",
       "      <th>159554</th>\n",
       "      <td>ffbdbb0483ed0841</td>\n",
       "      <td>and i'm going to keep posting the stuff u dele...</td>\n",
       "      <td>1</td>\n",
       "      <td>0</td>\n",
       "      <td>1</td>\n",
       "      <td>0</td>\n",
       "      <td>1</td>\n",
       "      <td>0</td>\n",
       "      <td>3</td>\n",
       "    </tr>\n",
       "  </tbody>\n",
       "</table>\n",
       "<p>16225 rows × 9 columns</p>\n",
       "</div>"
      ],
      "text/plain": [
       "                      id                                       comment_text  \\\n",
       "6       0002bcb3da6cb337       COCKSUCKER BEFORE YOU PISS AROUND ON MY WORK   \n",
       "12      0005c987bdfc9d4b  Hey... what is it..\\n@ | talk .\\nWhat is it......   \n",
       "16      0007e25b2121310b  Bye! \\n\\nDon't look, come or think of comming ...   \n",
       "42      001810bf8c45bf5f  You are gay or antisemmitian? \\n\\nArchangel WH...   \n",
       "43      00190820581d90ce           FUCK YOUR FILTHY MOTHER IN THE ASS, DRY!   \n",
       "...                  ...                                                ...   \n",
       "159494  fef4cf7ba0012866  \"\\n\\n our previous conversation \\n\\nyou fuckin...   \n",
       "159514  ff39a2895fc3b40e                  YOU ARE A MISCHIEVIOUS PUBIC HAIR   \n",
       "159541  ffa33d3122b599d6  Your absurd edits \\n\\nYour absurd edits on gre...   \n",
       "159546  ffb47123b2d82762  \"\\n\\nHey listen don't you ever!!!! Delete my e...   \n",
       "159554  ffbdbb0483ed0841  and i'm going to keep posting the stuff u dele...   \n",
       "\n",
       "        toxic  severe_toxic  obscene  threat  insult  identity_hate  sum  \n",
       "6           1             1        1       0       1              0    4  \n",
       "12          1             0        0       0       0              0    1  \n",
       "16          1             0        0       0       0              0    1  \n",
       "42          1             0        1       0       1              1    4  \n",
       "43          1             0        1       0       1              0    3  \n",
       "...       ...           ...      ...     ...     ...            ...  ...  \n",
       "159494      1             0        1       0       1              1    4  \n",
       "159514      1             0        0       0       1              0    2  \n",
       "159541      1             0        1       0       1              0    3  \n",
       "159546      1             0        0       0       1              0    2  \n",
       "159554      1             0        1       0       1              0    3  \n",
       "\n",
       "[16225 rows x 9 columns]"
      ]
     },
     "execution_count": 23,
     "metadata": {},
     "output_type": "execute_result"
    }
   ],
   "source": [
    "df_sample[df_sample['sum'] != 0]"
   ]
  },
  {
   "cell_type": "code",
   "execution_count": 24,
   "id": "ebe79098",
   "metadata": {},
   "outputs": [
    {
     "data": {
      "text/plain": [
       "[(0, 0.55616134), (1, 0.44383872)]"
      ]
     },
     "execution_count": 24,
     "metadata": {},
     "output_type": "execute_result"
    }
   ],
   "source": [
    "# predicting comment which is in dataframe  \n",
    "new_text_corpus =  id2word.doc2bow(df_sample['comment_text'][159554].split())\n",
    "lda_model[new_text_corpus]"
   ]
  },
  {
   "cell_type": "markdown",
   "id": "7ad6a777",
   "metadata": {},
   "source": [
    "### Multi-class Classification"
   ]
  },
  {
   "cell_type": "code",
   "execution_count": 25,
   "id": "312094ce",
   "metadata": {},
   "outputs": [],
   "source": [
    "data_words_tox = list(sent_to_words(data_tox))"
   ]
  },
  {
   "cell_type": "code",
   "execution_count": 26,
   "id": "538a3ba9",
   "metadata": {},
   "outputs": [
    {
     "name": "stdout",
     "output_type": "stream",
     "text": [
      "['and', 'going', 'to', 'keep', 'posting', 'the', 'stuff', 'deleted', 'until', 'this', 'fucking', 'site', 'closes', 'down', 'have', 'fun', 'stupid', 'ass', 'bitch', 'don', 'ever', 'delete', 'anything', 'fuckin', 'hore', 'like', 'said', 'before', 'go', 'to', 'hell']\n"
     ]
    }
   ],
   "source": [
    "print(data_words_tox[-1])"
   ]
  },
  {
   "cell_type": "code",
   "execution_count": 27,
   "id": "e38363e5",
   "metadata": {},
   "outputs": [],
   "source": [
    "# Build the bigram and trigram models\n",
    "bigram_tox = gensim.models.Phrases(data_words_tox, min_count=5, threshold=100) # higher threshold fewer phrases.\n",
    "trigram_tox = gensim.models.Phrases(bigram[data_words_tox], threshold=100)  \n",
    "\n",
    "# Faster way to get a sentence clubbed as a trigram/bigram\n",
    "bigram_mod_tox = gensim.models.phrases.Phraser(bigram_tox)\n",
    "trigram_mod_tox = gensim.models.phrases.Phraser(trigram_tox)"
   ]
  },
  {
   "cell_type": "code",
   "execution_count": 28,
   "id": "2440e907",
   "metadata": {},
   "outputs": [],
   "source": [
    "# Remove Stop Words\n",
    "data_words_tox_nostops = remove_stopwords(data_words_tox)\n",
    "\n",
    "# Form Bigrams\n",
    "data_words_tox_bigrams = make_bigrams(data_words_tox_nostops)\n",
    "\n",
    "# Do lemmatization keeping only noun, adj, vb, adv\n",
    "data_tox_lemmatized = lemmatization(data_words_tox_bigrams) #, allowed_postags=['NOUN', 'ADJ', 'VERB', 'ADV'])"
   ]
  },
  {
   "cell_type": "code",
   "execution_count": 29,
   "id": "55c36e95",
   "metadata": {},
   "outputs": [
    {
     "name": "stdout",
     "output_type": "stream",
     "text": [
      "[['piss', 'work']]\n"
     ]
    }
   ],
   "source": [
    "print(data_tox_lemmatized[:1])"
   ]
  },
  {
   "cell_type": "code",
   "execution_count": 30,
   "id": "aea8b76a",
   "metadata": {},
   "outputs": [],
   "source": [
    "# Create Dictionary\n",
    "id2word_tox = corpora.Dictionary(data_words_tox_bigrams)\n",
    "\n",
    "# Create Corpus\n",
    "texts_tox = data_words_tox_bigrams\n",
    "\n",
    "# Term Document Frequency\n",
    "corpus_tox = [id2word_tox.doc2bow(text) for text in texts_tox]"
   ]
  },
  {
   "cell_type": "code",
   "execution_count": 31,
   "id": "400f08c7",
   "metadata": {},
   "outputs": [
    {
     "name": "stdout",
     "output_type": "stream",
     "text": [
      "[[(0, 1), (1, 1), (2, 1), (3, 1)]]\n"
     ]
    },
    {
     "data": {
      "text/plain": [
       "[[('around', 1), ('cocksucker', 1), ('piss', 1), ('work', 1)]]"
      ]
     },
     "execution_count": 31,
     "metadata": {},
     "output_type": "execute_result"
    }
   ],
   "source": [
    "# View\n",
    "print(corpus_tox[:1])\n",
    "\n",
    "# Human readable format of corpus (term-frequency)\n",
    "[[(id2word_tox[id], freq) for id, freq in cp] for cp in corpus_tox[:1]]"
   ]
  },
  {
   "cell_type": "code",
   "execution_count": 32,
   "id": "a2e4b733",
   "metadata": {},
   "outputs": [],
   "source": [
    "# Build LDA model\n",
    "lda_model_tox = gensim.models.ldamodel.LdaModel(corpus=corpus_tox,\n",
    "                                           id2word=id2word_tox,\n",
    "                                           num_topics=6,\n",
    "                                           random_state=0)"
   ]
  },
  {
   "cell_type": "code",
   "execution_count": 33,
   "id": "96a1a153",
   "metadata": {
    "scrolled": false
   },
   "outputs": [
    {
     "name": "stdout",
     "output_type": "stream",
     "text": [
      "[(0,\n",
      "  '0.138*\"fuck\" + 0.036*\"ass\" + 0.035*\"fucking\" + 0.032*\"go\" + '\n",
      "  '0.029*\"vagina_vagina\" + 0.028*\"bitch\" + 0.025*\"gay\" + 0.018*\"mother\" + '\n",
      "  '0.017*\"wikipedia\" + 0.017*\"nigger\"'),\n",
      " (1,\n",
      "  '0.009*\"wikipedia\" + 0.009*\"like\" + 0.009*\"people\" + 0.009*\"get\" + '\n",
      "  '0.007*\"one\" + 0.006*\"fucking\" + 0.006*\"know\" + 0.005*\"think\" + '\n",
      "  '0.005*\"stupid\" + 0.005*\"article\"'),\n",
      " (2,\n",
      "  '0.089*\"hate\" + 0.031*\"fat_jew\" + 0.028*\"cunt\" + 0.024*\"jew_fat\" + '\n",
      "  '0.021*\"nipple_nipple\" + 0.021*\"moron_hi\" + 0.014*\"sucks_cocks\" + '\n",
      "  '0.012*\"nigger_nigger\" + 0.009*\"fucking_cocksucking\" + 0.009*\"shit_cunts\"'),\n",
      " (3,\n",
      "  '0.027*\"shit\" + 0.018*\"page\" + 0.014*\"like\" + 0.012*\"talk\" + 0.012*\"semen\" + '\n",
      "  '0.008*\"stop\" + 0.007*\"user\" + 0.006*\"wikipedia\" + 0.006*\"going\" + '\n",
      "  '0.006*\"get\"'),\n",
      " (4,\n",
      "  '0.062*\"suck\" + 0.028*\"chuck_norris\" + 0.024*\"mouth\" + 0.021*\"die\" + '\n",
      "  '0.018*\"shut\" + 0.017*\"know\" + 0.016*\"dont_care\" + 0.015*\"dick\" + '\n",
      "  '0.015*\"cock\" + 0.013*\"cocksucker\"'),\n",
      " (5,\n",
      "  '0.030*\"asshole\" + 0.028*\"dickhead\" + 0.027*\"hi_moron\" + '\n",
      "  '0.023*\"bastered_bastered\" + 0.021*\"piece\" + 0.018*\"faggot_faggot\" + '\n",
      "  '0.012*\"lick\" + 0.012*\"aids_aids\" + 0.010*\"freedom_freedom\" + '\n",
      "  '0.010*\"wanker_wanker\"')]\n"
     ]
    }
   ],
   "source": [
    "# Print the Keyword in the topics\n",
    "pprint(lda_model_tox.print_topics())"
   ]
  },
  {
   "cell_type": "code",
   "execution_count": 34,
   "id": "9abc52d2",
   "metadata": {},
   "outputs": [
    {
     "name": "stdout",
     "output_type": "stream",
     "text": [
      "\n",
      "Perplexity:  -8.43442768477533\n",
      "\n",
      "Coherence Score:  0.636033133495919\n"
     ]
    }
   ],
   "source": [
    "# Compute Perplexity\n",
    "print('\\nPerplexity: ', lda_model_tox.log_perplexity(corpus_tox))  # a measure of how good the model is. lower the better.\n",
    "\n",
    "# Compute Coherence Score\n",
    "coherence_model_lda_tox = CoherenceModel(model=lda_model_tox, texts=data_words_tox_bigrams, dictionary=id2word_tox, coherence='c_v')\n",
    "coherence_lda_tox = coherence_model_lda_tox.get_coherence()\n",
    "print('\\nCoherence Score: ', coherence_lda_tox)"
   ]
  },
  {
   "cell_type": "code",
   "execution_count": 35,
   "id": "cd1e99bf",
   "metadata": {
    "scrolled": false
   },
   "outputs": [
    {
     "name": "stderr",
     "output_type": "stream",
     "text": [
      "/Users/tegochang/opt/miniconda3/lib/python3.9/site-packages/pyLDAvis/_prepare.py:246: FutureWarning: In a future version of pandas all arguments of DataFrame.drop except for the argument 'labels' will be keyword-only\n",
      "  default_term_info = default_term_info.sort_values(\n"
     ]
    },
    {
     "data": {
      "text/html": [
       "\n",
       "<link rel=\"stylesheet\" type=\"text/css\" href=\"https://cdn.jsdelivr.net/gh/bmabey/pyLDAvis@3.3.1/pyLDAvis/js/ldavis.v1.0.0.css\">\n",
       "\n",
       "\n",
       "<div id=\"ldavis_el9703064989985283545514250\"></div>\n",
       "<script type=\"text/javascript\">\n",
       "\n",
       "var ldavis_el9703064989985283545514250_data = {\"mdsDat\": {\"x\": [-0.17639992936462742, -0.16372110260169526, -0.028220972390644646, -0.02958946795727674, 0.17824403919117268, 0.21968743312307143], \"y\": [-0.06904420003797344, -0.06508008185571633, 0.25847540640264144, -0.027169582026448473, -0.12078360873510018, 0.02360206625259713], \"topics\": [1, 2, 3, 4, 5, 6], \"cluster\": [1, 1, 1, 1, 1, 1], \"Freq\": [46.21024461412227, 21.049852210458006, 12.263270156440024, 7.9308338757907295, 6.290823655291142, 6.254975487897833]}, \"tinfo\": {\"Term\": [\"fuck\", \"hate\", \"suck\", \"ass\", \"go\", \"fucking\", \"vagina_vagina\", \"bitch\", \"shit\", \"gay\", \"asshole\", \"chuck_norris\", \"fat_jew\", \"mouth\", \"cunt\", \"dickhead\", \"hi_moron\", \"know\", \"jew_fat\", \"die\", \"mother\", \"nigger\", \"piece\", \"bastered_bastered\", \"semen\", \"dog\", \"wikipedia\", \"page\", \"nipple_nipple\", \"moron_hi\", \"huge_faggot\", \"hater\", \"plot\", \"feces\", \"merely\", \"small_penis\", \"permanently\", \"jimmy\", \"solaris\", \"blunt\", \"wikia\", \"position\", \"revoked\", \"access\", \"mood\", \"congress\", \"gook\", \"hang\", \"stfu\", \"protecting\", \"minor\", \"didnt\", \"brothers\", \"length\", \"numerous\", \"stress\", \"reliable_sources\", \"placing\", \"zionist\", \"session\", \"jobs\", \"india\", \"usa\", \"jerk\", \"mess\", \"putin\", \"ass_nigga\", \"swear\", \"moron\", \"consensus\", \"english\", \"loser\", \"word\", \"really\", \"started\", \"correct\", \"nonsense\", \"everything\", \"people\", \"else\", \"job\", \"telling\", \"something\", \"especially\", \"need\", \"read\", \"say\", \"things\", \"would\", \"actually\", \"trying\", \"away\", \"god\", \"even\", \"also\", \"could\", \"said\", \"think\", \"one\", \"idiot\", \"anything\", \"get\", \"nothing\", \"hell\", \"reason\", \"like\", \"article\", \"make\", \"back\", \"wikipedia\", \"see\", \"way\", \"know\", \"life\", \"right\", \"want\", \"time\", \"stupid\", \"please\", \"fucking\", \"page\", \"go\", \"gamaliel\", \"cuntbag\", \"daedalus\", \"chat\", \"dirty_whore\", \"fffff_uuuuuu\", \"easier\", \"semen\", \"ireland\", \"uptight\", \"joint\", \"gross\", \"ten\", \"moving\", \"feels\", \"cowards\", \"update\", \"anyways\", \"bigot\", \"regret\", \"pansy\", \"biznitch_repeat\", \"homework\", \"plain\", \"douche_bag\", \"hat\", \"upset\", \"usual\", \"latest\", \"disturbed\", \"retarded\", \"hate_nl\", \"shit\", \"peoples\", \"ers_hate\", \"banned\", \"defend\", \"wake\", \"contempt\", \"fag\", \"eat\", \"havent\", \"talk\", \"image\", \"preceding_unsigned\", \"comment_added\", \"page\", \"going\", \"user\", \"sucks\", \"vandalism\", \"body\", \"bet\", \"editing\", \"stop\", \"like\", \"thanks\", \"hey\", \"ban\", \"time\", \"edit\", \"article\", \"one\", \"please\", \"get\", \"wikipedia\", \"little\", \"ever\", \"block\", \"make\", \"know\", \"vagina_vagina\", \"bad_admin\", \"bullshit_bullshit\", \"yourselfgo\", \"ka\", \"niggas\", \"shithole\", \"rot\", \"absurd\", \"whose\", \"nutcase\", \"ger\", \"chuck\", \"oi\", \"ass\", \"putang\", \"bakla\", \"john_cline\", \"ina\", \"mo\", \"proxies\", \"fat\", \"faggoty\", \"suffering\", \"mutha\", \"awww\", \"assclown\", \"input\", \"damned\", \"slow\", \"fuck\", \"nigger\", \"penis\", \"pussy\", \"gay\", \"bitch\", \"dog\", \"go\", \"faggot\", \"mother\", \"fucking\", \"mom\", \"dumbass\", \"stupid\", \"twat\", \"im\", \"big\", \"keep\", \"wikipedia\", \"ur\", \"want\", \"hey\", \"cock\", \"asshole\", \"fuckin\", \"get\", \"assad_hanibal\", \"fggt\", \"mothjer_fucker\", \"six_million\", \"bastard_pro\", \"dont_care\", \"en\", \"cocksucker\", \"naughty\", \"suck\", \"bitches\", \"chuck_norris\", \"tears\", \"jealous\", \"loves\", \"whales\", \"jail\", \"nut\", \"stalin\", \"cracker\", \"corner\", \"frank\", \"roster\", \"fukkin\", \"purely\", \"idiot_idiot\", \"imo\", \"jimbo_wales\", \"kkk\", \"noone\", \"die\", \"shut\", \"military\", \"kgb\", \"islamic\", \"kill\", \"mouth\", \"respect\", \"cock\", \"dick\", \"house_using\", \"saliva\", \"penis_constructed\", \"jews\", \"know\", \"tell\", \"wikipedia\", \"mother\", \"us\", \"people\", \"fuck\", \"like\", \"fat_jew\", \"jew_fat\", \"moron_hi\", \"nipple_nipple\", \"sucks_cocks\", \"admins_eat\", \"fucking_cocksucking\", \"shit_cunts\", \"hate\", \"anal_rape\", \"arse_takes\", \"twat_twat\", \"nigger_nigger\", \"mongo\", \"testicles\", \"mod\", \"uncyclopedia\", \"old_cougar\", \"chink\", \"dust\", \"lady\", \"momma\", \"players\", \"german\", \"hog\", \"pedantic\", \"palestinian\", \"jeff\", \"antonio\", \"amusement\", \"cunt\", \"mercado\", \"hore\", \"mum\", \"wit\", \"ck\", \"anal\", \"sign\", \"warning\", \"fire\", \"al\", \"know\", \"fucking\", \"bastered_bastered\", \"faggot_faggot\", \"dickhead\", \"wanker_wanker\", \"super_gay\", \"youbollocks\", \"veggietales_sucks\", \"fack\", \"buttsecks_buttsecks\", \"heil_hitler\", \"sentence\", \"transgender\", \"wiki_noobs\", \"faggots_faggots\", \"bush_sucks\", \"aids_aids\", \"nigger_delanoy\", \"tommy\", \"alex\", \"aidsaids_aids\", \"forsyth\", \"burning\", \"homo_sexual\", \"little_boys\", \"chester_marcolfuck\", \"boobs_boobs\", \"apologies\", \"nothing_fc\", \"fc\", \"bum_bum\", \"cheese_salt\", \"last_night\", \"ufc\", \"hi_moron\", \"phuq\", \"fucksex_fucksex\", \"knob\", \"freedom_freedom\", \"bush\", \"lick\", \"chocobos_want\", \"piece\", \"asshole\", \"cheese_george\", \"criminalwar_criminalwar\", \"get\", \"fuckin\", \"person\", \"fuck\"], \"Freq\": [7450.0, 2335.0, 2092.0, 1867.0, 2517.0, 3277.0, 1465.0, 1577.0, 2671.0, 1372.0, 1220.0, 960.0, 806.0, 1091.0, 769.0, 723.0, 748.0, 2138.0, 624.0, 730.0, 1425.0, 905.0, 767.0, 589.0, 1081.0, 881.0, 3622.0, 2528.0, 558.0, 550.0, 571.3430593045978, 206.64796503119666, 175.55237439079133, 94.2798747518913, 109.09589414795529, 69.88683906530093, 70.3452606724699, 70.54350538202893, 80.19613055213415, 60.92655292784906, 63.84436118639648, 87.66711025115089, 60.885388218073906, 63.26565425529744, 59.666103875620955, 57.85098588376104, 60.42377463490846, 51.24355069268081, 50.83292457846418, 54.38749558460875, 51.74070235658019, 87.6373727032471, 50.115509741409774, 95.30192414872083, 46.71942398985947, 53.945998742960576, 57.56573879154968, 59.41613681335998, 71.36524566303108, 54.866050762693924, 93.79829589179893, 115.20734451346173, 83.45411706099028, 587.6586005842455, 103.92672182836496, 122.06926265551499, 108.73839283635118, 120.94135633943536, 572.0000341603061, 118.39898392194846, 212.5493396196985, 778.0525526182711, 358.69996871327726, 890.7820598493308, 185.94061258799053, 151.43152618284503, 260.67154730321016, 230.61657449645034, 1740.4826144718031, 320.9498317843957, 236.67352004863227, 158.89790023635547, 700.0010765183841, 177.59076240841452, 465.0561601315283, 519.9331051251276, 683.3757845416875, 455.3158874518119, 909.911745899936, 311.00742680396814, 445.169330642802, 357.80848179332247, 403.5058423618533, 827.727642599564, 680.1815197469682, 478.2794452131522, 640.945189818453, 995.6073145060013, 1284.2315061020252, 521.7213746158994, 507.036893801848, 1666.0480230324874, 505.6092671104799, 663.0796191926622, 362.22994635779, 1747.537498501952, 942.0750160474613, 739.2552680489604, 611.181477809121, 1776.1207291529568, 727.5146305735963, 594.677357504698, 1134.2688161987205, 676.6147642560005, 627.011165561349, 846.7386701681354, 827.2578555383197, 978.5624992728553, 730.921843362737, 1220.4164897775574, 810.0888169018948, 773.6393008004799, 358.0663582628998, 278.1340761292128, 245.38191891273965, 182.39567081051618, 199.92122766614176, 110.42851571642574, 180.49067453672126, 1068.1226303777137, 59.83755614715155, 53.41052679922979, 51.99416304071357, 60.82001374146434, 44.82970275608098, 54.670050600536655, 41.932760704300186, 36.67968007154368, 39.30720165981271, 35.88237366172654, 50.71018921479482, 35.06846995781928, 35.63193467635202, 34.297195362458794, 37.76504600000627, 36.28660657281613, 74.05137147931202, 36.7776820462396, 49.92998606738647, 43.14393386642628, 41.511795063156384, 31.690196155842994, 323.8215025120736, 46.14638053423456, 2351.429845591992, 88.71610679924053, 44.83277434153076, 507.0332440019225, 179.15377335819366, 65.1670584391935, 59.025190791364736, 470.4957078077865, 407.55320807736024, 99.83306893043412, 1076.205366942053, 100.50580236263788, 136.05597460300726, 135.5320367428249, 1616.5803490214912, 537.1835996863264, 591.7991896969248, 251.42953846193382, 365.50570755751886, 94.3846283079641, 208.11928412081176, 334.87178926260526, 719.8403705924471, 1250.5264375676577, 285.44316158033104, 412.3233751700765, 240.65582728245084, 452.7503051622978, 350.6385389129975, 429.6709538365122, 461.05857071620085, 367.9575380356143, 522.228484548594, 565.4291430854148, 307.34936147436275, 285.6186661466296, 287.6220758138038, 283.8372896879083, 299.541462812099, 1464.6565097710736, 550.9019902592983, 237.78300680386303, 199.15876675073903, 180.1477925942198, 67.4657263562781, 57.24806154121746, 56.4104673964164, 78.81151953245974, 55.023395628739465, 57.89693260533206, 48.063544236055165, 53.110880264238986, 82.72418275090226, 1828.264788853668, 48.03429668428211, 46.87728699849464, 45.85793999785703, 72.55937373743738, 113.1324958044924, 33.81798269458901, 480.6703262368189, 32.79014398900823, 31.668345699664627, 34.224676407735, 29.493090672015477, 28.967712579227264, 30.136521923741867, 28.50124345639017, 27.65768248946214, 7036.652897073127, 866.780932648983, 298.11872610332915, 632.3754330047739, 1275.4171143683452, 1442.5636898507128, 760.7746327574291, 1631.1331814390746, 484.5411145119512, 915.2104717500537, 1767.9934540660151, 178.23163282339027, 114.17528431740826, 814.0614747252906, 130.41125743120207, 222.7350625140397, 260.1408917806266, 363.1912684838847, 872.8716169518391, 150.836654267603, 362.7537015279071, 250.7843191943121, 235.74773687716169, 218.7866221824846, 147.1040199578855, 206.0053557114324, 212.0128558013999, 205.98487036168822, 390.47311523567964, 174.5771364976888, 214.06673926215066, 533.4080612109078, 101.55452420193023, 425.252804145487, 83.54775218550343, 2049.5997743128496, 136.5373755059633, 939.2048446409078, 44.57840212222712, 41.29336317899488, 62.48612313248406, 49.260248957714964, 38.16035135549676, 41.13612933451965, 35.829883749640516, 34.18121595254422, 34.68115010363055, 33.324486367219215, 48.50302481163633, 32.85951275400264, 31.593123303579937, 119.24035863475783, 32.35988284200992, 38.191118015228135, 36.460440452331405, 31.851395336152855, 695.3320863621175, 597.4377125013185, 57.63507314742083, 49.41168685490071, 37.87201356844608, 269.0972138269974, 794.7372730504616, 123.52364455537277, 508.1451868120961, 508.6310450911937, 160.33688297132062, 160.33688297132062, 156.61187193633583, 114.50601322554886, 567.813420501753, 181.72045475228637, 363.99550271205754, 233.17711355828476, 104.55210341524268, 148.1964799667313, 161.94029231489793, 115.99324944890378, 805.2828625499202, 623.1613154175474, 549.675313085331, 557.0164059491876, 362.7910096934546, 232.08790455273936, 232.08790455273936, 232.08790455273936, 2325.5026759607413, 143.14069251190597, 120.00460281549928, 106.66047371162507, 307.5658035718198, 84.45162477736861, 93.02910586206664, 88.1299241810777, 87.79778662560867, 58.46733518541224, 53.517982185066515, 62.83728031753605, 49.94445481687245, 44.252701310279996, 42.7637244457675, 40.95765775588531, 62.50437907296331, 40.279834800247585, 38.258664382660406, 45.35063269662034, 34.19409408505552, 33.161222900837714, 742.9827428193893, 58.06633120132782, 51.058393126826374, 91.33798660131718, 56.04693559721765, 81.71447138700995, 99.6558928144235, 72.34234429710277, 140.27666286861475, 58.85874723435417, 59.841523468125565, 72.59158798249962, 64.96130132885332, 588.9426864258065, 470.4090995975941, 721.635130426963, 248.32273833206344, 235.88644678290257, 225.0955478959199, 219.79867864928977, 178.43585438538318, 171.53001636493943, 147.8177005577498, 138.01873908421712, 143.53636285105532, 123.67495595903942, 144.84770787794892, 107.44059321668526, 304.0576538131722, 83.04645939646225, 77.95034676468727, 83.37507625186058, 150.60150374816214, 71.78228079925917, 80.34321884906032, 68.2174537050727, 65.58658710796682, 70.13790261162349, 83.1866937965449, 81.85623777018583, 65.70093722047085, 79.99894142258063, 54.44340434272586, 90.00834865405406, 115.03951781469145, 177.02967117550972, 698.4519936996952, 89.7680275320411, 202.67387454531928, 95.30810338216737, 258.38562112879254, 219.82185969632098, 325.8496847306532, 148.3219004800742, 541.7845153583289, 794.785572902194, 141.45925356141026, 113.7894178916156, 241.577661115769, 131.1086973728547, 139.47794225700684, 188.9765000193529], \"Total\": [7450.0, 2335.0, 2092.0, 1867.0, 2517.0, 3277.0, 1465.0, 1577.0, 2671.0, 1372.0, 1220.0, 960.0, 806.0, 1091.0, 769.0, 723.0, 748.0, 2138.0, 624.0, 730.0, 1425.0, 905.0, 767.0, 589.0, 1081.0, 881.0, 3622.0, 2528.0, 558.0, 550.0, 572.2944407532663, 207.87805135578174, 177.10013671933763, 95.35785104352063, 110.35230040941867, 70.81677305331708, 71.28223443775214, 71.49953221538524, 81.3739995588455, 61.89614039890978, 64.86747251623838, 89.0993631450283, 61.89081844590381, 64.33331822251938, 60.69427740129289, 58.88090968804136, 61.50244686552248, 52.1789426089647, 51.77082634273683, 55.39613047483031, 52.78256464391433, 89.44972800617815, 51.164982100814356, 97.3797368095856, 47.742794959813075, 55.13055164446359, 58.83126154419748, 60.72440377748428, 72.94059598870773, 56.08349245208428, 95.9529184356567, 118.23593850294783, 85.62678945309179, 617.7306143879546, 106.92356070702387, 126.06278814917734, 112.24764465810203, 125.27934021533622, 619.690691016397, 123.47819402601911, 228.05464531713818, 887.6666023494475, 395.53880040430306, 1033.2893159317107, 198.8202752405264, 160.44595078657082, 286.1274700060383, 251.72945349534663, 2209.06382330161, 360.3561724662067, 260.6109912880409, 170.16706799459666, 841.4685813310043, 192.4440402282439, 549.9977924219257, 622.7881170713314, 851.8748482908755, 544.9177096467015, 1181.2905216521106, 359.7417192379437, 537.3324387072275, 420.39797048824823, 483.7322918070405, 1087.450208254737, 873.7219453644539, 586.6940943498622, 820.0570915822993, 1365.8945983246429, 1851.1574740086667, 659.3390717975443, 641.9470581643797, 2685.6616088417254, 644.1548304805996, 899.3319574813436, 431.56434145435173, 3183.8516767935002, 1451.4429376500323, 1068.9726566983638, 840.1612414815494, 3622.9408606039874, 1076.033807097715, 820.2231063358905, 2138.5716946843672, 1002.3743927062415, 892.8165157188013, 1445.984202452091, 1394.6241372935544, 1985.1916494214072, 1200.4522746180387, 3277.1898778943696, 2528.9889400415623, 2517.985375744734, 359.08475477964157, 279.10224789976684, 246.50583207673637, 183.58711932748025, 201.3199562210558, 111.38197796358729, 182.33936424217092, 1081.8857883055803, 60.841894221279254, 54.43883571390843, 53.063470581825115, 62.209378478135044, 45.86325545054206, 55.95808074416973, 42.98831649069358, 37.646139030546266, 40.34756407888256, 36.84062439360041, 52.07649633964056, 36.03706600946189, 36.62678061985718, 35.25598611008198, 38.82596393228652, 37.323130911754866, 76.21779081456636, 37.86576132048345, 51.42366585469391, 44.45561101101999, 42.78303857648711, 32.66120165854443, 340.53895696066104, 47.71539505678029, 2671.8381059227886, 93.22604982044147, 46.38821919751446, 568.8473500181047, 196.3254007424251, 68.67159647236709, 62.0288949702422, 551.665563191234, 475.84825899194817, 108.53415100737985, 1374.3796260840795, 109.31676444584099, 152.16923579080438, 152.64272144264442, 2528.9889400415623, 746.0480473603461, 876.0886551175362, 340.1620253176814, 554.235599838994, 108.34755118703045, 293.4448430121231, 537.0789754690651, 1425.1820627480613, 3183.8516767935002, 469.5040023378533, 804.3323461480942, 465.89874840817856, 1394.6241372935544, 975.0079373009547, 1451.4429376500323, 1851.1574740086667, 1200.4522746180387, 2685.6616088417254, 3622.9408606039874, 901.877297687449, 860.9201395665253, 959.152591216048, 1068.9726566983638, 2138.5716946843672, 1465.6135005115625, 551.8643486839934, 238.77976855464038, 200.114568525211, 181.12033874947826, 68.42112408027863, 58.215295542206704, 57.36984453420461, 80.20030906224447, 56.03502398149354, 58.965783969269445, 49.04512291314219, 54.21146021646399, 84.462268135806, 1867.916025954589, 49.107677507312914, 47.93672645176551, 46.92469635261892, 74.2828994784751, 116.0158597294935, 34.798857228853365, 495.48083989093163, 33.8034822542761, 32.6502011745199, 35.34214896973631, 30.47557818617519, 29.936735658122686, 31.1704624501645, 29.496604800506635, 28.64304479115123, 7450.148511041254, 905.9122549077905, 310.93432796074813, 669.30440361657, 1372.9796377520663, 1577.6041514924661, 881.1886512976541, 2517.985375744734, 682.2401759658401, 1425.4147619985874, 3277.1898778943696, 239.96143933968864, 144.3493687192198, 1985.1916494214072, 179.6495674837613, 382.19668595237977, 494.7070693539358, 800.9467794681979, 3622.9408606039874, 267.4484359426347, 1445.984202452091, 804.3323461480942, 845.13631343277, 1220.3981107608072, 345.082588882555, 2685.6616088417254, 212.97288856766397, 206.9448909417472, 392.59870118603044, 175.75721101256383, 215.72195504826612, 539.057823243551, 102.80585642984582, 432.1440802978437, 85.27187555723967, 2092.658271738851, 139.49175201244043, 960.4311379953866, 45.59019503430224, 42.287867983570436, 64.03219160834993, 50.488375724414404, 39.16656753740265, 42.23281035731321, 36.80414660352559, 35.14476944460271, 35.67026240737145, 34.29318510389708, 49.93065738393008, 33.84113155270433, 32.58169864259333, 122.98214153919147, 33.382857643856575, 39.398796969462595, 37.61482188653601, 32.86866245412479, 730.2956671379794, 646.0317820902688, 59.87685793003212, 51.62760026711965, 39.24560458022581, 329.1560672580498, 1091.314065112931, 155.01309490226748, 845.13631343277, 855.2084126541605, 238.67715241158868, 238.67715241158868, 233.15259383426795, 190.95097069514972, 2138.5716946843672, 593.7710665603468, 3622.9408606039874, 1425.4147619985874, 430.17370507867656, 2209.06382330161, 7450.148511041254, 3183.8516767935002, 806.2053906287288, 624.0836371235033, 550.616247972086, 558.184045453031, 363.72166885950406, 233.00972735885364, 233.00972735885364, 233.00972735885364, 2335.6615154850792, 144.0858055348125, 120.92685632916718, 107.5825949314579, 310.70667904587833, 85.38125810009348, 94.18826742289522, 89.26624543548648, 88.95343020983826, 59.43419903656874, 54.45190757182598, 63.96447446090109, 50.945813551005855, 45.18406894375157, 43.700446649846704, 41.89185477046645, 64.0053295242097, 41.25252567539238, 39.20703528974721, 46.53607716952739, 35.12829929934558, 34.119976803437744, 769.738312613574, 60.13334436298926, 53.717942192629096, 103.79544707208474, 60.37567411074178, 102.7831242974776, 137.06350078176976, 91.80838926345643, 440.38327093927654, 75.13291602357917, 104.39766941374752, 2138.5716946843672, 3277.1898778943696, 589.8358600798724, 471.3183761810482, 723.7460437235457, 249.20942267963622, 236.77590319973837, 225.98958262688578, 220.69329834390277, 179.32779790113725, 172.42217679790963, 148.7604933217476, 138.92456271720997, 144.55646008019656, 124.56313817950318, 145.9420712236819, 108.32998240471619, 306.86776971824656, 83.93587259424817, 78.8585207366857, 84.38760024463691, 152.43951718948696, 72.67178026469996, 81.34083057463711, 69.11555222284146, 66.48645807578222, 71.14075874944956, 84.43230126417964, 83.09743777540585, 66.76947451984013, 81.30125605493754, 55.332894705770364, 91.68384311166189, 117.5301836936041, 181.72459251281578, 748.5036334506947, 91.63985780560769, 214.12341443782776, 97.60668567914773, 280.8527917994514, 240.79847861806792, 370.2265511503357, 161.0275764650368, 767.7587413782528, 1220.3981107608072, 159.65872678239592, 138.4891420985931, 2685.6616088417254, 345.082588882555, 597.8037680815629, 7450.148511041254], \"Category\": [\"Default\", \"Default\", \"Default\", \"Default\", \"Default\", \"Default\", \"Default\", \"Default\", \"Default\", \"Default\", \"Default\", \"Default\", \"Default\", \"Default\", \"Default\", \"Default\", \"Default\", \"Default\", \"Default\", \"Default\", \"Default\", \"Default\", \"Default\", \"Default\", \"Default\", \"Default\", \"Default\", \"Default\", \"Default\", \"Default\", \"Topic1\", \"Topic1\", \"Topic1\", \"Topic1\", \"Topic1\", \"Topic1\", \"Topic1\", \"Topic1\", \"Topic1\", \"Topic1\", \"Topic1\", \"Topic1\", \"Topic1\", \"Topic1\", \"Topic1\", \"Topic1\", \"Topic1\", \"Topic1\", \"Topic1\", \"Topic1\", \"Topic1\", \"Topic1\", \"Topic1\", \"Topic1\", \"Topic1\", \"Topic1\", \"Topic1\", \"Topic1\", \"Topic1\", \"Topic1\", \"Topic1\", \"Topic1\", \"Topic1\", \"Topic1\", \"Topic1\", \"Topic1\", \"Topic1\", \"Topic1\", \"Topic1\", \"Topic1\", \"Topic1\", \"Topic1\", \"Topic1\", \"Topic1\", \"Topic1\", \"Topic1\", \"Topic1\", \"Topic1\", \"Topic1\", \"Topic1\", \"Topic1\", \"Topic1\", \"Topic1\", \"Topic1\", \"Topic1\", \"Topic1\", \"Topic1\", \"Topic1\", \"Topic1\", \"Topic1\", \"Topic1\", \"Topic1\", \"Topic1\", \"Topic1\", \"Topic1\", \"Topic1\", \"Topic1\", \"Topic1\", \"Topic1\", \"Topic1\", \"Topic1\", \"Topic1\", \"Topic1\", \"Topic1\", \"Topic1\", \"Topic1\", \"Topic1\", \"Topic1\", \"Topic1\", \"Topic1\", \"Topic1\", \"Topic1\", \"Topic1\", \"Topic1\", \"Topic1\", \"Topic1\", \"Topic1\", \"Topic1\", \"Topic1\", \"Topic1\", \"Topic1\", \"Topic1\", \"Topic2\", \"Topic2\", \"Topic2\", \"Topic2\", \"Topic2\", \"Topic2\", \"Topic2\", \"Topic2\", \"Topic2\", \"Topic2\", \"Topic2\", \"Topic2\", \"Topic2\", \"Topic2\", \"Topic2\", \"Topic2\", \"Topic2\", \"Topic2\", \"Topic2\", \"Topic2\", \"Topic2\", \"Topic2\", \"Topic2\", \"Topic2\", \"Topic2\", \"Topic2\", \"Topic2\", \"Topic2\", \"Topic2\", \"Topic2\", \"Topic2\", \"Topic2\", \"Topic2\", \"Topic2\", \"Topic2\", \"Topic2\", \"Topic2\", \"Topic2\", \"Topic2\", \"Topic2\", \"Topic2\", \"Topic2\", \"Topic2\", \"Topic2\", \"Topic2\", \"Topic2\", \"Topic2\", \"Topic2\", \"Topic2\", \"Topic2\", \"Topic2\", \"Topic2\", \"Topic2\", \"Topic2\", \"Topic2\", \"Topic2\", \"Topic2\", \"Topic2\", \"Topic2\", \"Topic2\", \"Topic2\", \"Topic2\", \"Topic2\", \"Topic2\", \"Topic2\", \"Topic2\", \"Topic2\", \"Topic2\", \"Topic2\", \"Topic2\", \"Topic2\", \"Topic3\", \"Topic3\", \"Topic3\", \"Topic3\", \"Topic3\", \"Topic3\", \"Topic3\", \"Topic3\", \"Topic3\", \"Topic3\", \"Topic3\", \"Topic3\", \"Topic3\", \"Topic3\", \"Topic3\", \"Topic3\", \"Topic3\", \"Topic3\", \"Topic3\", \"Topic3\", \"Topic3\", \"Topic3\", \"Topic3\", \"Topic3\", \"Topic3\", \"Topic3\", \"Topic3\", \"Topic3\", \"Topic3\", \"Topic3\", \"Topic3\", \"Topic3\", \"Topic3\", \"Topic3\", \"Topic3\", \"Topic3\", \"Topic3\", \"Topic3\", \"Topic3\", \"Topic3\", \"Topic3\", \"Topic3\", \"Topic3\", \"Topic3\", \"Topic3\", \"Topic3\", \"Topic3\", \"Topic3\", \"Topic3\", \"Topic3\", \"Topic3\", \"Topic3\", \"Topic3\", \"Topic3\", \"Topic3\", \"Topic3\", \"Topic4\", \"Topic4\", \"Topic4\", \"Topic4\", \"Topic4\", \"Topic4\", \"Topic4\", \"Topic4\", \"Topic4\", \"Topic4\", \"Topic4\", \"Topic4\", \"Topic4\", \"Topic4\", \"Topic4\", \"Topic4\", \"Topic4\", \"Topic4\", \"Topic4\", \"Topic4\", \"Topic4\", \"Topic4\", \"Topic4\", \"Topic4\", \"Topic4\", \"Topic4\", \"Topic4\", \"Topic4\", \"Topic4\", \"Topic4\", \"Topic4\", \"Topic4\", \"Topic4\", \"Topic4\", \"Topic4\", \"Topic4\", \"Topic4\", \"Topic4\", \"Topic4\", \"Topic4\", \"Topic4\", \"Topic4\", \"Topic4\", \"Topic4\", \"Topic4\", \"Topic4\", \"Topic4\", \"Topic4\", \"Topic4\", \"Topic4\", \"Topic4\", \"Topic4\", \"Topic5\", \"Topic5\", \"Topic5\", \"Topic5\", \"Topic5\", \"Topic5\", \"Topic5\", \"Topic5\", \"Topic5\", \"Topic5\", \"Topic5\", \"Topic5\", \"Topic5\", \"Topic5\", \"Topic5\", \"Topic5\", \"Topic5\", \"Topic5\", \"Topic5\", \"Topic5\", \"Topic5\", \"Topic5\", \"Topic5\", \"Topic5\", \"Topic5\", \"Topic5\", \"Topic5\", \"Topic5\", \"Topic5\", \"Topic5\", \"Topic5\", \"Topic5\", \"Topic5\", \"Topic5\", \"Topic5\", \"Topic5\", \"Topic5\", \"Topic5\", \"Topic5\", \"Topic5\", \"Topic5\", \"Topic5\", \"Topic5\", \"Topic6\", \"Topic6\", \"Topic6\", \"Topic6\", \"Topic6\", \"Topic6\", \"Topic6\", \"Topic6\", \"Topic6\", \"Topic6\", \"Topic6\", \"Topic6\", \"Topic6\", \"Topic6\", \"Topic6\", \"Topic6\", \"Topic6\", \"Topic6\", \"Topic6\", \"Topic6\", \"Topic6\", \"Topic6\", \"Topic6\", \"Topic6\", \"Topic6\", \"Topic6\", \"Topic6\", \"Topic6\", \"Topic6\", \"Topic6\", \"Topic6\", \"Topic6\", \"Topic6\", \"Topic6\", \"Topic6\", \"Topic6\", \"Topic6\", \"Topic6\", \"Topic6\", \"Topic6\", \"Topic6\", \"Topic6\", \"Topic6\", \"Topic6\", \"Topic6\", \"Topic6\", \"Topic6\", \"Topic6\", \"Topic6\"], \"logprob\": [30.0, 29.0, 28.0, 27.0, 26.0, 25.0, 24.0, 23.0, 22.0, 21.0, 20.0, 19.0, 18.0, 17.0, 16.0, 15.0, 14.0, 13.0, 12.0, 11.0, 10.0, 9.0, 8.0, 7.0, 6.0, 5.0, 4.0, 3.0, 2.0, 1.0, -5.8212, -6.8381, -7.0012, -7.6229, -7.4769, -7.9223, -7.9157, -7.9129, -7.7847, -8.0595, -8.0127, -7.6956, -8.0602, -8.0218, -8.0804, -8.1113, -8.0678, -8.2326, -8.2406, -8.173, -8.2229, -7.6959, -8.2548, -7.6121, -8.325, -8.1812, -8.1162, -8.0846, -7.9013, -8.1643, -7.628, -7.4224, -7.7449, -5.793, -7.5255, -7.3646, -7.4802, -7.3738, -5.82, -7.3951, -6.81, -5.5124, -6.2867, -5.3771, -6.9437, -7.149, -6.6059, -6.7284, -4.7072, -6.3979, -6.7025, -7.1009, -5.6181, -6.9897, -6.027, -5.9155, -5.6421, -6.0482, -5.3558, -6.4293, -6.0707, -6.2892, -6.169, -5.4505, -5.6468, -5.999, -5.7062, -5.2658, -5.0112, -5.912, -5.9406, -4.7509, -5.9434, -5.6723, -6.2769, -4.7032, -5.3211, -5.5635, -5.7538, -4.687, -5.5795, -5.7811, -5.1354, -5.6521, -5.7282, -5.4278, -5.451, -5.2831, -5.5748, -5.0622, -5.472, -5.5181, -5.5021, -5.7547, -5.88, -6.1767, -6.0849, -6.6785, -6.1872, -4.4092, -7.2912, -7.4048, -7.4317, -7.2749, -7.58, -7.3815, -7.6468, -7.7806, -7.7114, -7.8026, -7.4567, -7.8255, -7.8096, -7.8478, -7.7515, -7.7914, -7.0781, -7.778, -7.4722, -7.6183, -7.6569, -7.9268, -5.6027, -7.551, -3.6201, -6.8974, -7.5799, -5.1543, -6.1946, -7.2059, -7.3049, -5.2291, -5.3727, -6.7793, -4.4017, -6.7726, -6.4698, -6.4736, -3.9948, -5.0965, -4.9997, -5.8557, -5.4816, -6.8355, -6.0447, -5.5691, -4.8038, -4.2515, -5.7288, -5.361, -5.8995, -5.2675, -5.5231, -5.3198, -5.2493, -5.4749, -5.1247, -5.0453, -5.6549, -5.7282, -5.7212, -5.7344, -5.6806, -3.5532, -4.531, -5.3712, -5.5485, -5.6488, -6.6309, -6.7952, -6.8099, -6.4755, -6.8348, -6.7839, -6.97, -6.8702, -6.4271, -3.3314, -6.9706, -6.995, -7.017, -6.5582, -6.114, -7.3216, -4.6674, -7.3524, -7.3872, -7.3096, -7.4584, -7.4764, -7.4368, -7.4926, -7.5227, -1.9837, -4.0778, -5.1451, -4.3931, -3.6915, -3.5684, -4.2082, -3.4455, -4.6594, -4.0234, -3.365, -5.6595, -6.1048, -4.1405, -5.9719, -5.4366, -5.2813, -4.9476, -4.0708, -5.8264, -4.9488, -5.318, -5.3798, -5.4545, -5.8514, -5.5147, -5.0501, -5.0789, -4.4394, -5.2443, -5.0404, -4.1274, -5.7861, -4.354, -5.9813, -2.7813, -5.4901, -3.5617, -6.6095, -6.686, -6.2718, -6.5096, -6.7649, -6.6898, -6.8279, -6.875, -6.8605, -6.9004, -6.5251, -6.9145, -6.9538, -5.6256, -6.9298, -6.7641, -6.8105, -6.9456, -3.8623, -4.0141, -6.3526, -6.5065, -6.7725, -4.8116, -3.7287, -5.5903, -4.1759, -4.175, -5.3294, -5.3294, -5.3529, -5.6661, -4.0649, -5.2042, -4.5096, -4.9549, -5.757, -5.4082, -5.3195, -5.6532, -3.4839, -3.7402, -3.8657, -3.8525, -4.2812, -4.7279, -4.7279, -4.7279, -2.4234, -5.2112, -5.3875, -5.5054, -4.4464, -5.7389, -5.6421, -5.6962, -5.7, -6.1066, -6.195, -6.0345, -6.2641, -6.3851, -6.4194, -6.4625, -6.0398, -6.4792, -6.5307, -6.3606, -6.643, -6.6737, -3.5644, -6.1135, -6.2421, -5.6605, -6.1489, -5.7718, -5.5733, -5.8936, -5.2314, -6.0999, -6.0833, -5.8902, -6.0013, -3.791, -4.0157, -3.5878, -4.6546, -4.706, -4.7528, -4.7766, -4.9851, -5.0246, -5.1734, -5.2419, -5.2027, -5.3517, -5.1936, -5.4924, -4.4521, -5.7499, -5.8133, -5.746, -5.1547, -5.8957, -5.783, -5.9466, -5.986, -5.9189, -5.7482, -5.7644, -5.9842, -5.7873, -6.1722, -5.6694, -5.4241, -4.993, -3.6205, -5.6721, -4.8577, -5.6122, -4.6149, -4.7765, -4.3829, -5.1699, -3.8745, -3.4913, -5.2173, -5.435, -4.6821, -5.2933, -5.2314, -4.9277], \"loglift\": [30.0, 29.0, 28.0, 27.0, 26.0, 25.0, 24.0, 23.0, 22.0, 21.0, 20.0, 19.0, 18.0, 17.0, 16.0, 15.0, 14.0, 13.0, 12.0, 11.0, 10.0, 9.0, 8.0, 7.0, 6.0, 5.0, 4.0, 3.0, 2.0, 1.0, 0.7703, 0.766, 0.7632, 0.7606, 0.7605, 0.7588, 0.7587, 0.7585, 0.7574, 0.7562, 0.7561, 0.7558, 0.7556, 0.7552, 0.7549, 0.7543, 0.7543, 0.7539, 0.7537, 0.7536, 0.752, 0.7515, 0.7512, 0.7504, 0.7503, 0.7502, 0.7502, 0.7502, 0.7501, 0.75, 0.7493, 0.746, 0.7463, 0.7221, 0.7435, 0.7398, 0.7402, 0.7367, 0.6919, 0.73, 0.7016, 0.6402, 0.6742, 0.6236, 0.705, 0.7141, 0.6788, 0.6844, 0.5336, 0.6562, 0.6756, 0.7034, 0.5879, 0.6916, 0.6042, 0.5915, 0.5516, 0.5923, 0.511, 0.6264, 0.5838, 0.6108, 0.5906, 0.4991, 0.5216, 0.5677, 0.5255, 0.4558, 0.4063, 0.5379, 0.536, 0.2945, 0.5298, 0.4672, 0.5968, 0.1721, 0.3397, 0.4032, 0.4538, 0.0591, 0.3806, 0.4504, 0.1378, 0.3789, 0.4186, 0.2368, 0.2497, 0.0646, 0.2758, -0.2158, -0.3665, -0.4081, 1.5554, 1.5548, 1.5537, 1.5518, 1.5513, 1.5497, 1.5481, 1.5455, 1.5416, 1.5392, 1.5379, 1.5357, 1.5355, 1.535, 1.5334, 1.5323, 1.5322, 1.5319, 1.5317, 1.531, 1.5307, 1.5307, 1.5306, 1.5301, 1.5294, 1.5291, 1.5288, 1.5283, 1.5281, 1.5281, 1.5079, 1.5248, 1.4305, 1.5087, 1.5242, 1.4432, 1.4667, 1.5059, 1.5086, 1.3991, 1.4033, 1.4747, 1.3137, 1.4742, 1.4463, 1.4394, 1.1108, 1.2298, 1.166, 1.256, 1.142, 1.4203, 1.2147, 1.0859, 0.8753, 0.6237, 1.0606, 0.8901, 0.8977, 0.4332, 0.5356, 0.341, 0.1682, 0.3758, -0.0793, -0.2992, 0.4818, 0.4549, 0.3539, 0.2322, -0.4074, 2.0979, 2.0968, 2.0944, 2.0938, 2.0932, 2.0845, 2.0818, 2.0817, 2.0811, 2.0803, 2.0803, 2.0783, 2.0781, 2.0778, 2.0771, 2.0765, 2.0762, 2.0756, 2.0751, 2.0734, 2.07, 2.0682, 2.0681, 2.068, 2.0664, 2.0658, 2.0657, 2.0648, 2.0642, 2.0636, 2.0415, 2.0544, 2.0565, 2.0418, 2.0249, 2.0091, 1.9516, 1.6644, 1.7564, 1.6555, 1.4814, 1.8012, 1.8641, 1.2071, 1.7782, 1.5586, 1.4558, 1.3077, 0.6753, 1.5258, 0.7157, 0.9331, 0.8218, 0.3797, 1.2459, -0.4692, 2.5299, 2.5298, 2.529, 2.5277, 2.5267, 2.5239, 2.5222, 2.5183, 2.514, 2.5136, 2.513, 2.5121, 2.512, 2.5106, 2.51, 2.5098, 2.5084, 2.5081, 2.5076, 2.5066, 2.5063, 2.5058, 2.5054, 2.505, 2.5036, 2.5035, 2.5033, 2.5033, 2.5032, 2.503, 2.4854, 2.4562, 2.4963, 2.4905, 2.4988, 2.333, 2.2173, 2.3073, 2.0257, 2.0148, 2.1366, 2.1366, 2.1365, 2.023, 1.2083, 1.3504, 0.2365, 0.724, 1.1199, -0.1674, -1.2943, -0.7779, 2.7649, 2.7646, 2.7644, 2.764, 2.7635, 2.7621, 2.7621, 2.7621, 2.7617, 2.7595, 2.7584, 2.7575, 2.7559, 2.7551, 2.7537, 2.7533, 2.753, 2.7497, 2.7488, 2.7483, 2.7462, 2.7453, 2.7444, 2.7435, 2.7423, 2.7422, 2.7416, 2.7403, 2.7391, 2.7376, 2.7307, 2.7311, 2.7153, 2.6382, 2.6917, 2.5367, 2.4474, 2.5278, 1.622, 2.522, 2.2096, -0.617, -1.1549, 2.7703, 2.7699, 2.7689, 2.7682, 2.768, 2.7678, 2.7677, 2.7668, 2.7666, 2.7654, 2.7653, 2.7647, 2.7646, 2.7643, 2.7635, 2.7626, 2.7611, 2.7602, 2.7597, 2.7597, 2.7595, 2.7595, 2.7587, 2.7582, 2.7576, 2.7569, 2.7567, 2.7557, 2.7556, 2.7556, 2.7533, 2.7504, 2.7456, 2.7026, 2.7512, 2.7168, 2.748, 2.6884, 2.6807, 2.6441, 2.6896, 2.4232, 2.3429, 2.6508, 2.5754, 0.3633, 1.804, 1.3164, -0.9026]}, \"token.table\": {\"Topic\": [3, 1, 1, 2, 3, 4, 5, 6, 5, 5, 6, 5, 6, 1, 2, 4, 5, 6, 6, 1, 2, 3, 4, 5, 6, 5, 1, 3, 4, 5, 6, 5, 5, 1, 2, 3, 4, 5, 6, 2, 6, 5, 1, 2, 3, 4, 5, 6, 1, 2, 3, 4, 5, 6, 1, 4, 4, 3, 1, 2, 3, 4, 5, 6, 1, 2, 3, 4, 5, 6, 3, 1, 2, 3, 4, 5, 6, 3, 3, 1, 2, 3, 4, 5, 6, 1, 2, 3, 4, 5, 6, 2, 4, 6, 1, 2, 3, 4, 5, 1, 2, 3, 4, 5, 6, 2, 3, 1, 2, 3, 4, 5, 6, 3, 4, 2, 1, 2, 3, 4, 5, 6, 1, 1, 2, 4, 5, 3, 6, 1, 3, 6, 6, 1, 6, 6, 6, 2, 1, 6, 1, 6, 6, 5, 1, 6, 3, 1, 2, 3, 4, 1, 2, 3, 4, 5, 1, 2, 3, 4, 5, 6, 1, 2, 3, 4, 1, 2, 3, 5, 6, 1, 1, 2, 3, 4, 6, 1, 2, 4, 1, 2, 3, 4, 5, 6, 1, 2, 3, 4, 5, 6, 2, 4, 5, 6, 1, 2, 3, 4, 5, 6, 2, 2, 3, 1, 2, 3, 4, 1, 2, 3, 4, 5, 6, 1, 6, 1, 1, 2, 3, 4, 5, 6, 2, 2, 1, 2, 3, 5, 6, 3, 4, 2, 5, 1, 2, 3, 5, 5, 1, 2, 1, 2, 3, 4, 5, 6, 1, 2, 3, 4, 5, 6, 1, 2, 3, 4, 5, 6, 1, 2, 3, 4, 5, 6, 4, 1, 2, 3, 4, 5, 6, 1, 2, 1, 2, 4, 5, 6, 1, 2, 3, 4, 5, 6, 1, 2, 3, 4, 5, 6, 1, 2, 3, 4, 5, 6, 6, 1, 2, 3, 4, 5, 6, 1, 2, 3, 4, 6, 6, 6, 3, 1, 2, 3, 4, 5, 5, 6, 1, 2, 2, 4, 1, 2, 3, 4, 5, 6, 4, 2, 4, 5, 6, 1, 2, 3, 4, 5, 6, 1, 2, 3, 4, 6, 1, 2, 3, 4, 5, 6, 5, 5, 6, 4, 2, 1, 2, 3, 4, 5, 6, 3, 5, 1, 2, 3, 4, 5, 6, 1, 2, 3, 4, 5, 6, 1, 2, 3, 4, 5, 6, 1, 2, 3, 4, 5, 6, 1, 2, 3, 1, 2, 1, 2, 3, 4, 5, 6, 1, 2, 1, 2, 3, 6, 1, 2, 3, 4, 5, 6, 1, 2, 3, 4, 5, 6, 1, 5, 6, 5, 2, 6, 3, 5, 2, 3, 4, 1, 1, 2, 3, 4, 5, 6, 2, 4, 1, 2, 3, 4, 5, 6, 1, 2, 4, 4, 1, 3, 1, 2, 3, 4, 6, 3, 2, 4, 4, 4, 5, 1, 2, 3, 4, 5, 6, 5, 1, 2, 3, 4, 4, 1, 1, 2, 3, 4, 5, 6, 1, 2, 3, 2, 3, 1, 2, 3, 4, 5, 6, 1, 4, 1, 2, 3, 4, 6, 4, 1, 6, 1, 2, 3, 4, 5, 6, 5, 3, 6, 2, 1, 2, 1, 2, 3, 4, 5, 6, 1, 2, 3, 4, 5, 6, 1, 2, 3, 4, 5, 6, 1, 2, 3, 4, 5, 6, 6, 1, 2, 3, 4, 5, 6, 4, 6, 1, 2, 3, 4, 5, 6, 2, 5, 1, 1, 4, 4, 6, 1, 1, 3, 5, 5, 1, 2, 3, 4, 5, 6, 5, 5, 1, 1, 2, 3, 4, 5, 6, 5, 1, 2, 3, 4, 5, 6, 2, 4, 1, 2, 3, 4, 5, 6, 2, 6, 3, 4, 5, 3, 4, 5, 1, 2, 3, 4, 5, 6, 3, 1, 2, 3, 4, 5, 6, 6, 3, 5, 5, 1, 2, 3, 4, 6, 4, 1, 2, 3, 4, 5, 6, 6, 1, 4, 3, 2, 3, 5, 1, 2, 3, 4, 5, 6, 1, 2, 3, 4, 5, 6, 5, 2, 5, 1, 2, 3, 5, 6, 2, 3, 4, 1, 2, 3, 4, 5, 6, 2, 3, 5, 1, 1, 2, 3, 4, 5, 6, 1, 6, 1, 2, 3, 4, 5, 6, 1, 2, 5, 1, 2, 3, 4, 5, 6, 1, 1, 1, 2, 3, 5, 6, 1, 3, 4, 1, 2, 3, 4, 5, 6, 3, 1, 3, 4, 1, 2, 3, 4, 5, 6, 1, 2, 3, 4, 5, 6, 1, 2, 3, 4, 5, 6, 2, 1, 1, 2, 3, 4, 1, 2, 3, 4, 5, 1, 1, 2, 3, 4, 5, 6, 4, 3, 1, 2, 3, 4, 5, 6, 2, 3, 4, 1, 2, 3, 4, 5, 6, 1, 2, 3, 4, 5, 6, 1, 2, 4, 6, 1, 1, 2, 3, 4, 5, 6, 5, 3, 1, 2, 3, 4, 5, 6, 1, 2, 3, 4, 5, 4, 3, 1, 1, 1, 2, 3, 4, 5, 6, 4, 1, 2, 3, 4, 5, 1, 1, 2, 3, 4, 5, 6, 1, 1, 2, 3, 4, 5, 6, 1, 2, 3, 4, 5, 6, 2, 3, 4, 5, 6, 5, 3, 6, 1, 3, 4, 1, 2, 3, 4, 5, 6, 4, 1, 2, 3, 4, 5, 6, 1, 2, 4, 2, 5, 1, 2, 3, 4, 5, 6, 1, 2, 3, 4, 5, 6, 1, 2, 3, 4, 5, 6, 1, 2, 3, 4, 5, 6, 6, 6, 1, 2, 3, 4, 5, 6, 1, 2, 3, 5, 5, 1, 2, 6, 5, 2, 2, 3, 2, 1, 2, 3, 4, 5, 1, 2, 3, 4, 5, 6, 1, 2, 1, 2, 3, 4, 5, 6, 2, 3, 1, 2, 3, 4, 5, 6, 6, 1, 2, 6, 1, 2, 3, 4, 5, 6, 1, 2, 3, 4, 5, 6, 1, 2, 3, 4, 5, 6, 4, 3, 6, 1, 1, 2, 3, 4, 5, 6, 2, 3, 5, 6, 1, 2, 3, 4, 5, 6, 1, 2, 3, 4, 5, 6, 6, 3, 1, 2], \"Freq\": [0.9850336105149807, 0.9792748414140923, 0.8645091279899496, 0.0750538471245294, 0.022238176925786488, 0.03057749327295642, 0.002779772115723311, 0.002779772115723311, 0.9956665870978915, 0.006517465166955521, 0.9906547053772391, 0.0065599787931430505, 0.9905567977646006, 0.2394689473470937, 0.10536633683272123, 0.06705130525718624, 0.5747254736330248, 0.009578757893883749, 0.9835568230330723, 0.7782796387429104, 0.14535516782404356, 0.019456990968572757, 0.038913981937145514, 0.012589817685547079, 0.006867173283025679, 0.9671753351448673, 0.014591776720954814, 0.2042848740933674, 0.029183553441909628, 0.7295888360477407, 0.014591776720954814, 0.9924641741718955, 0.9678806169996793, 0.7897847549138164, 0.15421832492399964, 0.028039695440727208, 0.021808652009454494, 0.0031155217156363566, 0.0031155217156363566, 0.977182135008916, 0.9867933620483945, 0.9923353971375536, 0.6490093241454955, 0.2962569101725723, 0.017224238963521644, 0.026869812783093763, 0.0055117564683269255, 0.00482278690978606, 0.008565695554661393, 0.004818203749497034, 0.9786307171200642, 0.0032121358329980226, 0.0021414238886653483, 0.0026767798608316857, 0.9710671465045515, 0.026726618711134444, 0.995431866590123, 0.9687094922833204, 0.03933142765197856, 0.12536892564068164, 0.17944963866215216, 0.0016388094854991066, 0.003277618970998213, 0.6514267704858948, 0.8515740444327561, 0.08325444568476666, 0.033301778273906665, 0.014272190688817141, 0.009514793792544761, 0.009514793792544761, 0.9515816180037376, 0.7272413553885871, 0.19520062566894972, 0.0583221381571862, 0.00595123858746798, 0.009521981739948768, 0.003570743152480788, 0.9984337660404146, 0.9804591068038813, 0.36059337049949214, 0.5172797755379619, 0.10946584461591725, 0.0064391673303480735, 0.0021463891101160247, 0.004292778220232049, 0.05625410753690165, 0.8912760162877856, 0.01582146774475359, 0.01054764516316906, 0.007031763442112707, 0.019337349465809943, 0.004635596779086568, 0.9920177107245257, 0.9985828937566474, 0.10564165886097816, 0.7088214530026922, 0.12949622699087646, 0.03067015902415495, 0.023854568129898293, 0.21628961182975812, 0.2385249924851538, 0.5255635427638982, 0.010106991206998043, 0.006064194724198825, 0.0020213982413996084, 0.9793285567327782, 0.019202520720250554, 0.013945196568598826, 0.008874215998199252, 0.914678120385823, 0.055780786274395304, 0.0006338725712999466, 0.006338725712999466, 0.014337765288241789, 0.9821369222445625, 0.964375238118136, 0.5421452277376694, 0.30026504920855535, 0.01668139162269752, 0.015638804646278922, 0.00417034790567438, 0.1219826762409756, 0.9855218694875915, 0.08306602134887317, 0.867578445199342, 0.009229557927652574, 0.027688673782957723, 0.011843808412506807, 0.983036098238065, 0.977230870548945, 0.9967343608742046, 0.9759113505111568, 0.9835158976719965, 0.08305700316205956, 0.9136270347826553, 0.9877228595888862, 0.997551493631794, 0.991354952715124, 0.10647711116455197, 0.8831336867177545, 0.010907047153140151, 0.9816342437826135, 0.9839647654944588, 0.9917007944812608, 0.07452139728753546, 0.9190972332129372, 0.9776530605959204, 0.0010411990620037596, 0.0010411990620037596, 0.018741583116067675, 0.9776859192215304, 0.07783378890922008, 0.06810456529556756, 0.03891689445461004, 0.01945844722730502, 0.7977963363195058, 0.02366482149934383, 0.06862798234809711, 0.2792448936922572, 0.6010864660833333, 0.021298339349409445, 0.005916205374835957, 0.002314043037013898, 0.01157021518506949, 0.002314043037013898, 0.9834682907309067, 0.032756229401208314, 0.8909694397128662, 0.019653737640724988, 0.045858721161691644, 0.013102491760483326, 0.9850391291046872, 0.955634320138625, 0.008098595933378179, 0.008098595933378179, 0.016197191866756357, 0.008098595933378179, 0.03224303771588196, 0.9511696126185178, 0.9812094904232345, 0.9411268982466497, 0.0186978853956288, 0.0062326284652096005, 0.012465256930419201, 0.012465256930419201, 0.0062326284652096005, 0.81473463701674, 0.12953939835412603, 0.013635726142539582, 0.02897591805289661, 0.006817863071269791, 0.005113397303452343, 0.982836512662773, 0.9674270321674137, 0.17329878455679892, 0.823169226644795, 0.007794856903546304, 0.0025982856345154346, 0.012991428172577174, 0.0025982856345154346, 0.9652631132224839, 0.007794856903546304, 0.9960507380070881, 0.9938912922909361, 0.9831640012853918, 0.0713101817037303, 0.9117516089262658, 0.010187168814818614, 0.005093584407409307, 0.02689402917426751, 0.22801459517313757, 0.14499389641779006, 0.5951765586827027, 0.0011693056162725005, 0.004677222465090002, 0.001381700126269674, 0.9975874911667046, 0.9837928181729293, 0.00958515888151565, 0.004107925234935279, 0.02327824299796658, 0.9516693460933395, 0.0054772336465803715, 0.0054772336465803715, 0.9934434904227455, 0.9797557461156224, 0.09305612354317698, 0.04085390789700453, 0.8636062197116791, 0.002269661549833585, 0.0011348307749167925, 0.009275442790004657, 0.9887622014144966, 0.9709019273470925, 0.01312029631550125, 0.15240800978349378, 0.04849345765838438, 0.7897505961508313, 0.006927636808340625, 0.9849217167962409, 0.005484279295127228, 0.9871702731229011, 0.008406041052821597, 0.8574161873878029, 0.10927853368668076, 0.014710571842437795, 0.006304530789616198, 0.004203020526410799, 0.4943549499035735, 0.3599970693281209, 0.035897143665197244, 0.10358890029099777, 0.0020512653522969855, 0.0030768980284454784, 0.32769854721326236, 0.6237443938434255, 0.024205006328252333, 0.014895388509693743, 0.005585770691135154, 0.0037238471274234357, 0.8907853521784826, 0.05272561274576689, 0.011100128999108819, 0.03607541924710366, 0.0027750322497772048, 0.0055500644995544095, 0.9921613762305873, 0.933986675447006, 0.04823405366158247, 0.008769827938469539, 0.0043849139692347695, 0.0043849139692347695, 0.0043849139692347695, 0.02155719743717994, 0.9700738846730973, 0.9249442060605625, 0.031177894586311095, 0.025981578821925914, 0.005196315764385183, 0.010392631528770365, 0.7614141720832147, 0.17288147868556084, 0.02115039366897819, 0.02574830533614736, 0.01287415266807368, 0.00643707633403684, 0.5575430030498308, 0.33220270598385754, 0.06272358784310597, 0.018584766768327692, 0.023230958460409616, 0.005807739615102404, 0.9176518551662853, 0.03178015082826963, 0.011917556560601108, 0.019862594267668513, 0.015890075414134813, 0.003972518853533703, 0.9925956939377059, 0.06163154321853864, 0.8519654503739166, 0.06163154321853864, 0.007250769790416311, 0.010876154685624466, 0.005438077342812233, 0.019054873134077804, 0.25064486968671573, 0.7108933438482873, 0.005863037887408555, 0.01319183524666925, 0.9972027906237592, 0.9935448961647392, 0.9762307845022546, 0.010091207565363438, 0.0060547245392180635, 0.9707741677879628, 0.0020182415130726877, 0.012109449078436127, 0.9985048591305142, 0.9839946377451014, 0.9857604693408946, 0.9770096488680236, 0.9875924454848604, 0.9954340938911453, 0.1197877105844728, 0.03992923686149093, 0.013309745620496976, 0.03992923686149093, 0.7852749916093217, 0.9907559679664779, 0.9622903180331849, 0.003560584153687424, 0.04628759399793652, 0.032045257383186816, 0.9186307116513555, 0.0060401480498421195, 0.00107380409774971, 0.9445449294830888, 0.02174453297943163, 0.0013422551221871377, 0.0253686218093369, 0.10722070945338982, 0.014489285061268896, 0.42598498080130554, 0.07244642530634447, 0.3796192686052451, 0.3722701599407671, 0.03814243442016056, 0.539486592438751, 0.014646694817341656, 0.019834065898483494, 0.015867252718786796, 0.9956665870978915, 0.05137224263343665, 0.9480513867806946, 0.9751446977653702, 0.9969791121310421, 0.024035316396993182, 0.024035316396993182, 0.9286372244292821, 0.017480230106904134, 0.0043700575267260336, 0.001456685842242011, 0.9786905842810696, 0.9787105446785993, 0.6203313159465812, 0.19436551436021332, 0.07670363210383897, 0.008563997759166487, 0.010053388673804137, 0.09010815033557783, 0.30738860021022846, 0.015091429984481501, 0.6477400606497192, 0.004765714731941527, 0.0011914286829853818, 0.024225716554036096, 0.835172691264437, 0.010336295683965805, 0.028941627915104254, 0.002067259136793161, 0.002067259136793161, 0.1219682890707965, 0.2359097388200667, 0.7197927826498626, 0.02278673613602917, 0.009382773703070835, 0.010723169946366668, 0.0013403962432958336, 0.9755709416113535, 0.9805595473267731, 0.016074746677488084, 0.9774057780779531, 0.9771360381967253, 0.002568865377205094, 0.0008562884590683648, 0.0004281442295341824, 0.0004281442295341824, 0.9958634778965082, 0.0004281442295341824, 0.02095759657464895, 0.9640494424338517, 0.9957761228275179, 0.921368979918592, 0.07370951839348737, 0.9948878004854236, 0.7372138780176215, 0.02335066581956267, 0.14010399491737605, 0.005559682337991112, 0.006671618805589335, 0.08673104447266135, 0.13551612156591158, 0.5122260741757392, 0.31206005975269546, 0.016162473214283032, 0.011189404532965175, 0.01243267170329464, 0.009351992010685548, 0.056111952064113284, 0.932527203351216, 0.9842930341632029, 0.9787265054455049, 0.9838596063119815, 0.037231508102602444, 0.9494034566163624, 0.17178016238980945, 0.15502112215665728, 0.6703616093260856, 0.99773815598914, 0.7917019062390475, 0.09100021910793649, 0.09403355974486771, 0.012133362547724865, 0.010616692229259258, 0.0015166703184656082, 0.02439378565418762, 0.9676201642827755, 0.23548084875653175, 0.13343914762870132, 0.5834692141411842, 0.015698723250435448, 0.018315177125508026, 0.013082269375362875, 0.05488636651858271, 0.923920503062809, 0.018295455506194238, 0.958575815809134, 0.01346204856058115, 0.9827295449224239, 0.9726315150543914, 0.008457665348299056, 0.008457665348299056, 0.008457665348299056, 0.008457665348299056, 0.9624496283288757, 0.9861625902340035, 0.9682612971936884, 0.9702152215332983, 0.9695452136752131, 0.9669916919741306, 0.951871230443368, 0.03399540108726314, 0.011331800362421048, 0.0016188286232030069, 0.0016188286232030069, 0.0016188286232030069, 0.9982636347773867, 0.30897983804540374, 0.06808030329813981, 0.015710839222647648, 0.6022488368681599, 0.9644964547890439, 0.9930134897403181, 0.9094013987232611, 0.04220850373821043, 0.030697093627789402, 0.0038371367034736753, 0.011511410110421026, 0.0076742734069473505, 0.9796471179043265, 0.010421777850046027, 0.9802940365203383, 0.9799585181639181, 0.9938143956818241, 0.39453308022514744, 0.12734928538912987, 0.4532136332966093, 0.01623079127508518, 0.0024970448115515663, 0.0062426120288789156, 0.01936948443906031, 0.9491047375139553, 0.012152290046849125, 0.14886555307390179, 0.0030380725117122812, 0.8172415056506037, 0.015190362558561408, 0.9570695325526976, 0.020490399669694667, 0.9732939843104967, 0.5302604550591733, 0.14028054366644796, 0.02618570148440362, 0.26559782934180814, 0.034134932292169004, 0.004208416309993439, 0.9814349112305581, 0.017016905250602773, 0.9784720519096595, 0.9816974529500236, 0.9755622998423288, 0.010269076840445566, 0.005402097698789496, 0.005402097698789496, 0.010804195397578991, 0.09183566087942142, 0.005402097698789496, 0.8805419249026878, 0.6753963438473467, 0.21149782111615584, 0.07182944868095859, 0.009976312316799804, 0.022945518328639548, 0.008978681085119823, 0.5490205504046703, 0.3929203138193607, 0.016018334136520703, 0.03643385803600787, 0.004397189762966467, 0.0012563399322761334, 0.48010965694588176, 0.340401073169482, 0.1153150215297268, 0.04546072964152691, 0.012196781123336489, 0.0055439914196984035, 0.9926833510182216, 0.8764551893028469, 0.04731506163331564, 0.058580552498390795, 0.0022530981730150305, 0.013518589038090185, 0.0011265490865075153, 0.9682629696515818, 0.015617144671799706, 0.6913179634383544, 0.2656756449478926, 0.016838597215007276, 0.017774074838063238, 0.006548343361391719, 0.0018709552461119198, 0.01662970870144182, 0.9645231046836256, 0.9877456074372578, 0.9726574696194922, 0.01870495133883639, 0.9686547024189999, 0.016700943145155172, 0.9851738040924362, 0.008619511180037228, 0.9740047633442067, 0.008619511180037228, 0.9858149580582326, 0.06667737968245162, 0.17086078543628225, 0.7417858489672742, 0.004167336230153226, 0.008334672460306452, 0.008334672460306452, 0.9737945481354151, 0.9838224672389553, 0.988561073118928, 0.9230411369611246, 0.046797540160616456, 0.003227416562801135, 0.004841124844201702, 0.01936449937680681, 0.0016137082814005675, 0.9988808031467368, 0.00982170268839539, 0.17398444762300402, 0.6419184257058415, 0.16346119474258042, 0.005612401536225936, 0.004910851344197695, 0.002547130178930868, 0.9933807697830385, 0.04398367210179122, 0.16402244387959644, 0.05864489613572164, 0.7284795691859172, 0.0036653060084826023, 0.0018326530042413012, 0.9828785989185387, 0.017870519980337066, 0.09634333954027016, 0.01926866790805403, 0.8767243898164584, 0.9620241267477652, 0.9850844660220249, 0.011727196024071726, 0.8454579389352885, 0.08000032110355419, 0.03272740408781762, 0.02545464762385815, 0.0072727564639594715, 0.010909134695939206, 0.9792297466698848, 0.009934737002664874, 0.005519298334813819, 0.9570463312567162, 0.007727017668739347, 0.018765614338366984, 0.0011038596669627639, 0.9888501475552385, 0.006436939193394951, 0.9912886357828224, 0.9978787543952998, 0.9121808541993258, 0.05591913282447974, 0.006989891603059967, 0.01747472900764992, 0.006989891603059967, 0.9735717127115473, 0.7855254296897484, 0.12574616562227198, 0.032600857753922366, 0.03415327955172819, 0.012419374382446615, 0.010866952584640788, 0.9884756541013141, 0.9844417370110335, 0.9708091801875616, 0.9836212816271082, 0.011839606277114303, 0.9826873210004871, 0.975869128215452, 0.6936200825851451, 0.24903337856055444, 0.035113166174481646, 0.007022633234896329, 0.01026384857407925, 0.004861823008774382, 0.3202860982012393, 0.639385951594326, 0.01581659744203651, 0.015421182505985597, 0.0035587344244582147, 0.005535809104712778, 0.9692138086742087, 0.9828873679518159, 0.9696376002466311, 0.003216113211295983, 0.003216113211295983, 0.9584017369662029, 0.003216113211295983, 0.03216113211295983, 0.1715614625691586, 0.15440531631224275, 0.6733787405839475, 0.7876639785805015, 0.12177104036675569, 0.014485774318721868, 0.06699670622408864, 0.004074124027140525, 0.0049794849220606415, 0.9546687880846493, 0.0321798467893702, 0.010726615596456733, 0.9820118652583505, 0.5938403518921357, 0.12044086010206696, 0.023419056130957464, 0.026764635578237102, 0.003345579447279638, 0.2325177715859348, 0.010912282318478317, 0.9821054086630485, 0.08726699728579321, 0.15499660711954316, 0.022142372445649025, 0.023444864942451907, 0.005209969987211535, 0.705950933267163, 0.9716027878379324, 0.9645493054994979, 0.9839716363665779, 0.6089371609817562, 0.30655112892104824, 0.03831889111513103, 0.034153794254790704, 0.008330193720680659, 0.0041650968603403294, 0.9937880526818503, 0.9876613804383892, 0.026286522234356395, 0.8937417559681173, 0.019714891675767295, 0.04600141391012369, 0.013143261117178198, 0.9747973285703656, 0.9770435786554796, 0.98214646053374, 0.04034038899804956, 0.005976353925636972, 0.9442639202506415, 0.002988176962818486, 0.004482265444227728, 0.001494088481409243, 0.9774439036106327, 0.9677717095676989, 0.007932554996456549, 0.023797664989369645, 0.8349549160399948, 0.1316659675293838, 0.012845460246769152, 0.00802841265423072, 0.006422730123384576, 0.006422730123384576, 0.8622947961061522, 0.0754870865278113, 0.039679109585131586, 0.015484530569807448, 0.0029033494818388964, 0.004838915803064827, 0.8388088755898526, 0.11354042791133365, 0.006951454770081651, 0.03244012226038104, 0.002317151590027217, 0.004634303180054434, 0.9712222407565145, 0.9858704110301462, 0.1290213579221135, 0.06451067896105675, 0.0064510678961056745, 0.7999324191171037, 0.032301737510961825, 0.9514329957774211, 0.008809564775716861, 0.005873043183811241, 0.0029365215919056205, 0.9856066139005346, 0.702271955055856, 0.1131251474651379, 0.007840356755009556, 0.03808173281004642, 0.0056002548250068266, 0.13328606483516248, 0.981361002784842, 0.9761225684795451, 0.7816528953651155, 0.1573061209081122, 0.02316911858336536, 0.02073026399564269, 0.012194272938613348, 0.006097136469306674, 0.17178016238980945, 0.15502112215665728, 0.6703616093260856, 0.8017609645011932, 0.12090977941965285, 0.04343361008278792, 0.025825389778954978, 0.004695525414355451, 0.003521644060766588, 0.676558668694217, 0.2509214842684596, 0.031597520241213435, 0.024162809596222037, 0.013940082459358868, 0.0027880164918717733, 0.008318807860574222, 0.9871651994548077, 0.0036972479380329875, 0.9933448578197653, 0.980680724314557, 0.03967306243781195, 0.8799185829367536, 0.041918707481461676, 0.010105402696423798, 0.005614112609124332, 0.022456450436497327, 0.9956665870978915, 0.979124119685597, 0.03869778653785611, 0.004643734384542734, 0.02321867192271367, 0.9241031425240039, 0.009287468769085467, 0.0015479114615142445, 0.1415992602015352, 0.010892250784733479, 0.010892250784733479, 0.054461253923667394, 0.7842420565008105, 0.995691721504902, 0.9775497054925569, 0.9884663898381512, 0.9831150052068918, 0.8318789501240386, 0.13072383501949178, 0.026144767003898353, 0.0071303910010631875, 0.0023767970003543957, 0.0023767970003543957, 0.978150652093953, 0.9355182703322544, 0.04526701308059296, 0.005029668120065884, 0.005029668120065884, 0.005029668120065884, 0.9851107970030505, 0.4139821959745631, 0.505198612036755, 0.04209988433639625, 0.02525993060183775, 0.006314982650459437, 0.007718312128339312, 0.9794931918738179, 0.493151379256171, 0.05692145644121279, 0.4100359782579399, 0.02518648515097911, 0.01158578316945039, 0.0035261079211370756, 0.0014335833234287278, 0.015769416557716007, 0.0023893055390478797, 0.9796152710096308, 0.000477861107809576, 0.000477861107809576, 0.7378836593108478, 0.1822660831763847, 0.011759102140411917, 0.052915959631853624, 0.014698877675514895, 0.9980158760907291, 0.9800858447687816, 0.9967230482948096, 0.9658416127672713, 0.02394648626695714, 0.007982162088985712, 0.1826278527681294, 0.78289868357971, 0.013096818126798124, 0.012369217119753783, 0.0014552020140886804, 0.006548409063399062, 0.9870543428502955, 0.48840372381217473, 0.12125885556716062, 0.04378792006591911, 0.3065154404614338, 0.03368301543532239, 0.006736603087064479, 0.9343758570550722, 0.041136044021292485, 0.017629733151982494, 0.9811776237412327, 0.987384124844764, 0.3407851673325345, 0.6070235793110771, 0.031948609437425106, 0.010649536479141703, 0.006389721887485021, 0.0021299072958283405, 0.8349884614596215, 0.08625155535956529, 0.020186534233089748, 0.04220820794191493, 0.005505418427206295, 0.012845976330148022, 0.7291924290656525, 0.19547628369531045, 0.027088473770511184, 0.02489211103236163, 0.008785450952598223, 0.01464241825433037, 0.5929913142080695, 0.3248187005275157, 0.032983797404560096, 0.020794133146353103, 0.023662289442401806, 0.0043022344440730555, 0.9891131518995598, 0.9961505692662379, 0.828165150554895, 0.15074466785381235, 0.0074441811285833265, 0.0074441811285833265, 0.0018610452821458316, 0.0018610452821458316, 0.1725581666251555, 0.07792949460490893, 0.7236310213312972, 0.022265569887116837, 0.9945846729963236, 0.0055028325345094775, 0.016508497603528433, 0.9740013586081775, 0.989281692593651, 0.9666011044372351, 0.972314967612058, 0.01944629935224116, 0.9735696824695164, 0.24303750280275302, 0.16077865570028277, 0.5645948142033186, 0.018695192523288696, 0.014956154018630955, 0.5021227412319279, 0.10693354674383651, 0.011623211602590925, 0.24408744365440943, 0.13250461226953655, 0.00464928464103637, 0.9693228080853037, 0.011678588049220527, 0.281934937243152, 0.675730699789255, 0.01141436992887255, 0.021687302864857847, 0.00684862195732353, 0.00228287398577451, 0.9672569788623722, 0.9995814036160636, 0.29049018151625533, 0.660368984068009, 0.028868589467453944, 0.009021434208579357, 0.003608573683431743, 0.009021434208579357, 0.9968585437387301, 0.04368618401360709, 0.9465339869614869, 0.9951469624758492, 0.5857602030254982, 0.11480070094714605, 0.25104008701092784, 0.04426051120853824, 0.00276628195053364, 0.00138314097526682, 0.4950233453124506, 0.11126671523078019, 0.013624495742544512, 0.004541498580848171, 0.317904900659372, 0.05676873226060214, 0.7254123852447786, 0.227986749648359, 0.020726068149850816, 0.009753443835223913, 0.010972624314626903, 0.0048767219176119566, 0.9705204276616355, 0.9815289811986987, 0.9954790944758338, 0.9866270029864163, 0.49020949232495054, 0.15595065493445778, 0.24096446328810914, 0.10047086441795157, 0.009660660040187652, 0.0027601885829107576, 0.016562962065910652, 0.033125924131821305, 0.9275258756909966, 0.016562962065910652, 0.9076227152255236, 0.065733121436946, 0.005056393956688154, 0.015169181870064462, 0.005056393956688154, 0.002528196978344077, 0.7703439444577161, 0.15999451154121797, 0.03047514505547009, 0.029628613248373698, 0.0067722544567711315, 0.0042326590354819565, 0.9956211139673655, 0.9944303479080755, 0.9733948432638505, 0.013709786524842964], \"Term\": [\"absurd\", \"access\", \"actually\", \"actually\", \"actually\", \"actually\", \"actually\", \"actually\", \"admins_eat\", \"aids_aids\", \"aids_aids\", \"aidsaids_aids\", \"aidsaids_aids\", \"al\", \"al\", \"al\", \"al\", \"al\", \"alex\", \"also\", \"also\", \"also\", \"also\", \"also\", \"also\", \"amusement\", \"anal\", \"anal\", \"anal\", \"anal\", \"anal\", \"anal_rape\", \"antonio\", \"anything\", \"anything\", \"anything\", \"anything\", \"anything\", \"anything\", \"anyways\", \"apologies\", \"arse_takes\", \"article\", \"article\", \"article\", \"article\", \"article\", \"article\", \"ass\", \"ass\", \"ass\", \"ass\", \"ass\", \"ass\", \"ass_nigga\", \"ass_nigga\", \"assad_hanibal\", \"assclown\", \"asshole\", \"asshole\", \"asshole\", \"asshole\", \"asshole\", \"asshole\", \"away\", \"away\", \"away\", \"away\", \"away\", \"away\", \"awww\", \"back\", \"back\", \"back\", \"back\", \"back\", \"back\", \"bad_admin\", \"bakla\", \"ban\", \"ban\", \"ban\", \"ban\", \"ban\", \"ban\", \"banned\", \"banned\", \"banned\", \"banned\", \"banned\", \"banned\", \"bastard_pro\", \"bastard_pro\", \"bastered_bastered\", \"bet\", \"bet\", \"bet\", \"bet\", \"bet\", \"big\", \"big\", \"big\", \"big\", \"big\", \"big\", \"bigot\", \"bigot\", \"bitch\", \"bitch\", \"bitch\", \"bitch\", \"bitch\", \"bitch\", \"bitches\", \"bitches\", \"biznitch_repeat\", \"block\", \"block\", \"block\", \"block\", \"block\", \"block\", \"blunt\", \"body\", \"body\", \"body\", \"body\", \"boobs_boobs\", \"boobs_boobs\", \"brothers\", \"bullshit_bullshit\", \"bum_bum\", \"burning\", \"bush\", \"bush\", \"bush_sucks\", \"buttsecks_buttsecks\", \"chat\", \"cheese_george\", \"cheese_george\", \"cheese_salt\", \"cheese_salt\", \"chester_marcolfuck\", \"chink\", \"chocobos_want\", \"chocobos_want\", \"chuck\", \"chuck_norris\", \"chuck_norris\", \"chuck_norris\", \"chuck_norris\", \"ck\", \"ck\", \"ck\", \"ck\", \"ck\", \"cock\", \"cock\", \"cock\", \"cock\", \"cock\", \"cock\", \"cocksucker\", \"cocksucker\", \"cocksucker\", \"cocksucker\", \"comment_added\", \"comment_added\", \"comment_added\", \"comment_added\", \"comment_added\", \"congress\", \"consensus\", \"consensus\", \"consensus\", \"consensus\", \"consensus\", \"contempt\", \"contempt\", \"corner\", \"correct\", \"correct\", \"correct\", \"correct\", \"correct\", \"correct\", \"could\", \"could\", \"could\", \"could\", \"could\", \"could\", \"cowards\", \"cracker\", \"criminalwar_criminalwar\", \"criminalwar_criminalwar\", \"cunt\", \"cunt\", \"cunt\", \"cunt\", \"cunt\", \"cunt\", \"cuntbag\", \"daedalus\", \"damned\", \"defend\", \"defend\", \"defend\", \"defend\", \"dick\", \"dick\", \"dick\", \"dick\", \"dick\", \"dick\", \"dickhead\", \"dickhead\", \"didnt\", \"die\", \"die\", \"die\", \"die\", \"die\", \"die\", \"dirty_whore\", \"disturbed\", \"dog\", \"dog\", \"dog\", \"dog\", \"dog\", \"dont_care\", \"dont_care\", \"douche_bag\", \"douche_bag\", \"dumbass\", \"dumbass\", \"dumbass\", \"dumbass\", \"dust\", \"easier\", \"easier\", \"eat\", \"eat\", \"eat\", \"eat\", \"eat\", \"eat\", \"edit\", \"edit\", \"edit\", \"edit\", \"edit\", \"edit\", \"editing\", \"editing\", \"editing\", \"editing\", \"editing\", \"editing\", \"else\", \"else\", \"else\", \"else\", \"else\", \"else\", \"en\", \"english\", \"english\", \"english\", \"english\", \"english\", \"english\", \"ers_hate\", \"ers_hate\", \"especially\", \"especially\", \"especially\", \"especially\", \"especially\", \"even\", \"even\", \"even\", \"even\", \"even\", \"even\", \"ever\", \"ever\", \"ever\", \"ever\", \"ever\", \"ever\", \"everything\", \"everything\", \"everything\", \"everything\", \"everything\", \"everything\", \"fack\", \"fag\", \"fag\", \"fag\", \"fag\", \"fag\", \"fag\", \"faggot\", \"faggot\", \"faggot\", \"faggot\", \"faggot\", \"faggot_faggot\", \"faggots_faggots\", \"faggoty\", \"fat\", \"fat\", \"fat\", \"fat\", \"fat\", \"fat_jew\", \"fc\", \"feces\", \"feels\", \"fffff_uuuuuu\", \"fggt\", \"fire\", \"fire\", \"fire\", \"fire\", \"fire\", \"forsyth\", \"frank\", \"freedom_freedom\", \"freedom_freedom\", \"freedom_freedom\", \"freedom_freedom\", \"fuck\", \"fuck\", \"fuck\", \"fuck\", \"fuck\", \"fuck\", \"fuckin\", \"fuckin\", \"fuckin\", \"fuckin\", \"fuckin\", \"fucking\", \"fucking\", \"fucking\", \"fucking\", \"fucking\", \"fucking\", \"fucking_cocksucking\", \"fucksex_fucksex\", \"fucksex_fucksex\", \"fukkin\", \"gamaliel\", \"gay\", \"gay\", \"gay\", \"gay\", \"gay\", \"gay\", \"ger\", \"german\", \"get\", \"get\", \"get\", \"get\", \"get\", \"get\", \"go\", \"go\", \"go\", \"go\", \"go\", \"go\", \"god\", \"god\", \"god\", \"god\", \"god\", \"god\", \"going\", \"going\", \"going\", \"going\", \"going\", \"going\", \"gook\", \"gross\", \"gross\", \"hang\", \"hat\", \"hate\", \"hate\", \"hate\", \"hate\", \"hate\", \"hate\", \"hate_nl\", \"hate_nl\", \"hater\", \"havent\", \"havent\", \"heil_hitler\", \"hell\", \"hell\", \"hell\", \"hell\", \"hell\", \"hell\", \"hey\", \"hey\", \"hey\", \"hey\", \"hey\", \"hey\", \"hi_moron\", \"hi_moron\", \"hi_moron\", \"hog\", \"homework\", \"homo_sexual\", \"hore\", \"hore\", \"house_using\", \"house_using\", \"house_using\", \"huge_faggot\", \"idiot\", \"idiot\", \"idiot\", \"idiot\", \"idiot\", \"idiot\", \"idiot_idiot\", \"idiot_idiot\", \"im\", \"im\", \"im\", \"im\", \"im\", \"im\", \"image\", \"image\", \"image\", \"imo\", \"ina\", \"ina\", \"india\", \"india\", \"india\", \"india\", \"india\", \"input\", \"ireland\", \"islamic\", \"jail\", \"jealous\", \"jeff\", \"jerk\", \"jerk\", \"jerk\", \"jerk\", \"jerk\", \"jerk\", \"jew_fat\", \"jews\", \"jews\", \"jews\", \"jews\", \"jimbo_wales\", \"jimmy\", \"job\", \"job\", \"job\", \"job\", \"job\", \"job\", \"jobs\", \"jobs\", \"john_cline\", \"joint\", \"ka\", \"keep\", \"keep\", \"keep\", \"keep\", \"keep\", \"keep\", \"kgb\", \"kgb\", \"kill\", \"kill\", \"kill\", \"kill\", \"kill\", \"kkk\", \"knob\", \"knob\", \"know\", \"know\", \"know\", \"know\", \"know\", \"know\", \"lady\", \"last_night\", \"last_night\", \"latest\", \"length\", \"length\", \"lick\", \"lick\", \"lick\", \"lick\", \"lick\", \"lick\", \"life\", \"life\", \"life\", \"life\", \"life\", \"life\", \"like\", \"like\", \"like\", \"like\", \"like\", \"like\", \"little\", \"little\", \"little\", \"little\", \"little\", \"little\", \"little_boys\", \"loser\", \"loser\", \"loser\", \"loser\", \"loser\", \"loser\", \"loves\", \"loves\", \"make\", \"make\", \"make\", \"make\", \"make\", \"make\", \"mercado\", \"mercado\", \"merely\", \"mess\", \"mess\", \"military\", \"military\", \"minor\", \"mo\", \"mo\", \"mo\", \"mod\", \"mom\", \"mom\", \"mom\", \"mom\", \"mom\", \"mom\", \"momma\", \"mongo\", \"mood\", \"moron\", \"moron\", \"moron\", \"moron\", \"moron\", \"moron\", \"moron_hi\", \"mother\", \"mother\", \"mother\", \"mother\", \"mother\", \"mother\", \"mothjer_fucker\", \"mothjer_fucker\", \"mouth\", \"mouth\", \"mouth\", \"mouth\", \"mouth\", \"mouth\", \"moving\", \"moving\", \"mum\", \"mum\", \"mum\", \"mutha\", \"naughty\", \"naughty\", \"need\", \"need\", \"need\", \"need\", \"need\", \"need\", \"niggas\", \"nigger\", \"nigger\", \"nigger\", \"nigger\", \"nigger\", \"nigger\", \"nigger_delanoy\", \"nigger_nigger\", \"nigger_nigger\", \"nipple_nipple\", \"nonsense\", \"nonsense\", \"nonsense\", \"nonsense\", \"nonsense\", \"noone\", \"nothing\", \"nothing\", \"nothing\", \"nothing\", \"nothing\", \"nothing\", \"nothing_fc\", \"numerous\", \"nut\", \"nutcase\", \"oi\", \"oi\", \"old_cougar\", \"one\", \"one\", \"one\", \"one\", \"one\", \"one\", \"page\", \"page\", \"page\", \"page\", \"page\", \"page\", \"palestinian\", \"pansy\", \"pedantic\", \"penis\", \"penis\", \"penis\", \"penis\", \"penis\", \"penis_constructed\", \"penis_constructed\", \"penis_constructed\", \"people\", \"people\", \"people\", \"people\", \"people\", \"people\", \"peoples\", \"peoples\", \"peoples\", \"permanently\", \"person\", \"person\", \"person\", \"person\", \"person\", \"person\", \"phuq\", \"phuq\", \"piece\", \"piece\", \"piece\", \"piece\", \"piece\", \"piece\", \"placing\", \"plain\", \"players\", \"please\", \"please\", \"please\", \"please\", \"please\", \"please\", \"plot\", \"position\", \"preceding_unsigned\", \"preceding_unsigned\", \"preceding_unsigned\", \"preceding_unsigned\", \"preceding_unsigned\", \"protecting\", \"proxies\", \"purely\", \"pussy\", \"pussy\", \"pussy\", \"pussy\", \"pussy\", \"pussy\", \"putang\", \"putin\", \"putin\", \"putin\", \"read\", \"read\", \"read\", \"read\", \"read\", \"read\", \"really\", \"really\", \"really\", \"really\", \"really\", \"really\", \"reason\", \"reason\", \"reason\", \"reason\", \"reason\", \"reason\", \"regret\", \"reliable_sources\", \"respect\", \"respect\", \"respect\", \"respect\", \"retarded\", \"retarded\", \"retarded\", \"retarded\", \"retarded\", \"revoked\", \"right\", \"right\", \"right\", \"right\", \"right\", \"right\", \"roster\", \"rot\", \"said\", \"said\", \"said\", \"said\", \"said\", \"said\", \"saliva\", \"saliva\", \"saliva\", \"say\", \"say\", \"say\", \"say\", \"say\", \"say\", \"see\", \"see\", \"see\", \"see\", \"see\", \"see\", \"semen\", \"semen\", \"semen\", \"sentence\", \"session\", \"shit\", \"shit\", \"shit\", \"shit\", \"shit\", \"shit\", \"shit_cunts\", \"shithole\", \"shut\", \"shut\", \"shut\", \"shut\", \"shut\", \"shut\", \"sign\", \"sign\", \"sign\", \"sign\", \"sign\", \"six_million\", \"slow\", \"small_penis\", \"solaris\", \"something\", \"something\", \"something\", \"something\", \"something\", \"something\", \"stalin\", \"started\", \"started\", \"started\", \"started\", \"started\", \"stfu\", \"stop\", \"stop\", \"stop\", \"stop\", \"stop\", \"stop\", \"stress\", \"stupid\", \"stupid\", \"stupid\", \"stupid\", \"stupid\", \"stupid\", \"suck\", \"suck\", \"suck\", \"suck\", \"suck\", \"suck\", \"sucks\", \"sucks\", \"sucks\", \"sucks\", \"sucks\", \"sucks_cocks\", \"suffering\", \"super_gay\", \"swear\", \"swear\", \"swear\", \"talk\", \"talk\", \"talk\", \"talk\", \"talk\", \"talk\", \"tears\", \"tell\", \"tell\", \"tell\", \"tell\", \"tell\", \"tell\", \"telling\", \"telling\", \"telling\", \"ten\", \"testicles\", \"thanks\", \"thanks\", \"thanks\", \"thanks\", \"thanks\", \"thanks\", \"things\", \"things\", \"things\", \"things\", \"things\", \"things\", \"think\", \"think\", \"think\", \"think\", \"think\", \"think\", \"time\", \"time\", \"time\", \"time\", \"time\", \"time\", \"tommy\", \"transgender\", \"trying\", \"trying\", \"trying\", \"trying\", \"trying\", \"trying\", \"twat\", \"twat\", \"twat\", \"twat\", \"twat_twat\", \"ufc\", \"ufc\", \"ufc\", \"uncyclopedia\", \"update\", \"upset\", \"upset\", \"uptight\", \"ur\", \"ur\", \"ur\", \"ur\", \"ur\", \"us\", \"us\", \"us\", \"us\", \"us\", \"us\", \"usa\", \"usa\", \"user\", \"user\", \"user\", \"user\", \"user\", \"user\", \"usual\", \"vagina_vagina\", \"vandalism\", \"vandalism\", \"vandalism\", \"vandalism\", \"vandalism\", \"vandalism\", \"veggietales_sucks\", \"wake\", \"wake\", \"wanker_wanker\", \"want\", \"want\", \"want\", \"want\", \"want\", \"want\", \"warning\", \"warning\", \"warning\", \"warning\", \"warning\", \"warning\", \"way\", \"way\", \"way\", \"way\", \"way\", \"way\", \"whales\", \"whose\", \"wiki_noobs\", \"wikia\", \"wikipedia\", \"wikipedia\", \"wikipedia\", \"wikipedia\", \"wikipedia\", \"wikipedia\", \"wit\", \"wit\", \"wit\", \"wit\", \"word\", \"word\", \"word\", \"word\", \"word\", \"word\", \"would\", \"would\", \"would\", \"would\", \"would\", \"would\", \"youbollocks\", \"yourselfgo\", \"zionist\", \"zionist\"]}, \"R\": 30, \"lambda.step\": 0.01, \"plot.opts\": {\"xlab\": \"PC1\", \"ylab\": \"PC2\"}, \"topic.order\": [2, 4, 1, 5, 3, 6]};\n",
       "\n",
       "function LDAvis_load_lib(url, callback){\n",
       "  var s = document.createElement('script');\n",
       "  s.src = url;\n",
       "  s.async = true;\n",
       "  s.onreadystatechange = s.onload = callback;\n",
       "  s.onerror = function(){console.warn(\"failed to load library \" + url);};\n",
       "  document.getElementsByTagName(\"head\")[0].appendChild(s);\n",
       "}\n",
       "\n",
       "if(typeof(LDAvis) !== \"undefined\"){\n",
       "   // already loaded: just create the visualization\n",
       "   !function(LDAvis){\n",
       "       new LDAvis(\"#\" + \"ldavis_el9703064989985283545514250\", ldavis_el9703064989985283545514250_data);\n",
       "   }(LDAvis);\n",
       "}else if(typeof define === \"function\" && define.amd){\n",
       "   // require.js is available: use it to load d3/LDAvis\n",
       "   require.config({paths: {d3: \"https://d3js.org/d3.v5\"}});\n",
       "   require([\"d3\"], function(d3){\n",
       "      window.d3 = d3;\n",
       "      LDAvis_load_lib(\"https://cdn.jsdelivr.net/gh/bmabey/pyLDAvis@3.3.1/pyLDAvis/js/ldavis.v3.0.0.js\", function(){\n",
       "        new LDAvis(\"#\" + \"ldavis_el9703064989985283545514250\", ldavis_el9703064989985283545514250_data);\n",
       "      });\n",
       "    });\n",
       "}else{\n",
       "    // require.js not available: dynamically load d3 & LDAvis\n",
       "    LDAvis_load_lib(\"https://d3js.org/d3.v5.js\", function(){\n",
       "         LDAvis_load_lib(\"https://cdn.jsdelivr.net/gh/bmabey/pyLDAvis@3.3.1/pyLDAvis/js/ldavis.v3.0.0.js\", function(){\n",
       "                 new LDAvis(\"#\" + \"ldavis_el9703064989985283545514250\", ldavis_el9703064989985283545514250_data);\n",
       "            })\n",
       "         });\n",
       "}\n",
       "</script>"
      ],
      "text/plain": [
       "PreparedData(topic_coordinates=              x         y  topics  cluster       Freq\n",
       "topic                                                \n",
       "1     -0.176400 -0.069044       1        1  46.210245\n",
       "3     -0.163721 -0.065080       2        1  21.049852\n",
       "0     -0.028221  0.258475       3        1  12.263270\n",
       "4     -0.029589 -0.027170       4        1   7.930834\n",
       "2      0.178244 -0.120784       5        1   6.290824\n",
       "5      0.219687  0.023602       6        1   6.254975, topic_info=                          Term         Freq        Total Category  logprob  \\\n",
       "97                        fuck  7450.000000  7450.000000  Default  30.0000   \n",
       "363                       hate  2335.000000  2335.000000  Default  29.0000   \n",
       "827                       suck  2092.000000  2092.000000  Default  28.0000   \n",
       "94                         ass  1867.000000  1867.000000  Default  27.0000   \n",
       "57                          go  2517.000000  2517.000000  Default  26.0000   \n",
       "...                        ...          ...          ...      ...      ...   \n",
       "31430  criminalwar_criminalwar   113.789418   138.489142   Topic6  -5.4350   \n",
       "119                        get   241.577661  2685.661609   Topic6  -4.6821   \n",
       "1198                    fuckin   131.108697   345.082589   Topic6  -5.2933   \n",
       "506                     person   139.477942   597.803768   Topic6  -5.2314   \n",
       "97                        fuck   188.976500  7450.148511   Topic6  -4.9277   \n",
       "\n",
       "       loglift  \n",
       "97     30.0000  \n",
       "363    29.0000  \n",
       "827    28.0000  \n",
       "94     27.0000  \n",
       "57     26.0000  \n",
       "...        ...  \n",
       "31430   2.5754  \n",
       "119     0.3633  \n",
       "1198    1.8040  \n",
       "506     1.3164  \n",
       "97     -0.9026  \n",
       "\n",
       "[393 rows x 6 columns], token_table=       Topic      Freq         Term\n",
       "term                               \n",
       "4541       3  0.985034       absurd\n",
       "927        1  0.979275       access\n",
       "928        1  0.864509     actually\n",
       "928        2  0.075054     actually\n",
       "928        3  0.022238     actually\n",
       "...      ...       ...          ...\n",
       "91         6  0.004233        would\n",
       "33195      6  0.995621  youbollocks\n",
       "21818      3  0.994430   yourselfgo\n",
       "3689       1  0.973395      zionist\n",
       "3689       2  0.013710      zionist\n",
       "\n",
       "[986 rows x 3 columns], R=30, lambda_step=0.01, plot_opts={'xlab': 'PC1', 'ylab': 'PC2'}, topic_order=[2, 4, 1, 5, 3, 6])"
      ]
     },
     "execution_count": 35,
     "metadata": {},
     "output_type": "execute_result"
    }
   ],
   "source": [
    "# Visualize the topics\n",
    "# pyLDAvis.enable_notebook()\n",
    "vis_tox = gensimvis.prepare(lda_model_tox, corpus_tox, id2word_tox)\n",
    "vis_tox"
   ]
  },
  {
   "cell_type": "code",
   "execution_count": 36,
   "id": "7b3a6566",
   "metadata": {},
   "outputs": [
    {
     "data": {
      "text/html": [
       "<div>\n",
       "<style scoped>\n",
       "    .dataframe tbody tr th:only-of-type {\n",
       "        vertical-align: middle;\n",
       "    }\n",
       "\n",
       "    .dataframe tbody tr th {\n",
       "        vertical-align: top;\n",
       "    }\n",
       "\n",
       "    .dataframe thead th {\n",
       "        text-align: right;\n",
       "    }\n",
       "</style>\n",
       "<table border=\"1\" class=\"dataframe\">\n",
       "  <thead>\n",
       "    <tr style=\"text-align: right;\">\n",
       "      <th></th>\n",
       "      <th>id</th>\n",
       "      <th>comment_text</th>\n",
       "      <th>toxic</th>\n",
       "      <th>severe_toxic</th>\n",
       "      <th>obscene</th>\n",
       "      <th>threat</th>\n",
       "      <th>insult</th>\n",
       "      <th>identity_hate</th>\n",
       "      <th>sum</th>\n",
       "    </tr>\n",
       "  </thead>\n",
       "  <tbody>\n",
       "    <tr>\n",
       "      <th>6</th>\n",
       "      <td>0002bcb3da6cb337</td>\n",
       "      <td>COCKSUCKER BEFORE YOU PISS AROUND ON MY WORK</td>\n",
       "      <td>1</td>\n",
       "      <td>1</td>\n",
       "      <td>1</td>\n",
       "      <td>0</td>\n",
       "      <td>1</td>\n",
       "      <td>0</td>\n",
       "      <td>4</td>\n",
       "    </tr>\n",
       "    <tr>\n",
       "      <th>12</th>\n",
       "      <td>0005c987bdfc9d4b</td>\n",
       "      <td>Hey... what is it..\\n@ | talk .\\nWhat is it......</td>\n",
       "      <td>1</td>\n",
       "      <td>0</td>\n",
       "      <td>0</td>\n",
       "      <td>0</td>\n",
       "      <td>0</td>\n",
       "      <td>0</td>\n",
       "      <td>1</td>\n",
       "    </tr>\n",
       "    <tr>\n",
       "      <th>16</th>\n",
       "      <td>0007e25b2121310b</td>\n",
       "      <td>Bye! \\n\\nDon't look, come or think of comming ...</td>\n",
       "      <td>1</td>\n",
       "      <td>0</td>\n",
       "      <td>0</td>\n",
       "      <td>0</td>\n",
       "      <td>0</td>\n",
       "      <td>0</td>\n",
       "      <td>1</td>\n",
       "    </tr>\n",
       "    <tr>\n",
       "      <th>42</th>\n",
       "      <td>001810bf8c45bf5f</td>\n",
       "      <td>You are gay or antisemmitian? \\n\\nArchangel WH...</td>\n",
       "      <td>1</td>\n",
       "      <td>0</td>\n",
       "      <td>1</td>\n",
       "      <td>0</td>\n",
       "      <td>1</td>\n",
       "      <td>1</td>\n",
       "      <td>4</td>\n",
       "    </tr>\n",
       "    <tr>\n",
       "      <th>43</th>\n",
       "      <td>00190820581d90ce</td>\n",
       "      <td>FUCK YOUR FILTHY MOTHER IN THE ASS, DRY!</td>\n",
       "      <td>1</td>\n",
       "      <td>0</td>\n",
       "      <td>1</td>\n",
       "      <td>0</td>\n",
       "      <td>1</td>\n",
       "      <td>0</td>\n",
       "      <td>3</td>\n",
       "    </tr>\n",
       "    <tr>\n",
       "      <th>...</th>\n",
       "      <td>...</td>\n",
       "      <td>...</td>\n",
       "      <td>...</td>\n",
       "      <td>...</td>\n",
       "      <td>...</td>\n",
       "      <td>...</td>\n",
       "      <td>...</td>\n",
       "      <td>...</td>\n",
       "      <td>...</td>\n",
       "    </tr>\n",
       "    <tr>\n",
       "      <th>159494</th>\n",
       "      <td>fef4cf7ba0012866</td>\n",
       "      <td>\"\\n\\n our previous conversation \\n\\nyou fuckin...</td>\n",
       "      <td>1</td>\n",
       "      <td>0</td>\n",
       "      <td>1</td>\n",
       "      <td>0</td>\n",
       "      <td>1</td>\n",
       "      <td>1</td>\n",
       "      <td>4</td>\n",
       "    </tr>\n",
       "    <tr>\n",
       "      <th>159514</th>\n",
       "      <td>ff39a2895fc3b40e</td>\n",
       "      <td>YOU ARE A MISCHIEVIOUS PUBIC HAIR</td>\n",
       "      <td>1</td>\n",
       "      <td>0</td>\n",
       "      <td>0</td>\n",
       "      <td>0</td>\n",
       "      <td>1</td>\n",
       "      <td>0</td>\n",
       "      <td>2</td>\n",
       "    </tr>\n",
       "    <tr>\n",
       "      <th>159541</th>\n",
       "      <td>ffa33d3122b599d6</td>\n",
       "      <td>Your absurd edits \\n\\nYour absurd edits on gre...</td>\n",
       "      <td>1</td>\n",
       "      <td>0</td>\n",
       "      <td>1</td>\n",
       "      <td>0</td>\n",
       "      <td>1</td>\n",
       "      <td>0</td>\n",
       "      <td>3</td>\n",
       "    </tr>\n",
       "    <tr>\n",
       "      <th>159546</th>\n",
       "      <td>ffb47123b2d82762</td>\n",
       "      <td>\"\\n\\nHey listen don't you ever!!!! Delete my e...</td>\n",
       "      <td>1</td>\n",
       "      <td>0</td>\n",
       "      <td>0</td>\n",
       "      <td>0</td>\n",
       "      <td>1</td>\n",
       "      <td>0</td>\n",
       "      <td>2</td>\n",
       "    </tr>\n",
       "    <tr>\n",
       "      <th>159554</th>\n",
       "      <td>ffbdbb0483ed0841</td>\n",
       "      <td>and i'm going to keep posting the stuff u dele...</td>\n",
       "      <td>1</td>\n",
       "      <td>0</td>\n",
       "      <td>1</td>\n",
       "      <td>0</td>\n",
       "      <td>1</td>\n",
       "      <td>0</td>\n",
       "      <td>3</td>\n",
       "    </tr>\n",
       "  </tbody>\n",
       "</table>\n",
       "<p>16225 rows × 9 columns</p>\n",
       "</div>"
      ],
      "text/plain": [
       "                      id                                       comment_text  \\\n",
       "6       0002bcb3da6cb337       COCKSUCKER BEFORE YOU PISS AROUND ON MY WORK   \n",
       "12      0005c987bdfc9d4b  Hey... what is it..\\n@ | talk .\\nWhat is it......   \n",
       "16      0007e25b2121310b  Bye! \\n\\nDon't look, come or think of comming ...   \n",
       "42      001810bf8c45bf5f  You are gay or antisemmitian? \\n\\nArchangel WH...   \n",
       "43      00190820581d90ce           FUCK YOUR FILTHY MOTHER IN THE ASS, DRY!   \n",
       "...                  ...                                                ...   \n",
       "159494  fef4cf7ba0012866  \"\\n\\n our previous conversation \\n\\nyou fuckin...   \n",
       "159514  ff39a2895fc3b40e                  YOU ARE A MISCHIEVIOUS PUBIC HAIR   \n",
       "159541  ffa33d3122b599d6  Your absurd edits \\n\\nYour absurd edits on gre...   \n",
       "159546  ffb47123b2d82762  \"\\n\\nHey listen don't you ever!!!! Delete my e...   \n",
       "159554  ffbdbb0483ed0841  and i'm going to keep posting the stuff u dele...   \n",
       "\n",
       "        toxic  severe_toxic  obscene  threat  insult  identity_hate  sum  \n",
       "6           1             1        1       0       1              0    4  \n",
       "12          1             0        0       0       0              0    1  \n",
       "16          1             0        0       0       0              0    1  \n",
       "42          1             0        1       0       1              1    4  \n",
       "43          1             0        1       0       1              0    3  \n",
       "...       ...           ...      ...     ...     ...            ...  ...  \n",
       "159494      1             0        1       0       1              1    4  \n",
       "159514      1             0        0       0       1              0    2  \n",
       "159541      1             0        1       0       1              0    3  \n",
       "159546      1             0        0       0       1              0    2  \n",
       "159554      1             0        1       0       1              0    3  \n",
       "\n",
       "[16225 rows x 9 columns]"
      ]
     },
     "execution_count": 36,
     "metadata": {},
     "output_type": "execute_result"
    }
   ],
   "source": [
    "df_sample[df_sample['sum'] != 0]"
   ]
  },
  {
   "cell_type": "code",
   "execution_count": 37,
   "id": "cbcbd876",
   "metadata": {},
   "outputs": [
    {
     "data": {
      "text/plain": [
       "[(0, 0.3402183),\n",
       " (1, 0.47162488),\n",
       " (2, 0.0105529),\n",
       " (3, 0.12528099),\n",
       " (4, 0.043037992)]"
      ]
     },
     "execution_count": 37,
     "metadata": {},
     "output_type": "execute_result"
    }
   ],
   "source": [
    "# predicting comment which is in dataframe  \n",
    "new_text_corpus_tox =  id2word_tox.doc2bow(df_sample['comment_text'][159494].split())\n",
    "lda_model_tox[new_text_corpus_tox]"
   ]
  },
  {
   "cell_type": "markdown",
   "id": "b99a978f",
   "metadata": {},
   "source": [
    "## Evaluating Model Generalization Performance"
   ]
  },
  {
   "cell_type": "code",
   "execution_count": 38,
   "id": "f2cbe0f2",
   "metadata": {
    "scrolled": true
   },
   "outputs": [
    {
     "data": {
      "text/html": [
       "<div>\n",
       "<style scoped>\n",
       "    .dataframe tbody tr th:only-of-type {\n",
       "        vertical-align: middle;\n",
       "    }\n",
       "\n",
       "    .dataframe tbody tr th {\n",
       "        vertical-align: top;\n",
       "    }\n",
       "\n",
       "    .dataframe thead th {\n",
       "        text-align: right;\n",
       "    }\n",
       "</style>\n",
       "<table border=\"1\" class=\"dataframe\">\n",
       "  <thead>\n",
       "    <tr style=\"text-align: right;\">\n",
       "      <th></th>\n",
       "      <th>id</th>\n",
       "      <th>comment_text</th>\n",
       "    </tr>\n",
       "  </thead>\n",
       "  <tbody>\n",
       "    <tr>\n",
       "      <th>0</th>\n",
       "      <td>00001cee341fdb12</td>\n",
       "      <td>Yo bitch Ja Rule is more succesful then you'll...</td>\n",
       "    </tr>\n",
       "    <tr>\n",
       "      <th>1</th>\n",
       "      <td>0000247867823ef7</td>\n",
       "      <td>== From RfC == \\n\\n The title is fine as it is...</td>\n",
       "    </tr>\n",
       "    <tr>\n",
       "      <th>2</th>\n",
       "      <td>00013b17ad220c46</td>\n",
       "      <td>\" \\n\\n == Sources == \\n\\n * Zawe Ashton on Lap...</td>\n",
       "    </tr>\n",
       "    <tr>\n",
       "      <th>3</th>\n",
       "      <td>00017563c3f7919a</td>\n",
       "      <td>:If you have a look back at the source, the in...</td>\n",
       "    </tr>\n",
       "    <tr>\n",
       "      <th>4</th>\n",
       "      <td>00017695ad8997eb</td>\n",
       "      <td>I don't anonymously edit articles at all.</td>\n",
       "    </tr>\n",
       "  </tbody>\n",
       "</table>\n",
       "</div>"
      ],
      "text/plain": [
       "                 id                                       comment_text\n",
       "0  00001cee341fdb12  Yo bitch Ja Rule is more succesful then you'll...\n",
       "1  0000247867823ef7  == From RfC == \\n\\n The title is fine as it is...\n",
       "2  00013b17ad220c46  \" \\n\\n == Sources == \\n\\n * Zawe Ashton on Lap...\n",
       "3  00017563c3f7919a  :If you have a look back at the source, the in...\n",
       "4  00017695ad8997eb          I don't anonymously edit articles at all."
      ]
     },
     "execution_count": 38,
     "metadata": {},
     "output_type": "execute_result"
    }
   ],
   "source": [
    "df_test = pd.read_csv(\"dataSet/test.csv\")\n",
    "df_test.head()"
   ]
  }
 ],
 "metadata": {
  "kernelspec": {
   "display_name": "Python 3 (ipykernel)",
   "language": "python",
   "name": "python3"
  },
  "language_info": {
   "codemirror_mode": {
    "name": "ipython",
    "version": 3
   },
   "file_extension": ".py",
   "mimetype": "text/x-python",
   "name": "python",
   "nbconvert_exporter": "python",
   "pygments_lexer": "ipython3",
   "version": "3.9.7"
  }
 },
 "nbformat": 4,
 "nbformat_minor": 5
}
