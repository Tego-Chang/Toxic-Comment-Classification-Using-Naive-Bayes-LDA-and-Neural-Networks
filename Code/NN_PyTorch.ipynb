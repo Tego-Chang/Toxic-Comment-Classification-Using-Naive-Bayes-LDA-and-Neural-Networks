{
 "cells": [
  {
   "cell_type": "code",
   "execution_count": 1,
   "metadata": {},
   "outputs": [],
   "source": [
    "import torch\n",
    "import numpy as np\n",
    "import pandas as pd\n",
    "\n",
    "from tqdm import trange\n",
    "from sklearn.decomposition import TruncatedSVD\n",
    "from sklearn.model_selection import train_test_split\n",
    "from sklearn.feature_extraction.text import TfidfVectorizer\n",
    "from sklearn.metrics import f1_score, precision_score, recall_score\n",
    "\n",
    "from torch import nn\n",
    "from torch import optim\n",
    "from torch.utils.data import Dataset, DataLoader"
   ]
  },
  {
   "cell_type": "code",
   "execution_count": 2,
   "metadata": {
    "pycharm": {
     "name": "#%%\n"
    }
   },
   "outputs": [
    {
     "data": {
      "text/html": [
       "<div>\n",
       "<style scoped>\n",
       "    .dataframe tbody tr th:only-of-type {\n",
       "        vertical-align: middle;\n",
       "    }\n",
       "\n",
       "    .dataframe tbody tr th {\n",
       "        vertical-align: top;\n",
       "    }\n",
       "\n",
       "    .dataframe thead th {\n",
       "        text-align: right;\n",
       "    }\n",
       "</style>\n",
       "<table border=\"1\" class=\"dataframe\">\n",
       "  <thead>\n",
       "    <tr style=\"text-align: right;\">\n",
       "      <th></th>\n",
       "      <th>comment_text</th>\n",
       "      <th>toxic</th>\n",
       "      <th>severe_toxic</th>\n",
       "      <th>obscene</th>\n",
       "      <th>threat</th>\n",
       "      <th>insult</th>\n",
       "      <th>identity_hate</th>\n",
       "    </tr>\n",
       "  </thead>\n",
       "  <tbody>\n",
       "    <tr>\n",
       "      <th>0</th>\n",
       "      <td>Explanation\\nWhy the edits made under my usern...</td>\n",
       "      <td>0</td>\n",
       "      <td>0</td>\n",
       "      <td>0</td>\n",
       "      <td>0</td>\n",
       "      <td>0</td>\n",
       "      <td>0</td>\n",
       "    </tr>\n",
       "    <tr>\n",
       "      <th>1</th>\n",
       "      <td>D'aww! He matches this background colour I'm s...</td>\n",
       "      <td>0</td>\n",
       "      <td>0</td>\n",
       "      <td>0</td>\n",
       "      <td>0</td>\n",
       "      <td>0</td>\n",
       "      <td>0</td>\n",
       "    </tr>\n",
       "    <tr>\n",
       "      <th>2</th>\n",
       "      <td>Hey man, I'm really not trying to edit war. It...</td>\n",
       "      <td>0</td>\n",
       "      <td>0</td>\n",
       "      <td>0</td>\n",
       "      <td>0</td>\n",
       "      <td>0</td>\n",
       "      <td>0</td>\n",
       "    </tr>\n",
       "    <tr>\n",
       "      <th>3</th>\n",
       "      <td>\"\\nMore\\nI can't make any real suggestions on ...</td>\n",
       "      <td>0</td>\n",
       "      <td>0</td>\n",
       "      <td>0</td>\n",
       "      <td>0</td>\n",
       "      <td>0</td>\n",
       "      <td>0</td>\n",
       "    </tr>\n",
       "    <tr>\n",
       "      <th>4</th>\n",
       "      <td>You, sir, are my hero. Any chance you remember...</td>\n",
       "      <td>0</td>\n",
       "      <td>0</td>\n",
       "      <td>0</td>\n",
       "      <td>0</td>\n",
       "      <td>0</td>\n",
       "      <td>0</td>\n",
       "    </tr>\n",
       "  </tbody>\n",
       "</table>\n",
       "</div>"
      ],
      "text/plain": [
       "                                        comment_text  toxic  severe_toxic  \\\n",
       "0  Explanation\\nWhy the edits made under my usern...      0             0   \n",
       "1  D'aww! He matches this background colour I'm s...      0             0   \n",
       "2  Hey man, I'm really not trying to edit war. It...      0             0   \n",
       "3  \"\\nMore\\nI can't make any real suggestions on ...      0             0   \n",
       "4  You, sir, are my hero. Any chance you remember...      0             0   \n",
       "\n",
       "   obscene  threat  insult  identity_hate  \n",
       "0        0       0       0              0  \n",
       "1        0       0       0              0  \n",
       "2        0       0       0              0  \n",
       "3        0       0       0              0  \n",
       "4        0       0       0              0  "
      ]
     },
     "execution_count": 2,
     "metadata": {},
     "output_type": "execute_result"
    }
   ],
   "source": [
    "data = pd.read_csv(\"./jigsaw-toxic-comment-classification-challenge/dataset/train.csv\", usecols=list(range(1, 8)))\n",
    "data.head()"
   ]
  },
  {
   "cell_type": "code",
   "execution_count": 3,
   "metadata": {
    "pycharm": {
     "name": "#%%\n"
    }
   },
   "outputs": [
    {
     "name": "stdout",
     "output_type": "stream",
     "text": [
      "Explanation\n",
      "Why the edits made under my username Hardcore Metallica Fan were reverted? They weren't vandalisms, just closure on some GAs after I voted at New York Dolls FAC. And please don't remove the template from the talk page since I'm retired now.89.205.38.27\n"
     ]
    }
   ],
   "source": [
    "print(data.comment_text[0])"
   ]
  },
  {
   "cell_type": "code",
   "execution_count": 4,
   "metadata": {
    "pycharm": {
     "name": "#%%\n"
    }
   },
   "outputs": [
    {
     "data": {
      "text/html": [
       "<div>\n",
       "<style scoped>\n",
       "    .dataframe tbody tr th:only-of-type {\n",
       "        vertical-align: middle;\n",
       "    }\n",
       "\n",
       "    .dataframe tbody tr th {\n",
       "        vertical-align: top;\n",
       "    }\n",
       "\n",
       "    .dataframe thead th {\n",
       "        text-align: right;\n",
       "    }\n",
       "</style>\n",
       "<table border=\"1\" class=\"dataframe\">\n",
       "  <thead>\n",
       "    <tr style=\"text-align: right;\">\n",
       "      <th></th>\n",
       "      <th></th>\n",
       "      <th></th>\n",
       "      <th></th>\n",
       "      <th></th>\n",
       "      <th></th>\n",
       "      <th>comment_text</th>\n",
       "    </tr>\n",
       "    <tr>\n",
       "      <th>toxic</th>\n",
       "      <th>severe_toxic</th>\n",
       "      <th>obscene</th>\n",
       "      <th>threat</th>\n",
       "      <th>insult</th>\n",
       "      <th>identity_hate</th>\n",
       "      <th></th>\n",
       "    </tr>\n",
       "  </thead>\n",
       "  <tbody>\n",
       "    <tr>\n",
       "      <th>0</th>\n",
       "      <th>0</th>\n",
       "      <th>0</th>\n",
       "      <th>0</th>\n",
       "      <th>0</th>\n",
       "      <th>0</th>\n",
       "      <td>143346</td>\n",
       "    </tr>\n",
       "    <tr>\n",
       "      <th rowspan=\"6\" valign=\"top\">1</th>\n",
       "      <th rowspan=\"4\" valign=\"top\">0</th>\n",
       "      <th>0</th>\n",
       "      <th>0</th>\n",
       "      <th>0</th>\n",
       "      <th>0</th>\n",
       "      <td>5666</td>\n",
       "    </tr>\n",
       "    <tr>\n",
       "      <th rowspan=\"2\" valign=\"top\">1</th>\n",
       "      <th rowspan=\"2\" valign=\"top\">0</th>\n",
       "      <th>1</th>\n",
       "      <th>0</th>\n",
       "      <td>3800</td>\n",
       "    </tr>\n",
       "    <tr>\n",
       "      <th>0</th>\n",
       "      <th>0</th>\n",
       "      <td>1758</td>\n",
       "    </tr>\n",
       "    <tr>\n",
       "      <th>0</th>\n",
       "      <th>0</th>\n",
       "      <th>1</th>\n",
       "      <th>0</th>\n",
       "      <td>1215</td>\n",
       "    </tr>\n",
       "    <tr>\n",
       "      <th>1</th>\n",
       "      <th>1</th>\n",
       "      <th>0</th>\n",
       "      <th>1</th>\n",
       "      <th>0</th>\n",
       "      <td>989</td>\n",
       "    </tr>\n",
       "    <tr>\n",
       "      <th>0</th>\n",
       "      <th>1</th>\n",
       "      <th>0</th>\n",
       "      <th>1</th>\n",
       "      <th>1</th>\n",
       "      <td>618</td>\n",
       "    </tr>\n",
       "    <tr>\n",
       "      <th rowspan=\"2\" valign=\"top\">0</th>\n",
       "      <th rowspan=\"2\" valign=\"top\">0</th>\n",
       "      <th>1</th>\n",
       "      <th>0</th>\n",
       "      <th>0</th>\n",
       "      <th>0</th>\n",
       "      <td>317</td>\n",
       "    </tr>\n",
       "    <tr>\n",
       "      <th>0</th>\n",
       "      <th>0</th>\n",
       "      <th>1</th>\n",
       "      <th>0</th>\n",
       "      <td>301</td>\n",
       "    </tr>\n",
       "    <tr>\n",
       "      <th>1</th>\n",
       "      <th>1</th>\n",
       "      <th>1</th>\n",
       "      <th>0</th>\n",
       "      <th>1</th>\n",
       "      <th>1</th>\n",
       "      <td>265</td>\n",
       "    </tr>\n",
       "    <tr>\n",
       "      <th>0</th>\n",
       "      <th>0</th>\n",
       "      <th>1</th>\n",
       "      <th>0</th>\n",
       "      <th>1</th>\n",
       "      <th>0</th>\n",
       "      <td>181</td>\n",
       "    </tr>\n",
       "    <tr>\n",
       "      <th rowspan=\"7\" valign=\"top\">1</th>\n",
       "      <th>1</th>\n",
       "      <th>1</th>\n",
       "      <th>0</th>\n",
       "      <th>0</th>\n",
       "      <th>0</th>\n",
       "      <td>158</td>\n",
       "    </tr>\n",
       "    <tr>\n",
       "      <th rowspan=\"4\" valign=\"top\">0</th>\n",
       "      <th rowspan=\"2\" valign=\"top\">0</th>\n",
       "      <th rowspan=\"2\" valign=\"top\">0</th>\n",
       "      <th>0</th>\n",
       "      <th>1</th>\n",
       "      <td>136</td>\n",
       "    </tr>\n",
       "    <tr>\n",
       "      <th>1</th>\n",
       "      <th>1</th>\n",
       "      <td>134</td>\n",
       "    </tr>\n",
       "    <tr>\n",
       "      <th>1</th>\n",
       "      <th>1</th>\n",
       "      <th>1</th>\n",
       "      <th>0</th>\n",
       "      <td>131</td>\n",
       "    </tr>\n",
       "    <tr>\n",
       "      <th>0</th>\n",
       "      <th>1</th>\n",
       "      <th>0</th>\n",
       "      <th>0</th>\n",
       "      <td>113</td>\n",
       "    </tr>\n",
       "    <tr>\n",
       "      <th>1</th>\n",
       "      <th>1</th>\n",
       "      <th>1</th>\n",
       "      <th>1</th>\n",
       "      <th>0</th>\n",
       "      <td>64</td>\n",
       "    </tr>\n",
       "    <tr>\n",
       "      <th>0</th>\n",
       "      <th>1</th>\n",
       "      <th>1</th>\n",
       "      <th>1</th>\n",
       "      <th>1</th>\n",
       "      <td>56</td>\n",
       "    </tr>\n",
       "    <tr>\n",
       "      <th>0</th>\n",
       "      <th>0</th>\n",
       "      <th>0</th>\n",
       "      <th>0</th>\n",
       "      <th>0</th>\n",
       "      <th>1</th>\n",
       "      <td>54</td>\n",
       "    </tr>\n",
       "    <tr>\n",
       "      <th rowspan=\"3\" valign=\"top\">1</th>\n",
       "      <th>1</th>\n",
       "      <th>0</th>\n",
       "      <th>0</th>\n",
       "      <th>0</th>\n",
       "      <th>0</th>\n",
       "      <td>41</td>\n",
       "    </tr>\n",
       "    <tr>\n",
       "      <th>0</th>\n",
       "      <th>1</th>\n",
       "      <th>0</th>\n",
       "      <th>0</th>\n",
       "      <th>1</th>\n",
       "      <td>35</td>\n",
       "    </tr>\n",
       "    <tr>\n",
       "      <th>1</th>\n",
       "      <th>1</th>\n",
       "      <th>1</th>\n",
       "      <th>1</th>\n",
       "      <th>1</th>\n",
       "      <td>31</td>\n",
       "    </tr>\n",
       "    <tr>\n",
       "      <th rowspan=\"3\" valign=\"top\">0</th>\n",
       "      <th rowspan=\"3\" valign=\"top\">0</th>\n",
       "      <th rowspan=\"2\" valign=\"top\">0</th>\n",
       "      <th>0</th>\n",
       "      <th>1</th>\n",
       "      <th>1</th>\n",
       "      <td>28</td>\n",
       "    </tr>\n",
       "    <tr>\n",
       "      <th>1</th>\n",
       "      <th>0</th>\n",
       "      <th>0</th>\n",
       "      <td>22</td>\n",
       "    </tr>\n",
       "    <tr>\n",
       "      <th>1</th>\n",
       "      <th>0</th>\n",
       "      <th>1</th>\n",
       "      <th>1</th>\n",
       "      <td>18</td>\n",
       "    </tr>\n",
       "    <tr>\n",
       "      <th rowspan=\"10\" valign=\"top\">1</th>\n",
       "      <th>0</th>\n",
       "      <th>0</th>\n",
       "      <th>1</th>\n",
       "      <th>1</th>\n",
       "      <th>0</th>\n",
       "      <td>16</td>\n",
       "    </tr>\n",
       "    <tr>\n",
       "      <th rowspan=\"2\" valign=\"top\">1</th>\n",
       "      <th rowspan=\"2\" valign=\"top\">0</th>\n",
       "      <th>0</th>\n",
       "      <th>1</th>\n",
       "      <th>0</th>\n",
       "      <td>14</td>\n",
       "    </tr>\n",
       "    <tr>\n",
       "      <th>1</th>\n",
       "      <th>0</th>\n",
       "      <th>0</th>\n",
       "      <td>11</td>\n",
       "    </tr>\n",
       "    <tr>\n",
       "      <th rowspan=\"2\" valign=\"top\">0</th>\n",
       "      <th>1</th>\n",
       "      <th>1</th>\n",
       "      <th>0</th>\n",
       "      <th>0</th>\n",
       "      <td>11</td>\n",
       "    </tr>\n",
       "    <tr>\n",
       "      <th>0</th>\n",
       "      <th>1</th>\n",
       "      <th>0</th>\n",
       "      <th>1</th>\n",
       "      <td>7</td>\n",
       "    </tr>\n",
       "    <tr>\n",
       "      <th rowspan=\"4\" valign=\"top\">1</th>\n",
       "      <th>0</th>\n",
       "      <th>0</th>\n",
       "      <th>1</th>\n",
       "      <th>1</th>\n",
       "      <td>7</td>\n",
       "    </tr>\n",
       "    <tr>\n",
       "      <th rowspan=\"2\" valign=\"top\">1</th>\n",
       "      <th>0</th>\n",
       "      <th>0</th>\n",
       "      <th>1</th>\n",
       "      <td>6</td>\n",
       "    </tr>\n",
       "    <tr>\n",
       "      <th>1</th>\n",
       "      <th>0</th>\n",
       "      <th>0</th>\n",
       "      <td>4</td>\n",
       "    </tr>\n",
       "    <tr>\n",
       "      <th>0</th>\n",
       "      <th>0</th>\n",
       "      <th>0</th>\n",
       "      <th>1</th>\n",
       "      <td>3</td>\n",
       "    </tr>\n",
       "    <tr>\n",
       "      <th>0</th>\n",
       "      <th>0</th>\n",
       "      <th>1</th>\n",
       "      <th>1</th>\n",
       "      <th>1</th>\n",
       "      <td>3</td>\n",
       "    </tr>\n",
       "    <tr>\n",
       "      <th rowspan=\"4\" valign=\"top\">0</th>\n",
       "      <th rowspan=\"4\" valign=\"top\">0</th>\n",
       "      <th>1</th>\n",
       "      <th>0</th>\n",
       "      <th>0</th>\n",
       "      <th>1</th>\n",
       "      <td>3</td>\n",
       "    </tr>\n",
       "    <tr>\n",
       "      <th>0</th>\n",
       "      <th>1</th>\n",
       "      <th>1</th>\n",
       "      <th>0</th>\n",
       "      <td>3</td>\n",
       "    </tr>\n",
       "    <tr>\n",
       "      <th rowspan=\"2\" valign=\"top\">1</th>\n",
       "      <th rowspan=\"2\" valign=\"top\">1</th>\n",
       "      <th>1</th>\n",
       "      <th>0</th>\n",
       "      <td>2</td>\n",
       "    </tr>\n",
       "    <tr>\n",
       "      <th>0</th>\n",
       "      <th>0</th>\n",
       "      <td>2</td>\n",
       "    </tr>\n",
       "    <tr>\n",
       "      <th rowspan=\"2\" valign=\"top\">1</th>\n",
       "      <th rowspan=\"2\" valign=\"top\">1</th>\n",
       "      <th rowspan=\"2\" valign=\"top\">0</th>\n",
       "      <th rowspan=\"2\" valign=\"top\">1</th>\n",
       "      <th>0</th>\n",
       "      <th>1</th>\n",
       "      <td>1</td>\n",
       "    </tr>\n",
       "    <tr>\n",
       "      <th>1</th>\n",
       "      <th>0</th>\n",
       "      <td>1</td>\n",
       "    </tr>\n",
       "  </tbody>\n",
       "</table>\n",
       "</div>"
      ],
      "text/plain": [
       "                                                        comment_text\n",
       "toxic severe_toxic obscene threat insult identity_hate              \n",
       "0     0            0       0      0      0                    143346\n",
       "1     0            0       0      0      0                      5666\n",
       "                   1       0      1      0                      3800\n",
       "                                  0      0                      1758\n",
       "                   0       0      1      0                      1215\n",
       "      1            1       0      1      0                       989\n",
       "      0            1       0      1      1                       618\n",
       "0     0            1       0      0      0                       317\n",
       "                   0       0      1      0                       301\n",
       "1     1            1       0      1      1                       265\n",
       "0     0            1       0      1      0                       181\n",
       "1     1            1       0      0      0                       158\n",
       "      0            0       0      0      1                       136\n",
       "                                  1      1                       134\n",
       "                   1       1      1      0                       131\n",
       "                   0       1      0      0                       113\n",
       "      1            1       1      1      0                        64\n",
       "      0            1       1      1      1                        56\n",
       "0     0            0       0      0      1                        54\n",
       "1     1            0       0      0      0                        41\n",
       "      0            1       0      0      1                        35\n",
       "      1            1       1      1      1                        31\n",
       "0     0            0       0      1      1                        28\n",
       "                           1      0      0                        22\n",
       "                   1       0      1      1                        18\n",
       "1     0            0       1      1      0                        16\n",
       "      1            0       0      1      0                        14\n",
       "                           1      0      0                        11\n",
       "      0            1       1      0      0                        11\n",
       "                   0       1      0      1                         7\n",
       "      1            0       0      1      1                         7\n",
       "                   1       0      0      1                         6\n",
       "                           1      0      0                         4\n",
       "                   0       0      0      1                         3\n",
       "      0            0       1      1      1                         3\n",
       "0     0            1       0      0      1                         3\n",
       "                   0       1      1      0                         3\n",
       "                   1       1      1      0                         2\n",
       "                                  0      0                         2\n",
       "1     1            0       1      0      1                         1\n",
       "                                  1      0                         1"
      ]
     },
     "execution_count": 4,
     "metadata": {},
     "output_type": "execute_result"
    }
   ],
   "source": [
    "# Categories distribution\n",
    "(data\n",
    " .groupby(['toxic', 'severe_toxic', 'obscene', 'threat', 'insult', 'identity_hate'])\n",
    " .count()\n",
    " .sort_values('comment_text', ascending=False))"
   ]
  },
  {
   "cell_type": "code",
   "execution_count": 5,
   "metadata": {
    "pycharm": {
     "name": "#%%\n"
    }
   },
   "outputs": [
    {
     "name": "stdout",
     "output_type": "stream",
     "text": [
      "(143613, 7)\n",
      "(15958, 7)\n"
     ]
    }
   ],
   "source": [
    "train_df, valid_df = train_test_split(data, train_size=0.9, random_state=1234)\n",
    "print(train_df.shape)\n",
    "print(valid_df.shape)"
   ]
  },
  {
   "cell_type": "code",
   "execution_count": 6,
   "metadata": {},
   "outputs": [
    {
     "data": {
      "text/html": [
       "<div>\n",
       "<style scoped>\n",
       "    .dataframe tbody tr th:only-of-type {\n",
       "        vertical-align: middle;\n",
       "    }\n",
       "\n",
       "    .dataframe tbody tr th {\n",
       "        vertical-align: top;\n",
       "    }\n",
       "\n",
       "    .dataframe thead th {\n",
       "        text-align: right;\n",
       "    }\n",
       "</style>\n",
       "<table border=\"1\" class=\"dataframe\">\n",
       "  <thead>\n",
       "    <tr style=\"text-align: right;\">\n",
       "      <th></th>\n",
       "      <th>comment_text</th>\n",
       "      <th>toxic</th>\n",
       "      <th>severe_toxic</th>\n",
       "      <th>obscene</th>\n",
       "      <th>threat</th>\n",
       "      <th>insult</th>\n",
       "      <th>identity_hate</th>\n",
       "    </tr>\n",
       "  </thead>\n",
       "  <tbody>\n",
       "    <tr>\n",
       "      <th>158913</th>\n",
       "      <td>\"==snesclassics.com and related spam on Wikipe...</td>\n",
       "      <td>0</td>\n",
       "      <td>0</td>\n",
       "      <td>0</td>\n",
       "      <td>0</td>\n",
       "      <td>0</td>\n",
       "      <td>0</td>\n",
       "    </tr>\n",
       "    <tr>\n",
       "      <th>18939</th>\n",
       "      <td>\"\\n\\ndear Mr Manjunath, i was mearely trying t...</td>\n",
       "      <td>0</td>\n",
       "      <td>0</td>\n",
       "      <td>0</td>\n",
       "      <td>0</td>\n",
       "      <td>0</td>\n",
       "      <td>0</td>\n",
       "    </tr>\n",
       "    <tr>\n",
       "      <th>31383</th>\n",
       "      <td>Panic attacks \\n\\nYou need to cite valid refer...</td>\n",
       "      <td>0</td>\n",
       "      <td>0</td>\n",
       "      <td>0</td>\n",
       "      <td>0</td>\n",
       "      <td>0</td>\n",
       "      <td>0</td>\n",
       "    </tr>\n",
       "    <tr>\n",
       "      <th>75238</th>\n",
       "      <td>\"\\nThanks for the update, Tony.  Your tips on ...</td>\n",
       "      <td>0</td>\n",
       "      <td>0</td>\n",
       "      <td>0</td>\n",
       "      <td>0</td>\n",
       "      <td>0</td>\n",
       "      <td>0</td>\n",
       "    </tr>\n",
       "    <tr>\n",
       "      <th>112095</th>\n",
       "      <td>\": I'd buy you a cookie if you took a stab at ...</td>\n",
       "      <td>0</td>\n",
       "      <td>0</td>\n",
       "      <td>0</td>\n",
       "      <td>0</td>\n",
       "      <td>0</td>\n",
       "      <td>0</td>\n",
       "    </tr>\n",
       "    <tr>\n",
       "      <th>...</th>\n",
       "      <td>...</td>\n",
       "      <td>...</td>\n",
       "      <td>...</td>\n",
       "      <td>...</td>\n",
       "      <td>...</td>\n",
       "      <td>...</td>\n",
       "      <td>...</td>\n",
       "    </tr>\n",
       "    <tr>\n",
       "      <th>41239</th>\n",
       "      <td>\"\\n\\nSarujo, please change it! Listen http://w...</td>\n",
       "      <td>0</td>\n",
       "      <td>0</td>\n",
       "      <td>0</td>\n",
       "      <td>0</td>\n",
       "      <td>0</td>\n",
       "      <td>0</td>\n",
       "    </tr>\n",
       "    <tr>\n",
       "      <th>55985</th>\n",
       "      <td>REDIRECT Talk:Peter Whelan (priest)</td>\n",
       "      <td>0</td>\n",
       "      <td>0</td>\n",
       "      <td>0</td>\n",
       "      <td>0</td>\n",
       "      <td>0</td>\n",
       "      <td>0</td>\n",
       "    </tr>\n",
       "    <tr>\n",
       "      <th>32399</th>\n",
       "      <td>FOCK THEE SHMUCKY THE CAT GO FOCK WITH KILRATH...</td>\n",
       "      <td>1</td>\n",
       "      <td>0</td>\n",
       "      <td>1</td>\n",
       "      <td>0</td>\n",
       "      <td>1</td>\n",
       "      <td>0</td>\n",
       "    </tr>\n",
       "    <tr>\n",
       "      <th>82584</th>\n",
       "      <td>NOT VANDALISM, YOU F.U.C.K.I.N.G B.I.T.C.H!!!</td>\n",
       "      <td>1</td>\n",
       "      <td>0</td>\n",
       "      <td>1</td>\n",
       "      <td>0</td>\n",
       "      <td>1</td>\n",
       "      <td>0</td>\n",
       "    </tr>\n",
       "    <tr>\n",
       "      <th>121909</th>\n",
       "      <td>You must have a lot of kleenex by your compute...</td>\n",
       "      <td>0</td>\n",
       "      <td>0</td>\n",
       "      <td>0</td>\n",
       "      <td>0</td>\n",
       "      <td>0</td>\n",
       "      <td>0</td>\n",
       "    </tr>\n",
       "  </tbody>\n",
       "</table>\n",
       "<p>143613 rows × 7 columns</p>\n",
       "</div>"
      ],
      "text/plain": [
       "                                             comment_text  toxic  \\\n",
       "158913  \"==snesclassics.com and related spam on Wikipe...      0   \n",
       "18939   \"\\n\\ndear Mr Manjunath, i was mearely trying t...      0   \n",
       "31383   Panic attacks \\n\\nYou need to cite valid refer...      0   \n",
       "75238   \"\\nThanks for the update, Tony.  Your tips on ...      0   \n",
       "112095  \": I'd buy you a cookie if you took a stab at ...      0   \n",
       "...                                                   ...    ...   \n",
       "41239   \"\\n\\nSarujo, please change it! Listen http://w...      0   \n",
       "55985                 REDIRECT Talk:Peter Whelan (priest)      0   \n",
       "32399   FOCK THEE SHMUCKY THE CAT GO FOCK WITH KILRATH...      1   \n",
       "82584       NOT VANDALISM, YOU F.U.C.K.I.N.G B.I.T.C.H!!!      1   \n",
       "121909  You must have a lot of kleenex by your compute...      0   \n",
       "\n",
       "        severe_toxic  obscene  threat  insult  identity_hate  \n",
       "158913             0        0       0       0              0  \n",
       "18939              0        0       0       0              0  \n",
       "31383              0        0       0       0              0  \n",
       "75238              0        0       0       0              0  \n",
       "112095             0        0       0       0              0  \n",
       "...              ...      ...     ...     ...            ...  \n",
       "41239              0        0       0       0              0  \n",
       "55985              0        0       0       0              0  \n",
       "32399              0        1       0       1              0  \n",
       "82584              0        1       0       1              0  \n",
       "121909             0        0       0       0              0  \n",
       "\n",
       "[143613 rows x 7 columns]"
      ]
     },
     "execution_count": 6,
     "metadata": {},
     "output_type": "execute_result"
    }
   ],
   "source": [
    "train_df"
   ]
  },
  {
   "cell_type": "markdown",
   "metadata": {
    "pycharm": {
     "name": "#%% md\n"
    }
   },
   "source": [
    "# Text preprocess: TF-IDF"
   ]
  },
  {
   "cell_type": "code",
   "execution_count": 7,
   "metadata": {
    "pycharm": {
     "name": "#%%\n"
    }
   },
   "outputs": [
    {
     "name": "stderr",
     "output_type": "stream",
     "text": [
      "/Users/tegochang/opt/miniconda3/lib/python3.9/site-packages/sklearn/feature_extraction/text.py:1208: UserWarning: Upper case characters found in vocabulary while 'lowercase' is True. These entries will not be matched with any documents\n",
      "  warnings.warn(\n"
     ]
    }
   ],
   "source": [
    "tf_idf = TfidfVectorizer()\n",
    "X_train = tf_idf.fit_transform(train_df.comment_text.to_numpy())\n",
    "X_valid = tf_idf.transform(valid_df.comment_text.to_numpy())"
   ]
  },
  {
   "cell_type": "code",
   "execution_count": 8,
   "metadata": {},
   "outputs": [
    {
     "data": {
      "text/plain": [
       "<143613x177889 sparse matrix of type '<class 'numpy.float64'>'\n",
       "\twith 6251659 stored elements in Compressed Sparse Row format>"
      ]
     },
     "execution_count": 8,
     "metadata": {},
     "output_type": "execute_result"
    }
   ],
   "source": [
    "X_train # row: number of comments; column: number of words in all dataset (bag of words)\n",
    "# X_valid\n"
   ]
  },
  {
   "cell_type": "code",
   "execution_count": 9,
   "metadata": {
    "pycharm": {
     "name": "#%%\n"
    }
   },
   "outputs": [
    {
     "name": "stderr",
     "output_type": "stream",
     "text": [
      "/Users/tegochang/opt/miniconda3/lib/python3.9/site-packages/sklearn/utils/deprecation.py:87: FutureWarning: Function get_feature_names is deprecated; get_feature_names is deprecated in 1.0 and will be removed in 1.2. Please use get_feature_names_out instead.\n",
      "  warnings.warn(msg, category=FutureWarning)\n"
     ]
    },
    {
     "data": {
      "text/plain": [
       "'𐌴𐌹'"
      ]
     },
     "execution_count": 9,
     "metadata": {},
     "output_type": "execute_result"
    }
   ],
   "source": [
    "# tf_idf.get_feature_names()[-10001]\n",
    "tf_idf.get_feature_names()[177888] "
   ]
  },
  {
   "cell_type": "code",
   "execution_count": 10,
   "metadata": {
    "pycharm": {
     "name": "#%%\n"
    }
   },
   "outputs": [],
   "source": [
    "pca_300 = TruncatedSVD(n_components=300, n_iter=5, random_state=1234)\n",
    "X_300_train = pca_300.fit_transform(X_train) # training SVD matrix\n",
    "X_300_valid = pca_300.transform(X_valid) # testing SVD matrix"
   ]
  },
  {
   "cell_type": "code",
   "execution_count": 11,
   "metadata": {},
   "outputs": [
    {
     "name": "stdout",
     "output_type": "stream",
     "text": [
      "(143613, 300)\n"
     ]
    },
    {
     "data": {
      "text/plain": [
       "(15958, 300)"
      ]
     },
     "execution_count": 11,
     "metadata": {},
     "output_type": "execute_result"
    }
   ],
   "source": [
    "print (X_300_train.shape)\n",
    "X_300_valid.shape"
   ]
  },
  {
   "cell_type": "code",
   "execution_count": 12,
   "metadata": {},
   "outputs": [
    {
     "data": {
      "text/html": [
       "<div>\n",
       "<style scoped>\n",
       "    .dataframe tbody tr th:only-of-type {\n",
       "        vertical-align: middle;\n",
       "    }\n",
       "\n",
       "    .dataframe tbody tr th {\n",
       "        vertical-align: top;\n",
       "    }\n",
       "\n",
       "    .dataframe thead th {\n",
       "        text-align: right;\n",
       "    }\n",
       "</style>\n",
       "<table border=\"1\" class=\"dataframe\">\n",
       "  <thead>\n",
       "    <tr style=\"text-align: right;\">\n",
       "      <th></th>\n",
       "      <th>toxic</th>\n",
       "      <th>severe_toxic</th>\n",
       "      <th>obscene</th>\n",
       "      <th>threat</th>\n",
       "      <th>insult</th>\n",
       "      <th>identity_hate</th>\n",
       "    </tr>\n",
       "  </thead>\n",
       "  <tbody>\n",
       "    <tr>\n",
       "      <th>158913</th>\n",
       "      <td>0</td>\n",
       "      <td>0</td>\n",
       "      <td>0</td>\n",
       "      <td>0</td>\n",
       "      <td>0</td>\n",
       "      <td>0</td>\n",
       "    </tr>\n",
       "    <tr>\n",
       "      <th>18939</th>\n",
       "      <td>0</td>\n",
       "      <td>0</td>\n",
       "      <td>0</td>\n",
       "      <td>0</td>\n",
       "      <td>0</td>\n",
       "      <td>0</td>\n",
       "    </tr>\n",
       "    <tr>\n",
       "      <th>31383</th>\n",
       "      <td>0</td>\n",
       "      <td>0</td>\n",
       "      <td>0</td>\n",
       "      <td>0</td>\n",
       "      <td>0</td>\n",
       "      <td>0</td>\n",
       "    </tr>\n",
       "    <tr>\n",
       "      <th>75238</th>\n",
       "      <td>0</td>\n",
       "      <td>0</td>\n",
       "      <td>0</td>\n",
       "      <td>0</td>\n",
       "      <td>0</td>\n",
       "      <td>0</td>\n",
       "    </tr>\n",
       "    <tr>\n",
       "      <th>112095</th>\n",
       "      <td>0</td>\n",
       "      <td>0</td>\n",
       "      <td>0</td>\n",
       "      <td>0</td>\n",
       "      <td>0</td>\n",
       "      <td>0</td>\n",
       "    </tr>\n",
       "    <tr>\n",
       "      <th>...</th>\n",
       "      <td>...</td>\n",
       "      <td>...</td>\n",
       "      <td>...</td>\n",
       "      <td>...</td>\n",
       "      <td>...</td>\n",
       "      <td>...</td>\n",
       "    </tr>\n",
       "    <tr>\n",
       "      <th>41239</th>\n",
       "      <td>0</td>\n",
       "      <td>0</td>\n",
       "      <td>0</td>\n",
       "      <td>0</td>\n",
       "      <td>0</td>\n",
       "      <td>0</td>\n",
       "    </tr>\n",
       "    <tr>\n",
       "      <th>55985</th>\n",
       "      <td>0</td>\n",
       "      <td>0</td>\n",
       "      <td>0</td>\n",
       "      <td>0</td>\n",
       "      <td>0</td>\n",
       "      <td>0</td>\n",
       "    </tr>\n",
       "    <tr>\n",
       "      <th>32399</th>\n",
       "      <td>1</td>\n",
       "      <td>0</td>\n",
       "      <td>1</td>\n",
       "      <td>0</td>\n",
       "      <td>1</td>\n",
       "      <td>0</td>\n",
       "    </tr>\n",
       "    <tr>\n",
       "      <th>82584</th>\n",
       "      <td>1</td>\n",
       "      <td>0</td>\n",
       "      <td>1</td>\n",
       "      <td>0</td>\n",
       "      <td>1</td>\n",
       "      <td>0</td>\n",
       "    </tr>\n",
       "    <tr>\n",
       "      <th>121909</th>\n",
       "      <td>0</td>\n",
       "      <td>0</td>\n",
       "      <td>0</td>\n",
       "      <td>0</td>\n",
       "      <td>0</td>\n",
       "      <td>0</td>\n",
       "    </tr>\n",
       "  </tbody>\n",
       "</table>\n",
       "<p>143613 rows × 6 columns</p>\n",
       "</div>"
      ],
      "text/plain": [
       "        toxic  severe_toxic  obscene  threat  insult  identity_hate\n",
       "158913      0             0        0       0       0              0\n",
       "18939       0             0        0       0       0              0\n",
       "31383       0             0        0       0       0              0\n",
       "75238       0             0        0       0       0              0\n",
       "112095      0             0        0       0       0              0\n",
       "...       ...           ...      ...     ...     ...            ...\n",
       "41239       0             0        0       0       0              0\n",
       "55985       0             0        0       0       0              0\n",
       "32399       1             0        1       0       1              0\n",
       "82584       1             0        1       0       1              0\n",
       "121909      0             0        0       0       0              0\n",
       "\n",
       "[143613 rows x 6 columns]"
      ]
     },
     "execution_count": 12,
     "metadata": {},
     "output_type": "execute_result"
    }
   ],
   "source": [
    "train_df.iloc[:, 1:]"
   ]
  },
  {
   "cell_type": "code",
   "execution_count": 13,
   "metadata": {
    "pycharm": {
     "name": "#%%\n"
    }
   },
   "outputs": [],
   "source": [
    "class TfTrainDataset(Dataset):\n",
    "    def __init__(self):\n",
    "        self.x = X_300_train # the TF-IDF matrix\n",
    "        self.y = train_df.iloc[:, 1:]\n",
    "\n",
    "    def __getitem__(self, item):\n",
    "        label = torch.tensor(self.y.iloc[item].tolist(), dtype=torch.float32)\n",
    "        x = torch.tensor(self.x[item], dtype=torch.float32)\n",
    "        return x, label\n",
    "\n",
    "    def __len__(self):\n",
    "        return len(self.x)\n",
    "\n",
    "\n",
    "class TfValidDataset(Dataset):\n",
    "    def __init__(self):\n",
    "        self.x = X_300_valid\n",
    "        self.y = valid_df.iloc[:, 1:]\n",
    "\n",
    "    def __getitem__(self, item):\n",
    "        label = torch.tensor(self.y.iloc[item].tolist(), dtype=torch.float32)\n",
    "        x = torch.tensor(self.x[item], dtype=torch.float32)\n",
    "        return x, label\n",
    "\n",
    "    def __len__(self):\n",
    "        return len(self.x)"
   ]
  },
  {
   "cell_type": "code",
   "execution_count": 14,
   "metadata": {
    "pycharm": {
     "name": "#%%\n"
    }
   },
   "outputs": [],
   "source": [
    "batch_size = 16\n",
    "num_classes = 6\n",
    "num_epochs = 5\n",
    "\n",
    "trainset = TfTrainDataset()\n",
    "valset = TfValidDataset()\n",
    "dataloader = {\"train\": DataLoader(trainset, shuffle=True, batch_size=batch_size),\n",
    "              \"val\": DataLoader(valset, shuffle=True, batch_size=batch_size)}"
   ]
  },
  {
   "cell_type": "code",
   "execution_count": 15,
   "metadata": {
    "pycharm": {
     "name": "#%%\n"
    }
   },
   "outputs": [],
   "source": [
    "class FcModel(nn.Module):\n",
    "    def __init__(self):\n",
    "        super(FcModel, self).__init__()\n",
    "        self.sequential = nn.Sequential(nn.Linear(300, 300),\n",
    "                                        nn.ReLU(),\n",
    "                                        nn.Linear(300, 150),\n",
    "                                        nn.ReLU(),\n",
    "                                        nn.Linear(150, 6))\n",
    "\n",
    "    def forward(self, x):\n",
    "        return self.sequential(x)"
   ]
  },
  {
   "cell_type": "code",
   "execution_count": 16,
   "metadata": {
    "pycharm": {
     "name": "#%%\n"
    }
   },
   "outputs": [
    {
     "data": {
      "text/plain": [
       "FcModel(\n",
       "  (sequential): Sequential(\n",
       "    (0): Linear(in_features=300, out_features=300, bias=True)\n",
       "    (1): ReLU()\n",
       "    (2): Linear(in_features=300, out_features=150, bias=True)\n",
       "    (3): ReLU()\n",
       "    (4): Linear(in_features=150, out_features=6, bias=True)\n",
       "  )\n",
       ")"
      ]
     },
     "execution_count": 16,
     "metadata": {},
     "output_type": "execute_result"
    }
   ],
   "source": [
    "fc_model = FcModel()\n",
    "fc_model"
   ]
  },
  {
   "cell_type": "code",
   "execution_count": 17,
   "metadata": {
    "pycharm": {
     "name": "#%%\n"
    }
   },
   "outputs": [],
   "source": [
    "device = \"cuda\" if torch.cuda.is_available() else \"cpu\"\n",
    "fc_model.to(device)\n",
    "criterion = nn.BCEWithLogitsLoss()\n",
    "optimizer = optim.Adam(fc_model.parameters(), lr=0.001)"
   ]
  },
  {
   "cell_type": "code",
   "execution_count": 18,
   "metadata": {
    "pycharm": {
     "name": "#%%\n"
    }
   },
   "outputs": [
    {
     "name": "stderr",
     "output_type": "stream",
     "text": [
      "Epochs: 100%|██████████| 5/5 [03:49<00:00, 45.87s/it]\n"
     ]
    }
   ],
   "source": [
    "for epoch in trange(num_epochs, desc=\"Epochs\"):\n",
    "    result = []\n",
    "    for phase in ['train', 'val']:\n",
    "        if phase == \"train\":  \n",
    "            fc_model.train()\n",
    "            optimizer.step()\n",
    "        else:  \n",
    "            fc_model.eval()\n",
    "\n",
    "        running_loss = 0.0\n",
    "        running_corrects = 0.0\n",
    "\n",
    "        for data, target in dataloader[phase]:\n",
    "            data, target = data.to(device), target.to(device)\n",
    "\n",
    "            with torch.set_grad_enabled(phase == \"train\"):\n",
    "                output = fc_model(data)\n",
    "                loss = criterion(output, target)\n",
    "                preds = torch.sigmoid(output).data > 0.5\n",
    "                preds = preds.to(torch.float32)\n",
    "\n",
    "                if phase == \"train\":\n",
    "                    loss.backward()\n",
    "                    optimizer.step()\n",
    "                    optimizer.zero_grad()\n",
    "\n",
    "            running_loss += loss.item() * data.size(0)\n",
    "\n",
    "        epoch_loss = running_loss / len(dataloader[phase].dataset)\n",
    "        result.append('{} Loss: {:.4f}'.format(phase, epoch_loss))"
   ]
  },
  {
   "cell_type": "code",
   "execution_count": 19,
   "metadata": {
    "pycharm": {
     "name": "#%%\n"
    }
   },
   "outputs": [
    {
     "data": {
      "text/plain": [
       "['train Loss: 0.0484', 'val Loss: 0.0604']"
      ]
     },
     "execution_count": 19,
     "metadata": {},
     "output_type": "execute_result"
    }
   ],
   "source": [
    "result"
   ]
  },
  {
   "cell_type": "code",
   "execution_count": 53,
   "metadata": {
    "pycharm": {
     "name": "#%%\n"
    }
   },
   "outputs": [
    {
     "data": {
      "text/plain": [
       "tensor([1., 0., 0., 0., 0., 0.])"
      ]
     },
     "execution_count": 53,
     "metadata": {},
     "output_type": "execute_result"
    }
   ],
   "source": [
    "test_x, test_y = valset[100]\n",
    "test_y"
   ]
  },
  {
   "cell_type": "code",
   "execution_count": 60,
   "metadata": {},
   "outputs": [
    {
     "data": {
      "text/plain": [
       "300"
      ]
     },
     "execution_count": 60,
     "metadata": {},
     "output_type": "execute_result"
    }
   ],
   "source": [
    "len(test_x)"
   ]
  },
  {
   "cell_type": "code",
   "execution_count": 22,
   "metadata": {
    "pycharm": {
     "name": "#%%\n"
    }
   },
   "outputs": [],
   "source": [
    "# fc_model.to(\"cpu\")\n",
    "# fc_model.eval()\n",
    "pred_y = fc_model(test_x)"
   ]
  },
  {
   "cell_type": "code",
   "execution_count": 23,
   "metadata": {},
   "outputs": [
    {
     "data": {
      "text/plain": [
       "tensor([0.8937, 0.0774, 0.5220, 0.0015, 0.7095, 0.3086])"
      ]
     },
     "execution_count": 23,
     "metadata": {},
     "output_type": "execute_result"
    }
   ],
   "source": [
    "torch.sigmoid(pred_y).data"
   ]
  },
  {
   "cell_type": "code",
   "execution_count": 24,
   "metadata": {
    "pycharm": {
     "name": "#%%\n"
    }
   },
   "outputs": [
    {
     "data": {
      "text/plain": [
       "tensor([ True, False,  True, False,  True, False])"
      ]
     },
     "execution_count": 24,
     "metadata": {},
     "output_type": "execute_result"
    }
   ],
   "source": [
    "torch.sigmoid(pred_y).data > 0.5"
   ]
  },
  {
   "cell_type": "code",
   "execution_count": 25,
   "metadata": {
    "pycharm": {
     "name": "#%%\n"
    }
   },
   "outputs": [
    {
     "data": {
      "text/plain": [
       "tensor([ 2.9501e-02, -1.4253e-02, -1.0083e-02,  4.9778e-04,  1.5687e-02,\n",
       "         3.3898e-02, -1.1791e-02, -3.7645e-02,  3.8984e-02, -4.0031e-02,\n",
       "         5.1021e-02,  2.9936e-02,  7.4644e-03,  2.5222e-02, -6.8358e-03,\n",
       "         2.1959e-02,  1.8704e-02,  2.0543e-03,  1.1728e-02,  7.4335e-03,\n",
       "         2.5783e-02, -2.0968e-03, -2.1280e-02, -1.0311e-02, -5.2723e-03,\n",
       "        -1.3524e-02,  6.4809e-03, -5.7541e-03,  1.9628e-02,  1.1858e-02,\n",
       "        -7.9657e-03,  4.4858e-03,  9.6199e-04, -1.8739e-02,  2.5760e-02,\n",
       "        -2.7869e-02,  1.3316e-02, -5.1893e-02,  3.6947e-02, -5.4700e-02,\n",
       "         3.8573e-02,  8.1892e-02,  4.3651e-03,  3.5652e-02, -3.1598e-02,\n",
       "        -3.0015e-03,  2.3394e-03, -3.4103e-02, -1.0428e-01, -7.4609e-02,\n",
       "        -3.2771e-02,  5.8752e-04, -3.1034e-02, -4.2758e-02,  1.4308e-02,\n",
       "         4.3556e-02,  3.1214e-03,  3.8809e-02,  8.7630e-03, -3.2850e-02,\n",
       "        -4.8982e-02, -4.6636e-02,  3.3463e-03,  2.6178e-02, -1.9793e-04,\n",
       "         2.6503e-03, -1.9475e-02, -1.5966e-02, -4.9509e-03, -1.0428e-02,\n",
       "         8.4039e-03,  1.4474e-02,  6.8281e-03, -2.0250e-03,  4.1645e-02,\n",
       "         2.2434e-02,  8.3649e-03,  5.3373e-03, -2.1442e-02, -1.4085e-02,\n",
       "         1.4462e-03, -1.3165e-02, -1.7168e-02,  1.8298e-02,  1.3340e-02,\n",
       "         1.0532e-02,  3.5840e-03, -1.4201e-02,  1.5852e-03,  5.6496e-03,\n",
       "         1.1268e-03,  8.3604e-03, -1.0405e-02, -2.3155e-02, -1.4863e-03,\n",
       "         1.2428e-02,  1.2916e-02, -7.3112e-03, -9.2212e-04, -3.2459e-03,\n",
       "        -6.0453e-04, -3.2126e-03, -1.0938e-02,  8.9277e-03,  3.2276e-03,\n",
       "        -5.0987e-03, -7.0909e-03, -1.1726e-03,  3.8593e-04, -5.4611e-03,\n",
       "         6.0920e-03, -7.6695e-03, -1.0569e-02,  4.3276e-03,  6.9243e-03,\n",
       "        -3.0965e-03,  3.2927e-03, -5.8396e-04, -6.9820e-03, -2.1732e-03,\n",
       "         2.9112e-03,  4.0939e-03, -2.1705e-03, -4.4819e-03,  1.4986e-03,\n",
       "         1.0853e-02, -9.4075e-03, -8.0820e-05,  2.1103e-03, -2.7558e-03,\n",
       "        -3.5275e-03,  1.1287e-03,  5.3302e-04, -9.2894e-03, -1.1291e-03,\n",
       "        -7.5606e-03, -5.5336e-03,  6.0607e-04, -4.1337e-03, -1.3327e-03,\n",
       "        -2.1530e-03,  6.8527e-04,  3.0269e-03, -6.9552e-03, -4.2059e-04,\n",
       "         2.2327e-04,  3.3520e-03, -5.1075e-03, -2.4701e-03,  1.0490e-03,\n",
       "         4.1744e-03, -2.0950e-04, -2.4810e-03, -2.9162e-03,  3.3638e-03,\n",
       "         8.9338e-04,  1.4517e-03, -1.7775e-03,  2.1789e-04,  7.0099e-04,\n",
       "        -5.3421e-03,  1.3257e-03,  6.0459e-03,  9.6790e-04, -2.9469e-03,\n",
       "         1.9583e-04,  1.1942e-03, -8.6879e-03, -4.3566e-03,  7.1304e-04,\n",
       "        -3.1313e-03,  1.1335e-03, -6.5520e-03,  5.0878e-04,  3.9856e-03,\n",
       "        -1.4687e-03, -2.3782e-03, -2.6757e-03, -3.1201e-04,  6.5180e-03,\n",
       "         2.7893e-03,  1.2903e-03, -2.3902e-03,  1.1708e-03,  1.0160e-03,\n",
       "        -2.8683e-03,  8.0820e-04,  7.5740e-04,  3.5402e-03,  2.3055e-03,\n",
       "        -8.7640e-03,  2.4335e-03,  1.0509e-03, -1.2545e-03,  1.5127e-03,\n",
       "         2.1443e-03, -4.2808e-04, -5.6361e-04,  1.2289e-03,  7.9354e-04,\n",
       "         2.4445e-03,  3.9420e-03, -3.0349e-03, -7.9444e-05, -4.7243e-04,\n",
       "        -1.4665e-03,  5.6258e-05,  4.4360e-03, -3.8088e-03, -5.9678e-03,\n",
       "         1.3787e-03,  4.6290e-03,  4.4335e-04,  4.5676e-03,  1.0914e-03,\n",
       "        -3.1842e-03,  6.7275e-04, -7.9227e-05,  5.7974e-04,  1.7170e-03,\n",
       "         2.6432e-03, -1.3958e-03,  1.4717e-03, -1.3874e-03,  2.6474e-03,\n",
       "        -3.6147e-03,  8.2223e-04, -1.5455e-03, -1.8677e-03, -3.5917e-03,\n",
       "        -2.0116e-03,  2.6416e-03, -5.0283e-03, -1.7239e-03,  9.3847e-04,\n",
       "         3.5525e-03,  1.2083e-03,  1.1197e-03,  3.5590e-03,  1.6030e-04,\n",
       "        -1.5312e-03,  1.4587e-03, -3.1730e-04,  2.9977e-03, -1.2964e-03,\n",
       "         2.9821e-03, -2.8024e-03, -1.0883e-03,  3.3125e-03,  2.1053e-03,\n",
       "         4.3536e-04, -1.8524e-03, -2.2474e-03, -6.9475e-06, -1.7138e-03,\n",
       "         1.3107e-03, -1.2008e-03,  2.9244e-03, -2.0098e-03,  8.6277e-04,\n",
       "        -8.0423e-04,  3.6294e-03, -1.0964e-03, -8.6337e-04, -4.1995e-03,\n",
       "         1.9011e-03, -1.2851e-03,  3.1524e-03, -1.8121e-03, -3.7491e-03,\n",
       "         2.2137e-03,  3.4670e-03, -4.5774e-04, -3.2486e-03,  4.1205e-03,\n",
       "        -3.0164e-03, -3.8414e-04, -1.7475e-03,  5.6130e-04, -7.6766e-04,\n",
       "        -3.1755e-03,  6.0254e-04, -1.1871e-03, -2.2041e-03,  3.7637e-03,\n",
       "         2.0884e-03,  5.9821e-04, -2.8376e-03,  2.7442e-03, -1.0957e-03,\n",
       "        -2.6698e-04,  3.8135e-03,  2.1130e-03, -1.1261e-03, -3.0807e-03,\n",
       "        -3.2548e-03,  3.5591e-04,  5.8467e-04, -4.5425e-03, -2.4147e-03])"
      ]
     },
     "execution_count": 25,
     "metadata": {},
     "output_type": "execute_result"
    }
   ],
   "source": [
    "test_x"
   ]
  },
  {
   "cell_type": "markdown",
   "metadata": {},
   "source": [
    "# Get the information in gen_model.ipynb"
   ]
  },
  {
   "cell_type": "code",
   "execution_count": 26,
   "metadata": {
    "pycharm": {
     "name": "#%%\n"
    },
    "scrolled": true
   },
   "outputs": [
    {
     "name": "stdout",
     "output_type": "stream",
     "text": [
      "(143613, 7)\n",
      "(15958, 7)\n"
     ]
    },
    {
     "name": "stderr",
     "output_type": "stream",
     "text": [
      "/Users/tegochang/opt/miniconda3/lib/python3.9/site-packages/sklearn/feature_extraction/text.py:1208: UserWarning: Upper case characters found in vocabulary while 'lowercase' is True. These entries will not be matched with any documents\n",
      "  warnings.warn(\n"
     ]
    },
    {
     "name": "stdout",
     "output_type": "stream",
     "text": [
      "wachowskis\n",
      "(41, 6)\n"
     ]
    }
   ],
   "source": [
    "%run gen_model.ipynb\n"
   ]
  },
  {
   "cell_type": "code",
   "execution_count": 27,
   "metadata": {},
   "outputs": [],
   "source": [
    "w1 = np.argmax(np.random.dirichlet(distr[40], 30), axis=1) # class 0~40"
   ]
  },
  {
   "cell_type": "code",
   "execution_count": 28,
   "metadata": {},
   "outputs": [],
   "source": [
    "sentence = []\n",
    "for i in w1:\n",
    "    sentence.append(tf_idf.get_feature_names_out()[i])"
   ]
  },
  {
   "cell_type": "code",
   "execution_count": 29,
   "metadata": {},
   "outputs": [
    {
     "data": {
      "text/plain": [
       "'kiro pragmatics atlantean bestowing affect wackywizzlepenis reasonalbe ofencive grisone snooty 631687958437871616 discussfull internally lankybugger 1891 warmed iceo plumcouch liberalisation horvat transduction kavirajamarga wold negev bowden rhetorically bredolab progenitor amicus pprivate'"
      ]
     },
     "execution_count": 29,
     "metadata": {},
     "output_type": "execute_result"
    }
   ],
   "source": [
    "synthetic_s = \" \".join(sentence)\n",
    "synthetic_s"
   ]
  },
  {
   "cell_type": "code",
   "execution_count": 30,
   "metadata": {},
   "outputs": [
    {
     "name": "stderr",
     "output_type": "stream",
     "text": [
      "/Users/tegochang/opt/miniconda3/lib/python3.9/site-packages/sklearn/feature_extraction/text.py:1208: UserWarning: Upper case characters found in vocabulary while 'lowercase' is True. These entries will not be matched with any documents\n",
      "  warnings.warn(\n"
     ]
    },
    {
     "data": {
      "text/plain": [
       "(1, 300)"
      ]
     },
     "execution_count": 30,
     "metadata": {},
     "output_type": "execute_result"
    }
   ],
   "source": [
    "# X_valid = tf_idf.transform(valid_df.comment_text.to_numpy()) \n",
    "# X_300_valid = pca_300.transform(X_valid)\n",
    "# class TfValidDataset(): X_300_valid \n",
    "# valset = TfValidDataset() \n",
    "# test_x = valset[100] \n",
    "# pred_y = fc_model(test_x)\n",
    "# import tensorflow as tf\n",
    "\n",
    "synthetic_l = [synthetic_s, 1, 1, 1, 1, 1, 1]\n",
    "# synthetic_l = [str (item) for item in synthetic_l]\n",
    "synthetic_df = pd.DataFrame([synthetic_l], columns=['comment_text', 'toxic', \"severe_toxic\", \n",
    "                                                  \"obscene\", \"threat\", \"insult\", \"identity_hate\"])\n",
    "synthetic = tf_idf.transform(synthetic_df.comment_text.to_numpy())\n",
    "synthetic_300 = pca_300.transform(synthetic)\n",
    "\n",
    "type(X_300_valid)\n",
    "len(X_300_valid)\n",
    "X_300_valid.shape\n",
    "synthetic_df\n",
    "synthetic.shape\n",
    "synthetic_300.shape"
   ]
  },
  {
   "cell_type": "code",
   "execution_count": 31,
   "metadata": {},
   "outputs": [
    {
     "data": {
      "text/plain": [
       "(1, 300)"
      ]
     },
     "execution_count": 31,
     "metadata": {},
     "output_type": "execute_result"
    }
   ],
   "source": [
    "# synthetic_df\n",
    "# synthetic_l\n",
    "# synthetic\n",
    "synthetic_300.shape\n",
    "# type(synthetic_300)"
   ]
  },
  {
   "cell_type": "code",
   "execution_count": 32,
   "metadata": {},
   "outputs": [],
   "source": [
    "class TfSynDataset(Dataset):\n",
    "    def __init__(self):\n",
    "        self.x = synthetic_300\n",
    "        self.y = synthetic_df.iloc[:, 1:]\n",
    "\n",
    "    def __getitem__(self, item):\n",
    "        label = torch.tensor(self.y.iloc[item].tolist(), dtype=torch.float32)\n",
    "        x = torch.tensor(self.x[item], dtype=torch.float32)\n",
    "        return x, label\n",
    "\n",
    "    def __len__(self):\n",
    "        return len(self.x)"
   ]
  },
  {
   "cell_type": "code",
   "execution_count": 33,
   "metadata": {},
   "outputs": [
    {
     "data": {
      "text/plain": [
       "tensor([1., 1., 1., 1., 1., 1.])"
      ]
     },
     "execution_count": 33,
     "metadata": {},
     "output_type": "execute_result"
    }
   ],
   "source": [
    "valset_syn = TfSynDataset() \n",
    "test_x_syn, test_y_syn = valset_syn[0]\n",
    "test_x_syn.shape\n",
    "test_y_syn.shape\n",
    "\n",
    "test_y_syn\n",
    "# test_x_syn\n",
    "# len(test_x_syn)\n",
    "# len(valset_syn)\n",
    "# type(valset_syn)\n",
    "# test_x"
   ]
  },
  {
   "cell_type": "code",
   "execution_count": 34,
   "metadata": {},
   "outputs": [
    {
     "data": {
      "text/plain": [
       "tensor([0.1431, 0.0036, 0.0635, 0.0006, 0.0360, 0.0072])"
      ]
     },
     "execution_count": 34,
     "metadata": {},
     "output_type": "execute_result"
    }
   ],
   "source": [
    "pred_y_syn = fc_model(test_x_syn)\n",
    "pred_y_syn\n",
    "torch.sigmoid(pred_y_syn).data"
   ]
  },
  {
   "cell_type": "code",
   "execution_count": 35,
   "metadata": {},
   "outputs": [
    {
     "data": {
      "text/plain": [
       "tensor([False, False, False, False, False, False])"
      ]
     },
     "execution_count": 35,
     "metadata": {},
     "output_type": "execute_result"
    }
   ],
   "source": [
    "torch.sigmoid(pred_y_syn).data > 0.5\n",
    "# try to have similar dataframe as LDA 171"
   ]
  },
  {
   "cell_type": "markdown",
   "metadata": {},
   "source": [
    "# Train and make predictions based on the Synthetic data from LDA"
   ]
  },
  {
   "cell_type": "code",
   "execution_count": 36,
   "metadata": {},
   "outputs": [
    {
     "data": {
      "text/html": [
       "<div>\n",
       "<style scoped>\n",
       "    .dataframe tbody tr th:only-of-type {\n",
       "        vertical-align: middle;\n",
       "    }\n",
       "\n",
       "    .dataframe tbody tr th {\n",
       "        vertical-align: top;\n",
       "    }\n",
       "\n",
       "    .dataframe thead th {\n",
       "        text-align: right;\n",
       "    }\n",
       "</style>\n",
       "<table border=\"1\" class=\"dataframe\">\n",
       "  <thead>\n",
       "    <tr style=\"text-align: right;\">\n",
       "      <th></th>\n",
       "      <th>Unnamed: 0</th>\n",
       "      <th>0</th>\n",
       "      <th>1</th>\n",
       "      <th>pred_LDA_tpc_1</th>\n",
       "      <th>pred_LDA_tpc_2</th>\n",
       "      <th>pred_LDA_tpc_3</th>\n",
       "      <th>pred_LDA_tpc_4</th>\n",
       "      <th>pred_LDA_tpc_5</th>\n",
       "      <th>pred_LDA_tpc_6</th>\n",
       "      <th>syn_tpc_1</th>\n",
       "      <th>syn_tpc_2</th>\n",
       "      <th>syn_tpc_3</th>\n",
       "      <th>syn_tpc_4</th>\n",
       "      <th>syn_tpc_5</th>\n",
       "      <th>syn_tpc_6</th>\n",
       "    </tr>\n",
       "  </thead>\n",
       "  <tbody>\n",
       "    <tr>\n",
       "      <th>0</th>\n",
       "      <td>0</td>\n",
       "      <td>[0.0579, 0.7505, 0.0, 0.1916, 0.0, 0.0]</td>\n",
       "      <td>['james', 'present', 'malik', 'photo', 'film',...</td>\n",
       "      <td>0.152410</td>\n",
       "      <td>0.548180</td>\n",
       "      <td>0.031261</td>\n",
       "      <td>0.149621</td>\n",
       "      <td>0.063910</td>\n",
       "      <td>0.054619</td>\n",
       "      <td>0.0579</td>\n",
       "      <td>0.7505</td>\n",
       "      <td>0.0000</td>\n",
       "      <td>0.1916</td>\n",
       "      <td>0.0000</td>\n",
       "      <td>0.0000</td>\n",
       "    </tr>\n",
       "    <tr>\n",
       "      <th>1</th>\n",
       "      <td>1</td>\n",
       "      <td>[0.0159, 0.1895, 0.0, 0.0272, 0.766, 0.0014]</td>\n",
       "      <td>['languages', 'mistakes', 'bad_admin', 'langua...</td>\n",
       "      <td>0.132412</td>\n",
       "      <td>0.215012</td>\n",
       "      <td>0.026278</td>\n",
       "      <td>0.064239</td>\n",
       "      <td>0.521346</td>\n",
       "      <td>0.040710</td>\n",
       "      <td>0.0159</td>\n",
       "      <td>0.1895</td>\n",
       "      <td>0.0000</td>\n",
       "      <td>0.0272</td>\n",
       "      <td>0.7660</td>\n",
       "      <td>0.0014</td>\n",
       "    </tr>\n",
       "    <tr>\n",
       "      <th>2</th>\n",
       "      <td>2</td>\n",
       "      <td>[0.0077, 0.1646, 0.0275, 0.0397, 0.0376, 0.723]</td>\n",
       "      <td>['hearts', 'sung', 'greater', 'sack', 'chink',...</td>\n",
       "      <td>0.153572</td>\n",
       "      <td>0.120299</td>\n",
       "      <td>0.030348</td>\n",
       "      <td>0.151554</td>\n",
       "      <td>0.125006</td>\n",
       "      <td>0.419216</td>\n",
       "      <td>0.0077</td>\n",
       "      <td>0.1646</td>\n",
       "      <td>0.0275</td>\n",
       "      <td>0.0397</td>\n",
       "      <td>0.0376</td>\n",
       "      <td>0.7230</td>\n",
       "    </tr>\n",
       "    <tr>\n",
       "      <th>3</th>\n",
       "      <td>3</td>\n",
       "      <td>[0.1697, 0.1217, 0.7048, 0.0017, 0.0015, 0.0005]</td>\n",
       "      <td>['croatian', 'prick', 'film', 'body', 'little'...</td>\n",
       "      <td>0.240270</td>\n",
       "      <td>0.195757</td>\n",
       "      <td>0.400764</td>\n",
       "      <td>0.070901</td>\n",
       "      <td>0.050093</td>\n",
       "      <td>0.042216</td>\n",
       "      <td>0.1697</td>\n",
       "      <td>0.1217</td>\n",
       "      <td>0.7048</td>\n",
       "      <td>0.0017</td>\n",
       "      <td>0.0015</td>\n",
       "      <td>0.0005</td>\n",
       "    </tr>\n",
       "    <tr>\n",
       "      <th>4</th>\n",
       "      <td>4</td>\n",
       "      <td>[0.8724, 0.0344, 0.0586, 0.0342, 0.0, 0.0005]</td>\n",
       "      <td>['something', 'administrator', 'little', 'mod'...</td>\n",
       "      <td>0.753239</td>\n",
       "      <td>0.013188</td>\n",
       "      <td>0.028092</td>\n",
       "      <td>0.114008</td>\n",
       "      <td>0.049017</td>\n",
       "      <td>0.042455</td>\n",
       "      <td>0.8724</td>\n",
       "      <td>0.0344</td>\n",
       "      <td>0.0586</td>\n",
       "      <td>0.0342</td>\n",
       "      <td>0.0000</td>\n",
       "      <td>0.0005</td>\n",
       "    </tr>\n",
       "  </tbody>\n",
       "</table>\n",
       "</div>"
      ],
      "text/plain": [
       "   Unnamed: 0                                                 0  \\\n",
       "0           0           [0.0579, 0.7505, 0.0, 0.1916, 0.0, 0.0]   \n",
       "1           1      [0.0159, 0.1895, 0.0, 0.0272, 0.766, 0.0014]   \n",
       "2           2   [0.0077, 0.1646, 0.0275, 0.0397, 0.0376, 0.723]   \n",
       "3           3  [0.1697, 0.1217, 0.7048, 0.0017, 0.0015, 0.0005]   \n",
       "4           4     [0.8724, 0.0344, 0.0586, 0.0342, 0.0, 0.0005]   \n",
       "\n",
       "                                                   1  pred_LDA_tpc_1  \\\n",
       "0  ['james', 'present', 'malik', 'photo', 'film',...        0.152410   \n",
       "1  ['languages', 'mistakes', 'bad_admin', 'langua...        0.132412   \n",
       "2  ['hearts', 'sung', 'greater', 'sack', 'chink',...        0.153572   \n",
       "3  ['croatian', 'prick', 'film', 'body', 'little'...        0.240270   \n",
       "4  ['something', 'administrator', 'little', 'mod'...        0.753239   \n",
       "\n",
       "   pred_LDA_tpc_2  pred_LDA_tpc_3  pred_LDA_tpc_4  pred_LDA_tpc_5  \\\n",
       "0        0.548180        0.031261        0.149621        0.063910   \n",
       "1        0.215012        0.026278        0.064239        0.521346   \n",
       "2        0.120299        0.030348        0.151554        0.125006   \n",
       "3        0.195757        0.400764        0.070901        0.050093   \n",
       "4        0.013188        0.028092        0.114008        0.049017   \n",
       "\n",
       "   pred_LDA_tpc_6  syn_tpc_1  syn_tpc_2  syn_tpc_3  syn_tpc_4  syn_tpc_5  \\\n",
       "0        0.054619     0.0579     0.7505     0.0000     0.1916     0.0000   \n",
       "1        0.040710     0.0159     0.1895     0.0000     0.0272     0.7660   \n",
       "2        0.419216     0.0077     0.1646     0.0275     0.0397     0.0376   \n",
       "3        0.042216     0.1697     0.1217     0.7048     0.0017     0.0015   \n",
       "4        0.042455     0.8724     0.0344     0.0586     0.0342     0.0000   \n",
       "\n",
       "   syn_tpc_6  \n",
       "0     0.0000  \n",
       "1     0.0014  \n",
       "2     0.7230  \n",
       "3     0.0005  \n",
       "4     0.0005  "
      ]
     },
     "execution_count": 36,
     "metadata": {},
     "output_type": "execute_result"
    }
   ],
   "source": [
    "df_syn = pd.read_csv(\"./synthetic_LDA.csv\")\n",
    "df_syn.head()"
   ]
  },
  {
   "cell_type": "code",
   "execution_count": 37,
   "metadata": {},
   "outputs": [
    {
     "data": {
      "text/plain": [
       "'james present malik photo film modern present wanker_wanker present eat film wanker_wanker confirmed spam confirmed fat_jew confirmed malik remind raw hanibal unnecessary turkish religious pleasee semite'"
      ]
     },
     "execution_count": 37,
     "metadata": {},
     "output_type": "execute_result"
    }
   ],
   "source": [
    "sent_lst_raw = df_syn.iloc[0, 2].strip('][').split(', ')\n",
    "sent_lst = [word.strip('\\'\\'') for word in sent_lst_raw]\n",
    "\" \".join(sent_lst)\n"
   ]
  },
  {
   "cell_type": "code",
   "execution_count": 38,
   "metadata": {},
   "outputs": [
    {
     "data": {
      "text/html": [
       "<div>\n",
       "<style scoped>\n",
       "    .dataframe tbody tr th:only-of-type {\n",
       "        vertical-align: middle;\n",
       "    }\n",
       "\n",
       "    .dataframe tbody tr th {\n",
       "        vertical-align: top;\n",
       "    }\n",
       "\n",
       "    .dataframe thead th {\n",
       "        text-align: right;\n",
       "    }\n",
       "</style>\n",
       "<table border=\"1\" class=\"dataframe\">\n",
       "  <thead>\n",
       "    <tr style=\"text-align: right;\">\n",
       "      <th></th>\n",
       "      <th>Unnamed: 0</th>\n",
       "      <th>0</th>\n",
       "      <th>1</th>\n",
       "      <th>pred_LDA_tpc_1</th>\n",
       "      <th>pred_LDA_tpc_2</th>\n",
       "      <th>pred_LDA_tpc_3</th>\n",
       "      <th>pred_LDA_tpc_4</th>\n",
       "      <th>pred_LDA_tpc_5</th>\n",
       "      <th>pred_LDA_tpc_6</th>\n",
       "      <th>syn_tpc_1</th>\n",
       "      <th>syn_tpc_2</th>\n",
       "      <th>syn_tpc_3</th>\n",
       "      <th>syn_tpc_4</th>\n",
       "      <th>syn_tpc_5</th>\n",
       "      <th>syn_tpc_6</th>\n",
       "      <th>synthetic_comment</th>\n",
       "    </tr>\n",
       "  </thead>\n",
       "  <tbody>\n",
       "    <tr>\n",
       "      <th>0</th>\n",
       "      <td>0</td>\n",
       "      <td>[0.0579, 0.7505, 0.0, 0.1916, 0.0, 0.0]</td>\n",
       "      <td>['james', 'present', 'malik', 'photo', 'film',...</td>\n",
       "      <td>0.152410</td>\n",
       "      <td>0.548180</td>\n",
       "      <td>0.031261</td>\n",
       "      <td>0.149621</td>\n",
       "      <td>0.063910</td>\n",
       "      <td>0.054619</td>\n",
       "      <td>0.0579</td>\n",
       "      <td>0.7505</td>\n",
       "      <td>0.0000</td>\n",
       "      <td>0.1916</td>\n",
       "      <td>0.0000</td>\n",
       "      <td>0.0000</td>\n",
       "      <td>james present malik photo film modern present ...</td>\n",
       "    </tr>\n",
       "    <tr>\n",
       "      <th>1</th>\n",
       "      <td>1</td>\n",
       "      <td>[0.0159, 0.1895, 0.0, 0.0272, 0.766, 0.0014]</td>\n",
       "      <td>['languages', 'mistakes', 'bad_admin', 'langua...</td>\n",
       "      <td>0.132412</td>\n",
       "      <td>0.215012</td>\n",
       "      <td>0.026278</td>\n",
       "      <td>0.064239</td>\n",
       "      <td>0.521346</td>\n",
       "      <td>0.040710</td>\n",
       "      <td>0.0159</td>\n",
       "      <td>0.1895</td>\n",
       "      <td>0.0000</td>\n",
       "      <td>0.0272</td>\n",
       "      <td>0.7660</td>\n",
       "      <td>0.0014</td>\n",
       "      <td>languages mistakes bad_admin languages somewhe...</td>\n",
       "    </tr>\n",
       "    <tr>\n",
       "      <th>2</th>\n",
       "      <td>2</td>\n",
       "      <td>[0.0077, 0.1646, 0.0275, 0.0397, 0.0376, 0.723]</td>\n",
       "      <td>['hearts', 'sung', 'greater', 'sack', 'chink',...</td>\n",
       "      <td>0.153572</td>\n",
       "      <td>0.120299</td>\n",
       "      <td>0.030348</td>\n",
       "      <td>0.151554</td>\n",
       "      <td>0.125006</td>\n",
       "      <td>0.419216</td>\n",
       "      <td>0.0077</td>\n",
       "      <td>0.1646</td>\n",
       "      <td>0.0275</td>\n",
       "      <td>0.0397</td>\n",
       "      <td>0.0376</td>\n",
       "      <td>0.7230</td>\n",
       "      <td>hearts sung greater sack chink turkish notices...</td>\n",
       "    </tr>\n",
       "    <tr>\n",
       "      <th>3</th>\n",
       "      <td>3</td>\n",
       "      <td>[0.1697, 0.1217, 0.7048, 0.0017, 0.0015, 0.0005]</td>\n",
       "      <td>['croatian', 'prick', 'film', 'body', 'little'...</td>\n",
       "      <td>0.240270</td>\n",
       "      <td>0.195757</td>\n",
       "      <td>0.400764</td>\n",
       "      <td>0.070901</td>\n",
       "      <td>0.050093</td>\n",
       "      <td>0.042216</td>\n",
       "      <td>0.1697</td>\n",
       "      <td>0.1217</td>\n",
       "      <td>0.7048</td>\n",
       "      <td>0.0017</td>\n",
       "      <td>0.0015</td>\n",
       "      <td>0.0005</td>\n",
       "      <td>croatian prick film body little palace rohl pr...</td>\n",
       "    </tr>\n",
       "    <tr>\n",
       "      <th>4</th>\n",
       "      <td>4</td>\n",
       "      <td>[0.8724, 0.0344, 0.0586, 0.0342, 0.0, 0.0005]</td>\n",
       "      <td>['something', 'administrator', 'little', 'mod'...</td>\n",
       "      <td>0.753239</td>\n",
       "      <td>0.013188</td>\n",
       "      <td>0.028092</td>\n",
       "      <td>0.114008</td>\n",
       "      <td>0.049017</td>\n",
       "      <td>0.042455</td>\n",
       "      <td>0.8724</td>\n",
       "      <td>0.0344</td>\n",
       "      <td>0.0586</td>\n",
       "      <td>0.0342</td>\n",
       "      <td>0.0000</td>\n",
       "      <td>0.0005</td>\n",
       "      <td>something administrator little mod proof live ...</td>\n",
       "    </tr>\n",
       "    <tr>\n",
       "      <th>...</th>\n",
       "      <td>...</td>\n",
       "      <td>...</td>\n",
       "      <td>...</td>\n",
       "      <td>...</td>\n",
       "      <td>...</td>\n",
       "      <td>...</td>\n",
       "      <td>...</td>\n",
       "      <td>...</td>\n",
       "      <td>...</td>\n",
       "      <td>...</td>\n",
       "      <td>...</td>\n",
       "      <td>...</td>\n",
       "      <td>...</td>\n",
       "      <td>...</td>\n",
       "      <td>...</td>\n",
       "      <td>...</td>\n",
       "    </tr>\n",
       "    <tr>\n",
       "      <th>115</th>\n",
       "      <td>115</td>\n",
       "      <td>[0.1607, 0.299, 0.5345, 0.0, 0.0001, 0.0057]</td>\n",
       "      <td>['prick', 'wanker_wanker', 'huge', 'shovel', '...</td>\n",
       "      <td>0.160478</td>\n",
       "      <td>0.230286</td>\n",
       "      <td>0.403433</td>\n",
       "      <td>0.078970</td>\n",
       "      <td>0.065269</td>\n",
       "      <td>0.061560</td>\n",
       "      <td>0.1607</td>\n",
       "      <td>0.2990</td>\n",
       "      <td>0.5345</td>\n",
       "      <td>0.0000</td>\n",
       "      <td>0.0001</td>\n",
       "      <td>0.0057</td>\n",
       "      <td>prick wanker_wanker huge shovel yall fat_jew m...</td>\n",
       "    </tr>\n",
       "    <tr>\n",
       "      <th>116</th>\n",
       "      <td>116</td>\n",
       "      <td>[0.0433, 0.0831, 0.0021, 0.2235, 0.059, 0.589]</td>\n",
       "      <td>['pride', 'interfering', 'shock', 'shared_ip',...</td>\n",
       "      <td>0.204000</td>\n",
       "      <td>0.070690</td>\n",
       "      <td>0.026505</td>\n",
       "      <td>0.139487</td>\n",
       "      <td>0.146643</td>\n",
       "      <td>0.412674</td>\n",
       "      <td>0.0433</td>\n",
       "      <td>0.0831</td>\n",
       "      <td>0.0021</td>\n",
       "      <td>0.2235</td>\n",
       "      <td>0.0590</td>\n",
       "      <td>0.5890</td>\n",
       "      <td>pride interfering shock shared_ip wwe next for...</td>\n",
       "    </tr>\n",
       "    <tr>\n",
       "      <th>117</th>\n",
       "      <td>117</td>\n",
       "      <td>[0.0335, 0.0244, 0.0233, 0.7902, 0.0941, 0.0345]</td>\n",
       "      <td>['doesnt', 'aint', 'amor', 'motherfucking', 'b...</td>\n",
       "      <td>0.166020</td>\n",
       "      <td>0.013627</td>\n",
       "      <td>0.033512</td>\n",
       "      <td>0.667258</td>\n",
       "      <td>0.071898</td>\n",
       "      <td>0.047682</td>\n",
       "      <td>0.0335</td>\n",
       "      <td>0.0244</td>\n",
       "      <td>0.0233</td>\n",
       "      <td>0.7902</td>\n",
       "      <td>0.0941</td>\n",
       "      <td>0.0345</td>\n",
       "      <td>doesnt aint amor motherfucking bite lying id e...</td>\n",
       "    </tr>\n",
       "    <tr>\n",
       "      <th>118</th>\n",
       "      <td>118</td>\n",
       "      <td>[0.0041, 0.5971, 0.2041, 0.1688, 0.0003, 0.0257]</td>\n",
       "      <td>['turkish', 'wanker_wanker', 'present', 'turki...</td>\n",
       "      <td>0.123534</td>\n",
       "      <td>0.399221</td>\n",
       "      <td>0.130337</td>\n",
       "      <td>0.243468</td>\n",
       "      <td>0.055310</td>\n",
       "      <td>0.048129</td>\n",
       "      <td>0.0041</td>\n",
       "      <td>0.5971</td>\n",
       "      <td>0.2041</td>\n",
       "      <td>0.1688</td>\n",
       "      <td>0.0003</td>\n",
       "      <td>0.0257</td>\n",
       "      <td>turkish wanker_wanker present turkish spam mod...</td>\n",
       "    </tr>\n",
       "    <tr>\n",
       "      <th>119</th>\n",
       "      <td>119</td>\n",
       "      <td>[0.0115, 0.0097, 0.2429, 0.02, 0.087, 0.629]</td>\n",
       "      <td>['tong', 'mah', 'password', 'brutally', 'terri...</td>\n",
       "      <td>0.127629</td>\n",
       "      <td>0.011559</td>\n",
       "      <td>0.230101</td>\n",
       "      <td>0.066962</td>\n",
       "      <td>0.232311</td>\n",
       "      <td>0.331426</td>\n",
       "      <td>0.0115</td>\n",
       "      <td>0.0097</td>\n",
       "      <td>0.2429</td>\n",
       "      <td>0.0200</td>\n",
       "      <td>0.0870</td>\n",
       "      <td>0.6290</td>\n",
       "      <td>tong mah password brutally terribly trusted db...</td>\n",
       "    </tr>\n",
       "  </tbody>\n",
       "</table>\n",
       "<p>120 rows × 16 columns</p>\n",
       "</div>"
      ],
      "text/plain": [
       "     Unnamed: 0                                                 0  \\\n",
       "0             0           [0.0579, 0.7505, 0.0, 0.1916, 0.0, 0.0]   \n",
       "1             1      [0.0159, 0.1895, 0.0, 0.0272, 0.766, 0.0014]   \n",
       "2             2   [0.0077, 0.1646, 0.0275, 0.0397, 0.0376, 0.723]   \n",
       "3             3  [0.1697, 0.1217, 0.7048, 0.0017, 0.0015, 0.0005]   \n",
       "4             4     [0.8724, 0.0344, 0.0586, 0.0342, 0.0, 0.0005]   \n",
       "..          ...                                               ...   \n",
       "115         115      [0.1607, 0.299, 0.5345, 0.0, 0.0001, 0.0057]   \n",
       "116         116    [0.0433, 0.0831, 0.0021, 0.2235, 0.059, 0.589]   \n",
       "117         117  [0.0335, 0.0244, 0.0233, 0.7902, 0.0941, 0.0345]   \n",
       "118         118  [0.0041, 0.5971, 0.2041, 0.1688, 0.0003, 0.0257]   \n",
       "119         119      [0.0115, 0.0097, 0.2429, 0.02, 0.087, 0.629]   \n",
       "\n",
       "                                                     1  pred_LDA_tpc_1  \\\n",
       "0    ['james', 'present', 'malik', 'photo', 'film',...        0.152410   \n",
       "1    ['languages', 'mistakes', 'bad_admin', 'langua...        0.132412   \n",
       "2    ['hearts', 'sung', 'greater', 'sack', 'chink',...        0.153572   \n",
       "3    ['croatian', 'prick', 'film', 'body', 'little'...        0.240270   \n",
       "4    ['something', 'administrator', 'little', 'mod'...        0.753239   \n",
       "..                                                 ...             ...   \n",
       "115  ['prick', 'wanker_wanker', 'huge', 'shovel', '...        0.160478   \n",
       "116  ['pride', 'interfering', 'shock', 'shared_ip',...        0.204000   \n",
       "117  ['doesnt', 'aint', 'amor', 'motherfucking', 'b...        0.166020   \n",
       "118  ['turkish', 'wanker_wanker', 'present', 'turki...        0.123534   \n",
       "119  ['tong', 'mah', 'password', 'brutally', 'terri...        0.127629   \n",
       "\n",
       "     pred_LDA_tpc_2  pred_LDA_tpc_3  pred_LDA_tpc_4  pred_LDA_tpc_5  \\\n",
       "0          0.548180        0.031261        0.149621        0.063910   \n",
       "1          0.215012        0.026278        0.064239        0.521346   \n",
       "2          0.120299        0.030348        0.151554        0.125006   \n",
       "3          0.195757        0.400764        0.070901        0.050093   \n",
       "4          0.013188        0.028092        0.114008        0.049017   \n",
       "..              ...             ...             ...             ...   \n",
       "115        0.230286        0.403433        0.078970        0.065269   \n",
       "116        0.070690        0.026505        0.139487        0.146643   \n",
       "117        0.013627        0.033512        0.667258        0.071898   \n",
       "118        0.399221        0.130337        0.243468        0.055310   \n",
       "119        0.011559        0.230101        0.066962        0.232311   \n",
       "\n",
       "     pred_LDA_tpc_6  syn_tpc_1  syn_tpc_2  syn_tpc_3  syn_tpc_4  syn_tpc_5  \\\n",
       "0          0.054619     0.0579     0.7505     0.0000     0.1916     0.0000   \n",
       "1          0.040710     0.0159     0.1895     0.0000     0.0272     0.7660   \n",
       "2          0.419216     0.0077     0.1646     0.0275     0.0397     0.0376   \n",
       "3          0.042216     0.1697     0.1217     0.7048     0.0017     0.0015   \n",
       "4          0.042455     0.8724     0.0344     0.0586     0.0342     0.0000   \n",
       "..              ...        ...        ...        ...        ...        ...   \n",
       "115        0.061560     0.1607     0.2990     0.5345     0.0000     0.0001   \n",
       "116        0.412674     0.0433     0.0831     0.0021     0.2235     0.0590   \n",
       "117        0.047682     0.0335     0.0244     0.0233     0.7902     0.0941   \n",
       "118        0.048129     0.0041     0.5971     0.2041     0.1688     0.0003   \n",
       "119        0.331426     0.0115     0.0097     0.2429     0.0200     0.0870   \n",
       "\n",
       "     syn_tpc_6                                  synthetic_comment  \n",
       "0       0.0000  james present malik photo film modern present ...  \n",
       "1       0.0014  languages mistakes bad_admin languages somewhe...  \n",
       "2       0.7230  hearts sung greater sack chink turkish notices...  \n",
       "3       0.0005  croatian prick film body little palace rohl pr...  \n",
       "4       0.0005  something administrator little mod proof live ...  \n",
       "..         ...                                                ...  \n",
       "115     0.0057  prick wanker_wanker huge shovel yall fat_jew m...  \n",
       "116     0.5890  pride interfering shock shared_ip wwe next for...  \n",
       "117     0.0345  doesnt aint amor motherfucking bite lying id e...  \n",
       "118     0.0257  turkish wanker_wanker present turkish spam mod...  \n",
       "119     0.6290  tong mah password brutally terribly trusted db...  \n",
       "\n",
       "[120 rows x 16 columns]"
      ]
     },
     "execution_count": 38,
     "metadata": {},
     "output_type": "execute_result"
    }
   ],
   "source": [
    "df_syn['synthetic_comment'] = \"TBA\"\n",
    "for row_ind in range(len(df_syn)):\n",
    "    sent_lst_raw = df_syn.iloc[row_ind, 2].strip('][').split(', ')\n",
    "    sent_lst = [word.strip('\\'\\'') for word in sent_lst_raw]\n",
    "    df_syn.iloc[row_ind, -1] = \" \".join(sent_lst)\n",
    "\n",
    "df_syn['synthetic_comment']\n",
    "df_syn"
   ]
  },
  {
   "cell_type": "code",
   "execution_count": 39,
   "metadata": {},
   "outputs": [
    {
     "name": "stderr",
     "output_type": "stream",
     "text": [
      "/Users/tegochang/opt/miniconda3/lib/python3.9/site-packages/sklearn/feature_extraction/text.py:1208: UserWarning: Upper case characters found in vocabulary while 'lowercase' is True. These entries will not be matched with any documents\n",
      "  warnings.warn(\n"
     ]
    }
   ],
   "source": [
    "# synthetic_l = [synthetic_s, 1, 1, 1, 1, 1, 1]\n",
    "# # synthetic_l = [str (item) for item in synthetic_l]\n",
    "# synthetic_df = pd.DataFrame([synthetic_l], columns=['comment_text', 'toxic', \"severe_toxic\", \n",
    "#                                                   \"obscene\", \"threat\", \"insult\", \"identity_hate\"])\n",
    "synthetic_LDA = tf_idf.transform(df_syn.synthetic_comment.to_numpy())\n",
    "synthetic_LDA_300 = pca_300.transform(synthetic_LDA)"
   ]
  },
  {
   "cell_type": "code",
   "execution_count": 40,
   "metadata": {},
   "outputs": [
    {
     "data": {
      "text/plain": [
       "(120, 300)"
      ]
     },
     "execution_count": 40,
     "metadata": {},
     "output_type": "execute_result"
    }
   ],
   "source": [
    "synthetic_LDA.shape\n",
    "synthetic_LDA_300.shape"
   ]
  },
  {
   "cell_type": "code",
   "execution_count": 41,
   "metadata": {},
   "outputs": [],
   "source": [
    "class TfSynLDADataset(Dataset):\n",
    "    def __init__(self):\n",
    "        self.x = synthetic_LDA_300\n",
    "        self.y = df_syn.iloc[:, 9:15]\n",
    "\n",
    "    def __getitem__(self, item):\n",
    "        label = torch.tensor(self.y.iloc[item].tolist(), dtype=torch.float32)\n",
    "        x = torch.tensor(self.x[item], dtype=torch.float32)\n",
    "        return x, label\n",
    "\n",
    "    def __len__(self):\n",
    "        return len(self.x)"
   ]
  },
  {
   "cell_type": "code",
   "execution_count": 42,
   "metadata": {},
   "outputs": [],
   "source": [
    "valset_syn_LDA = TfSynLDADataset() \n",
    "test_x_syn_LDA, test_y_syn_LDA = valset_syn_LDA[119]"
   ]
  },
  {
   "cell_type": "code",
   "execution_count": 43,
   "metadata": {},
   "outputs": [
    {
     "data": {
      "text/plain": [
       "tensor([-0.0693, -4.1544, -0.9575, -6.7896, -1.7050, -4.0580],\n",
       "       grad_fn=<AddBackward0>)"
      ]
     },
     "execution_count": 43,
     "metadata": {},
     "output_type": "execute_result"
    }
   ],
   "source": [
    "pred_y_syn_LDA = fc_model(test_x_syn_LDA)\n",
    "pred_y_syn_LDA"
   ]
  },
  {
   "cell_type": "code",
   "execution_count": 44,
   "metadata": {},
   "outputs": [
    {
     "data": {
      "text/plain": [
       "tensor([0.0115, 0.0097, 0.2429, 0.0200, 0.0870, 0.6290])"
      ]
     },
     "execution_count": 44,
     "metadata": {},
     "output_type": "execute_result"
    }
   ],
   "source": [
    "test_y_syn_LDA"
   ]
  },
  {
   "cell_type": "code",
   "execution_count": 45,
   "metadata": {},
   "outputs": [
    {
     "data": {
      "text/plain": [
       "tensor([False, False, False, False, False, False])"
      ]
     },
     "execution_count": 45,
     "metadata": {},
     "output_type": "execute_result"
    }
   ],
   "source": [
    "torch.sigmoid(pred_y_syn).data > 0.5\n",
    "# ?q: why all false? suppose 119  shall have ind=2 & 5 equal to 1"
   ]
  },
  {
   "cell_type": "code",
   "execution_count": null,
   "metadata": {},
   "outputs": [],
   "source": []
  }
 ],
 "metadata": {
  "interpreter": {
   "hash": "51ec791b430524d603c47dc3bd00c3092524d64b944d0262ca74a40d5db2184a"
  },
  "kernelspec": {
   "display_name": "Python 3 (ipykernel)",
   "language": "python",
   "name": "python3"
  },
  "language_info": {
   "codemirror_mode": {
    "name": "ipython",
    "version": 3
   },
   "file_extension": ".py",
   "mimetype": "text/x-python",
   "name": "python",
   "nbconvert_exporter": "python",
   "pygments_lexer": "ipython3",
   "version": "3.9.7"
  }
 },
 "nbformat": 4,
 "nbformat_minor": 2
}
